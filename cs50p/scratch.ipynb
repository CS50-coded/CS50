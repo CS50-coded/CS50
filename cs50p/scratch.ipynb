{
 "cells": [
  {
   "cell_type": "code",
   "execution_count": null,
   "metadata": {},
   "outputs": [],
   "source": [
    "# ((k+2)n-kn)/2\n",
    "\n",
    "sides = 4\n",
    "dimensions = 3\n",
    "((sides+2)**dimensions - sides**dimensions)/2"
   ]
  },
  {
   "cell_type": "code",
   "execution_count": null,
   "metadata": {},
   "outputs": [],
   "source": [
    "\n",
    "(sides**dimensions - (sides-1)^dimensions)"
   ]
  },
  {
   "cell_type": "code",
   "execution_count": null,
   "metadata": {},
   "outputs": [],
   "source": [
    "n=2\n",
    "n*3**(n-1)"
   ]
  },
  {
   "cell_type": "code",
   "execution_count": null,
   "metadata": {},
   "outputs": [],
   "source": [
    "(5**dimensions - 3**dimensions)/2."
   ]
  },
  {
   "cell_type": "code",
   "execution_count": null,
   "metadata": {},
   "outputs": [],
   "source": [
    "from itertools import combinations, permutations\n",
    "from typing import List\n",
    "import numpy as np\n",
    "\n",
    "board_size = 5\n",
    "board_dimensions = 4\n",
    "check_sum = ((board_size + 2) ** board_dimensions - board_size**board_dimensions) // 2\n",
    "\n",
    "array = np.arange(board_size**board_dimensions).reshape(\n",
    "    board_size, *([board_size] * (board_dimensions - 1))\n",
    ")\n",
    "\n",
    "\n",
    "def reshape(array: np.ndarray, size: int = board_size):\n",
    "    reshape = np.prod(array.shape) // (size)\n",
    "    result = array.reshape(reshape, size)\n",
    "    return result\n",
    "\n",
    "def generate_diagonals(array: np.ndarray) -> np.ndarray:\n",
    "    result = []\n",
    "    board = array.copy()\n",
    "    axes = list(permutations(range(len(array.shape)), 2))\n",
    "    while axes:      \n",
    "        diagonals = reshape(np.diagonal(board))\n",
    "        result.extend(diagonals.tolist())\n",
    "        if len(diagonals) == board_size:            \n",
    "            diagonals = generate_diagonals(np.array(diagonals))\n",
    "            result.extend(diagonals)\n",
    "        array = np.rot90(board, axes=axes.pop())\n",
    "\n",
    "    return result # type: ignore\n",
    "\n",
    "result = []\n",
    "board = array.copy()\n",
    "axes = list(permutations(range(board_dimensions), 2))\n",
    "while axes:\n",
    "    result.extend(reshape(board).tolist())    \n",
    "    diags = generate_diagonals(board)\n",
    "    result.extend(diags)\n",
    "    board = np.rot90(array, axes=axes.pop())\n",
    "\n",
    "\n",
    "\n",
    "print(f\"{array=}\")\n",
    "\n",
    "result = set(tuple(sorted(item)) for item in result)\n",
    "\n",
    "print(result)\n",
    "print(f\"{check_sum == len(result)}, {check_sum = }, {len(result) = }\")"
   ]
  },
  {
   "cell_type": "code",
   "execution_count": null,
   "metadata": {},
   "outputs": [],
   "source": [
    "print(np.array([0, 4, 8]).shape)\n",
    "print(np.array([[0, 4, 8]]).shape)"
   ]
  },
  {
   "cell_type": "code",
   "execution_count": null,
   "metadata": {},
   "outputs": [],
   "source": [
    "from itertools import combinations, permutations\n",
    "from typing import List\n",
    "import numpy as np\n",
    "\n",
    "board_size = 3\n",
    "board_dimensions = 3\n",
    "check_sum = ((board_size + 2) ** board_dimensions - board_size**board_dimensions) // 2\n",
    "\n",
    "array = np.arange(board_size**board_dimensions).reshape(\n",
    "    board_size, *([board_size] * (board_dimensions - 1))\n",
    ")\n",
    "\n",
    "print(array, sep=\"\\n\")"
   ]
  },
  {
   "cell_type": "code",
   "execution_count": 21,
   "metadata": {},
   "outputs": [
    {
     "name": "stdout",
     "output_type": "stream",
     "text": [
      "[[[ 0  1  2]\n",
      "  [ 3  4  5]\n",
      "  [ 6  7  8]]\n",
      "\n",
      " [[ 9 10 11]\n",
      "  [12 13 14]\n",
      "  [15 16 17]]\n",
      "\n",
      " [[18 19 20]\n",
      "  [21 22 23]\n",
      "  [24 25 26]]]\n",
      "\n",
      "(1, 2)\n",
      "[[[ 0  1  2]\n",
      "  [ 3  4  5]\n",
      "  [ 6  7  8]]\n",
      "\n",
      " [[ 9 10 11]\n",
      "  [12 13 14]\n",
      "  [15 16 17]]\n",
      "\n",
      " [[18 19 20]\n",
      "  [21 22 23]\n",
      "  [24 25 26]]]\n",
      "tmp={(0, 4, 8), (11, 13, 15), (0, 13, 26), (2, 10, 18), (0, 12, 24), (6, 16, 26), (9, 13, 17), (0, 10, 20), (1, 13, 25), (6, 12, 18), (2, 14, 26), (5, 13, 21), (8, 16, 24), (3, 13, 23), (8, 14, 20), (7, 13, 19), (18, 22, 26), (2, 4, 6), (20, 22, 24)}\n",
      "tmp={(0, 4, 8), (11, 13, 15), (2, 10, 18), (0, 12, 24), (6, 16, 26), (9, 13, 17), (0, 10, 20), (1, 13, 25), (6, 12, 18), (2, 14, 26), (8, 16, 24), (5, 13, 21), (3, 13, 23), (8, 14, 20), (2, 13, 24), (7, 13, 19), (18, 22, 26), (2, 4, 6), (20, 22, 24)}\n",
      "tmp={(0, 4, 8), (11, 13, 15), (2, 10, 18), (0, 12, 24), (6, 16, 26), (9, 13, 17), (0, 10, 20), (1, 13, 25), (6, 12, 18), (2, 14, 26), (5, 13, 21), (8, 16, 24), (3, 13, 23), (8, 14, 20), (8, 13, 18), (7, 13, 19), (18, 22, 26), (2, 4, 6), (20, 22, 24)}\n",
      "tmp={(0, 4, 8), (11, 13, 15), (2, 10, 18), (0, 12, 24), (6, 16, 26), (9, 13, 17), (0, 10, 20), (1, 13, 25), (6, 12, 18), (6, 13, 20), (2, 14, 26), (5, 13, 21), (8, 16, 24), (3, 13, 23), (8, 14, 20), (7, 13, 19), (18, 22, 26), (2, 4, 6), (20, 22, 24)}\n",
      "(0, 2)\n",
      "[[[ 0  1  2]\n",
      "  [ 3  4  5]\n",
      "  [ 6  7  8]]\n",
      "\n",
      " [[ 9 10 11]\n",
      "  [12 13 14]\n",
      "  [15 16 17]]\n",
      "\n",
      " [[18 19 20]\n",
      "  [21 22 23]\n",
      "  [24 25 26]]]\n",
      "tmp={(0, 4, 8), (11, 13, 15), (0, 13, 26), (2, 10, 18), (0, 12, 24), (6, 16, 26), (9, 13, 17), (0, 10, 20), (1, 13, 25), (6, 12, 18), (2, 14, 26), (5, 13, 21), (8, 16, 24), (3, 13, 23), (8, 14, 20), (7, 13, 19), (18, 22, 26), (2, 4, 6), (20, 22, 24)}\n",
      "tmp={(0, 4, 8), (11, 13, 15), (2, 10, 18), (0, 12, 24), (6, 16, 26), (9, 13, 17), (0, 10, 20), (1, 13, 25), (6, 12, 18), (2, 14, 26), (8, 16, 24), (5, 13, 21), (3, 13, 23), (8, 14, 20), (2, 13, 24), (7, 13, 19), (18, 22, 26), (2, 4, 6), (20, 22, 24)}\n",
      "tmp={(0, 4, 8), (11, 13, 15), (2, 10, 18), (0, 12, 24), (6, 16, 26), (9, 13, 17), (0, 10, 20), (1, 13, 25), (6, 12, 18), (6, 13, 20), (2, 14, 26), (5, 13, 21), (8, 16, 24), (3, 13, 23), (8, 14, 20), (7, 13, 19), (18, 22, 26), (2, 4, 6), (20, 22, 24)}\n",
      "tmp={(0, 4, 8), (11, 13, 15), (2, 10, 18), (0, 12, 24), (6, 16, 26), (9, 13, 17), (0, 10, 20), (1, 13, 25), (6, 12, 18), (2, 14, 26), (8, 16, 24), (5, 13, 21), (3, 13, 23), (8, 14, 20), (8, 13, 18), (7, 13, 19), (18, 22, 26), (2, 4, 6), (20, 22, 24)}\n",
      "(0, 1)\n",
      "[[[ 0  1  2]\n",
      "  [ 3  4  5]\n",
      "  [ 6  7  8]]\n",
      "\n",
      " [[ 9 10 11]\n",
      "  [12 13 14]\n",
      "  [15 16 17]]\n",
      "\n",
      " [[18 19 20]\n",
      "  [21 22 23]\n",
      "  [24 25 26]]]\n",
      "tmp={(0, 4, 8), (11, 13, 15), (0, 13, 26), (2, 10, 18), (0, 12, 24), (6, 16, 26), (9, 13, 17), (0, 10, 20), (1, 13, 25), (6, 12, 18), (2, 14, 26), (5, 13, 21), (8, 16, 24), (3, 13, 23), (8, 14, 20), (7, 13, 19), (18, 22, 26), (2, 4, 6), (20, 22, 24)}\n",
      "tmp={(0, 4, 8), (11, 13, 15), (2, 10, 18), (0, 12, 24), (6, 16, 26), (9, 13, 17), (0, 10, 20), (1, 13, 25), (6, 12, 18), (6, 13, 20), (2, 14, 26), (8, 16, 24), (5, 13, 21), (3, 13, 23), (8, 14, 20), (7, 13, 19), (18, 22, 26), (2, 4, 6), (20, 22, 24)}\n",
      "tmp={(0, 4, 8), (11, 13, 15), (2, 10, 18), (0, 12, 24), (6, 16, 26), (9, 13, 17), (0, 10, 20), (1, 13, 25), (6, 12, 18), (2, 14, 26), (5, 13, 21), (8, 16, 24), (3, 13, 23), (8, 14, 20), (2, 13, 24), (7, 13, 19), (18, 22, 26), (2, 4, 6), (20, 22, 24)}\n",
      "tmp={(0, 4, 8), (11, 13, 15), (2, 10, 18), (0, 12, 24), (6, 16, 26), (9, 13, 17), (0, 10, 20), (1, 13, 25), (6, 12, 18), (2, 14, 26), (8, 16, 24), (5, 13, 21), (3, 13, 23), (8, 14, 20), (8, 13, 18), (7, 13, 19), (18, 22, 26), (2, 4, 6), (20, 22, 24)}\n",
      "True, check_sum = 49, len(result) = 49\n"
     ]
    }
   ],
   "source": [
    "print(array)\n",
    "print()\n",
    "\n",
    "\n",
    "def reshape(array: np.ndarray, size: int = board_size):\n",
    "    reshape = np.prod(array.shape) // (size)\n",
    "    result = array.reshape(reshape, size)\n",
    "    return result\n",
    "\n",
    "\n",
    "def generate_diagonals(array: np.ndarray) -> np.ndarray:\n",
    "    result = []\n",
    "    diags = []\n",
    "    axes = list(permutations(range(len(array.shape)), 2))\n",
    "    while axes:\n",
    "        axis = axes.pop()\n",
    "        tmp = array.copy()\n",
    "        while True:\n",
    "            diags.extend(reshape(np.diagonal(tmp)).tolist())\n",
    "            result.extend(diags)\n",
    "            if len(diags) == board_size:\n",
    "                diags.extend(reshape(np.diagonal(diags)).tolist())\n",
    "                result.extend(diags)\n",
    "            tmp = np.rot90(tmp, axes=axis)\n",
    "            if np.array_equal(tmp, array):\n",
    "                break\n",
    "                \n",
    "            \n",
    "    tmp = set(tuple(sorted(item)) for item in diags)\n",
    "    print(f\"{tmp=}\")\n",
    "    return result # type: ignore\n",
    "\n",
    "\n",
    "result = []\n",
    "axes = list(combinations(range(board_dimensions), 2))\n",
    "while axes:\n",
    "    axis = axes.pop()\n",
    "    print(axis)\n",
    "    tmp = array.copy()\n",
    "    print(tmp)\n",
    "    while True:\n",
    "        result.extend(reshape(tmp).tolist())\n",
    "        result.extend(generate_diagonals(tmp))\n",
    "        tmp = np.rot90(tmp, axes=axis)\n",
    "        if np.array_equal(tmp, array):\n",
    "            break\n",
    "\n",
    "result = set(tuple(sorted(item)) for item in result)\n",
    "\n",
    "print(f\"{check_sum == len(result)}, {check_sum = }, {len(result) = }\")"
   ]
  },
  {
   "cell_type": "code",
   "execution_count": null,
   "metadata": {},
   "outputs": [],
   "source": [
    "\n",
    "data = np.array([[[[1, 2, 3], [4, 5, 6], [7, 8, 9]], [[10, 20, 30], [40, 50, 60], [70, 80, 90]]], [[[100, 200, 300], [400, 500, 600], [700, 800, 900]], [[1000, 2000, 3000], [4000, 5000, 6000], [7000, 8000, 9000]]]])\n",
    "\n",
    "print(data)\n",
    "print(data.reshape(-1, 3))\n",
    "print(data.reshape(-1, 3).tolist())\n",
    "print(data.reshape(-1, 2).tolist())"
   ]
  },
  {
   "cell_type": "code",
   "execution_count": 5,
   "metadata": {},
   "outputs": [
    {
     "data": {
      "text/plain": [
       "(0, 1, 2, 3, 7, 8)"
      ]
     },
     "execution_count": 5,
     "metadata": {},
     "output_type": "execute_result"
    }
   ],
   "source": [
    "tuple(set(range(3**2)) ^ {5, 4, 6})"
   ]
  },
  {
   "cell_type": "code",
   "execution_count": 1,
   "metadata": {},
   "outputs": [
    {
     "ename": "SyntaxError",
     "evalue": "Missing parentheses in call to 'print'. Did you mean print(...)? (2423169151.py, line 8)",
     "output_type": "error",
     "traceback": [
      "\u001b[0;36m  Cell \u001b[0;32mIn[1], line 8\u001b[0;36m\u001b[0m\n\u001b[0;31m    print r+l\u001b[0m\n\u001b[0m    ^\u001b[0m\n\u001b[0;31mSyntaxError\u001b[0m\u001b[0;31m:\u001b[0m Missing parentheses in call to 'print'. Did you mean print(...)?\n"
     ]
    }
   ],
   "source": [
    "t=v=h=input()/2\n",
    "s,p,b,f,n=\" +|/\\n\"\n",
    "l=p+\"-\"*t*4+p;S=s*4*t;k=s*h;K=b+S+b\n",
    "r=s*t+s+l+n\n",
    "while t:r+=s*t+f+S+f+s*(h-t)+b+n;t-=1\n",
    "r+=l+k+b+n+(K+k+b+n)*(v-1)+K+k+p+n\n",
    "while v:v-=1;r+=K+s*v+f+n\n",
    "print r+l"
   ]
  }
 ],
 "metadata": {
  "kernelspec": {
   "display_name": "Python 3",
   "language": "python",
   "name": "python3"
  },
  "language_info": {
   "codemirror_mode": {
    "name": "ipython",
    "version": 3
   },
   "file_extension": ".py",
   "mimetype": "text/x-python",
   "name": "python",
   "nbconvert_exporter": "python",
   "pygments_lexer": "ipython3",
   "version": "3.12.4"
  }
 },
 "nbformat": 4,
 "nbformat_minor": 2
}
