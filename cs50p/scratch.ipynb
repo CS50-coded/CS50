{
 "cells": [
  {
   "cell_type": "code",
   "execution_count": 3,
   "metadata": {},
   "outputs": [
    {
     "data": {
      "text/plain": [
       "8.0"
      ]
     },
     "execution_count": 3,
     "metadata": {},
     "output_type": "execute_result"
    }
   ],
   "source": [
    "# ((k+2)n-kn)/2\n",
    "\n",
    "sides = 3\n",
    "dimensions = 2\n",
    "((sides + 2) ** dimensions - sides**dimensions) / 2"
   ]
  },
  {
   "cell_type": "code",
   "execution_count": null,
   "metadata": {},
   "outputs": [],
   "source": [
    "(sides**dimensions - (sides - 1) ^ dimensions)"
   ]
  },
  {
   "cell_type": "code",
   "execution_count": null,
   "metadata": {},
   "outputs": [],
   "source": [
    "n = 2\n",
    "n * 3 ** (n - 1)"
   ]
  },
  {
   "cell_type": "code",
   "execution_count": null,
   "metadata": {},
   "outputs": [],
   "source": [
    "(5**dimensions - 3**dimensions) / 2.0"
   ]
  },
  {
   "cell_type": "code",
   "execution_count": null,
   "metadata": {},
   "outputs": [],
   "source": [
    "from itertools import combinations, permutations\n",
    "from typing import List\n",
    "import numpy as np\n",
    "\n",
    "board_size = 5\n",
    "board_dimensions = 4\n",
    "check_sum = ((board_size + 2) ** board_dimensions - board_size**board_dimensions) // 2\n",
    "\n",
    "array = np.arange(board_size**board_dimensions).reshape(board_size, *([board_size] * (board_dimensions - 1)))\n",
    "\n",
    "\n",
    "def reshape(array: np.ndarray, size, board_size):\n",
    "    reshape = np.prod(array.shape) // (size)\n",
    "    result = array.reshape(reshape, size)\n",
    "    return result\n",
    "\n",
    "\n",
    "def generate_diagonals(array: np.ndarray) -> np.ndarray:\n",
    "    result = []\n",
    "    board = array.copy()\n",
    "    axes = list(permutations(range(len(array.shape)), 2))\n",
    "    while axes:\n",
    "        diagonals = reshape(np.diagonal(board))\n",
    "        result.extend(diagonals.tolist())\n",
    "        if len(diagonals) == board_size:\n",
    "            diagonals = generate_diagonals(np.array(diagonals))\n",
    "            result.extend(diagonals)\n",
    "        array = np.rot90(board, axes=axes.pop())\n",
    "\n",
    "    return result  # type: ignore\n",
    "\n",
    "\n",
    "result = []\n",
    "board = array.copy()\n",
    "axes = list(permutations(range(board_dimensions), 2))\n",
    "while axes:\n",
    "    result.extend(reshape(board).tolist())\n",
    "    diags = generate_diagonals(board)\n",
    "    result.extend(diags)\n",
    "    board = np.rot90(array, axes=axes.pop())\n",
    "\n",
    "\n",
    "print(f\"{array=}\")\n",
    "\n",
    "result = set(tuple(sorted(item)) for item in result)\n",
    "\n",
    "print(result)\n",
    "print(f\"{check_sum == len(result)}, {check_sum = }, {len(result) = }\")"
   ]
  },
  {
   "cell_type": "code",
   "execution_count": null,
   "metadata": {},
   "outputs": [],
   "source": [
    "print(np.array([0, 4, 8]).shape)\n",
    "print(np.array([[0, 4, 8]]).shape)"
   ]
  },
  {
   "cell_type": "code",
   "execution_count": null,
   "metadata": {},
   "outputs": [],
   "source": [
    "from itertools import combinations, permutations\n",
    "from typing import List\n",
    "import numpy as np\n",
    "\n",
    "board_size = 3\n",
    "board_dimensions = 3\n",
    "check_sum = ((board_size + 2) ** board_dimensions - board_size**board_dimensions) // 2\n",
    "\n",
    "array = np.arange(board_size**board_dimensions).reshape(board_size, *([board_size] * (board_dimensions - 1)))\n",
    "\n",
    "print(array, sep=\"\\n\")"
   ]
  },
  {
   "cell_type": "code",
   "execution_count": null,
   "metadata": {},
   "outputs": [],
   "source": [
    "print(array)\n",
    "print()\n",
    "\n",
    "\n",
    "def reshape(array: np.ndarray, size = board_size):\n",
    "    reshape = np.prod(array.shape) // (size)\n",
    "    result = array.reshape(reshape, size)\n",
    "    return result\n",
    "\n",
    "\n",
    "def generate_diagonals(array: np.ndarray) -> np.ndarray:\n",
    "    result = []\n",
    "    diags = []\n",
    "    axes = list(permutations(range(len(array.shape)), 2))\n",
    "    while axes:\n",
    "        axis = axes.pop()\n",
    "        tmp = array.copy()\n",
    "        while True:\n",
    "            diags.extend(reshape(np.diagonal(tmp)).tolist())\n",
    "            result.extend(diags)\n",
    "            if len(diags) == board_size:\n",
    "                diags.extend(reshape(np.diagonal(diags)).tolist())\n",
    "                result.extend(diags)\n",
    "            tmp = np.rot90(tmp, axes=axis)\n",
    "            if np.array_equal(tmp, array):\n",
    "                break\n",
    "\n",
    "    tmp = set(tuple(sorted(item)) for item in diags)\n",
    "    print(f\"{tmp=}\")\n",
    "    return result  # type: ignore\n",
    "\n",
    "\n",
    "result = []\n",
    "axes = list(combinations(range(board_dimensions), 2))\n",
    "while axes:\n",
    "    axis = axes.pop()\n",
    "    print(axis)\n",
    "    tmp = array.copy()\n",
    "    print(tmp)\n",
    "    while True:\n",
    "        result.extend(reshape(tmp).tolist())\n",
    "        result.extend(generate_diagonals(tmp))\n",
    "        tmp = np.rot90(tmp, axes=axis)\n",
    "        if np.array_equal(tmp, array):\n",
    "            break\n",
    "\n",
    "result = set(tuple(sorted(item)) for item in result)\n",
    "\n",
    "print(f\"{check_sum == len(result)}, {check_sum = }, {len(result) = }\")"
   ]
  },
  {
   "cell_type": "code",
   "execution_count": null,
   "metadata": {},
   "outputs": [],
   "source": [
    "data = np.array(\n",
    "    [\n",
    "        [[[1, 2, 3], [4, 5, 6], [7, 8, 9]], [[10, 20, 30], [40, 50, 60], [70, 80, 90]]],\n",
    "        [\n",
    "            [[100, 200, 300], [400, 500, 600], [700, 800, 900]],\n",
    "            [[1000, 2000, 3000], [4000, 5000, 6000], [7000, 8000, 9000]],\n",
    "        ],\n",
    "    ]\n",
    ")\n",
    "\n",
    "print(data)\n",
    "print(data.reshape(-1, 3))\n",
    "print(data.reshape(-1, 3).tolist())\n",
    "print(data.reshape(-1, 2).tolist())"
   ]
  },
  {
   "cell_type": "code",
   "execution_count": null,
   "metadata": {},
   "outputs": [],
   "source": [
    "tuple(set(range(3**2)) ^ {5, 4, 6})"
   ]
  },
  {
   "cell_type": "code",
   "execution_count": null,
   "metadata": {},
   "outputs": [],
   "source": [
    "import requests\n",
    "\n",
    "response = requests.get(\"https://itunes.apple.com/search?entity=song&limit=1&term=\")"
   ]
  },
  {
   "cell_type": "code",
   "execution_count": null,
   "metadata": {},
   "outputs": [],
   "source": [
    "length = 2\n",
    "\n",
    "\n",
    "def get_expected(length, inception,):\n",
    "    if inception == 0:\n",
    "        return tuple(range(length))\n",
    "\n",
    "    return {key: get_expected(length, inception - 1) for key in range(length)}\n",
    "\n",
    "\n",
    "get_expected(4, 2)"
   ]
  },
  {
   "cell_type": "code",
   "execution_count": null,
   "metadata": {},
   "outputs": [],
   "source": [
    "import csv\n",
    "import os\n",
    "from tabulate import tabulate\n",
    "\n",
    "print(os.getcwd())\n",
    "with open(\"test.csv\") as csvfile:\n",
    "    reader: csv.DictReader = csv.DictReader(csvfile)\n",
    "    print(type(reader.fieldnames))\n",
    "    table = tabulate(reader, headers=reader.fieldnames, tablefmt=\"grid\")\n",
    "    print(table)"
   ]
  },
  {
   "cell_type": "code",
   "execution_count": null,
   "metadata": {},
   "outputs": [],
   "source": [
    "class Something:\n",
    "    def __init__(self, name: str = \"Groot\") -> None:\n",
    "        self._name = name\n",
    "\n",
    "    @property\n",
    "    def name(self) -> str:\n",
    "        return self._name\n",
    "\n",
    "    def hi(self) -> None:\n",
    "        return f\"I am {self._name}...\""
   ]
  },
  {
   "cell_type": "code",
   "execution_count": null,
   "metadata": {},
   "outputs": [],
   "source": [
    "groot = Something()\n",
    "groot.name = \"not a groot\"  # there is no setter\n",
    "print(groot.hi())"
   ]
  },
  {
   "cell_type": "code",
   "execution_count": null,
   "metadata": {},
   "outputs": [],
   "source": [
    "groot = Something()\n",
    "groot._name = \"not a groot\"  # but I do not really need it ;)\n",
    "print(groot.hi())"
   ]
  },
  {
   "cell_type": "code",
   "execution_count": null,
   "metadata": {},
   "outputs": [],
   "source": [
    "raise ValueError(\"test\")"
   ]
  },
  {
   "cell_type": "code",
   "execution_count": 2,
   "metadata": {},
   "outputs": [
    {
     "name": "stdout",
     "output_type": "stream",
     "text": [
      "=== Length: 5: ===\n",
      "\tsum = 800,384\t\ts_hash = 800,384\t\ts_hash_progressive = 800,384\n",
      "\tsum< UINT_MAX = True\t\ts_hash< UINT_MAX = True\n",
      "\tsum< ULONG_MAX = True\t\ts_hash< ULONG_MAX = True\n",
      "\tsum< ULLONG_MAX = True\t\ts_hash< ULLONG_MAX = True\n",
      "\ts_hash*8 = 6,403,072\n",
      "=== Length: 6: ===\n",
      "\tsum = 24,811,930\t\ts_hash = 4,811,892\t\ts_hash_progressive = 4,811,892\n",
      "\tsum< UINT_MAX = True\t\ts_hash< UINT_MAX = True\n",
      "\tsum< ULONG_MAX = True\t\ts_hash< ULONG_MAX = True\n",
      "\tsum< ULLONG_MAX = True\t\ts_hash< ULLONG_MAX = True\n",
      "\ts_hash*8 = 38,495,136\n",
      "=== Length: 7: ===\n",
      "\tsum = 769,169,856\t\ts_hash = 9,168,412\t\ts_hash_progressive = 9,168,412\n",
      "\tsum< UINT_MAX = True\t\ts_hash< UINT_MAX = True\n",
      "\tsum< ULONG_MAX = True\t\ts_hash< ULONG_MAX = True\n",
      "\tsum< ULLONG_MAX = True\t\ts_hash< ULLONG_MAX = True\n",
      "\ts_hash*8 = 73,347,296\n",
      "=== Length: 8: ===\n",
      "\tsum = 23,844,265,562\t\ts_hash = 4,220,266\t\ts_hash_progressive = 4,220,266\n",
      "\tsum< UINT_MAX = False\t\ts_hash< UINT_MAX = True\n",
      "\tsum< ULONG_MAX = False\t\ts_hash< ULONG_MAX = True\n",
      "\tsum< ULLONG_MAX = True\t\ts_hash< ULLONG_MAX = True\n",
      "\ts_hash*8 = 33,762,128\n",
      "=== Length: 9: ===\n",
      "\tsum = 739,172,232,448\t\ts_hash = 828,025\t\ts_hash_progressive = 828,025\n",
      "\tsum< UINT_MAX = False\t\ts_hash< UINT_MAX = True\n",
      "\tsum< ULONG_MAX = False\t\ts_hash< ULONG_MAX = True\n",
      "\tsum< ULLONG_MAX = True\t\ts_hash< ULLONG_MAX = True\n",
      "\ts_hash*8 = 6,624,200\n",
      "=== Length: 10: ===\n",
      "\tsum = 22,914,339,205,914\t\ts_hash = 5,668,763\t\ts_hash_progressive = 5,668,763\n",
      "\tsum< UINT_MAX = False\t\ts_hash< UINT_MAX = True\n",
      "\tsum< ULONG_MAX = False\t\ts_hash< ULONG_MAX = True\n",
      "\tsum< ULLONG_MAX = True\t\ts_hash< ULLONG_MAX = True\n",
      "\ts_hash*8 = 45,350,104\n",
      "=== Length: 11: ===\n",
      "\tsum = 710,344,515,383,360\t\ts_hash = 5,731,356\t\ts_hash_progressive = 5,731,356\n",
      "\tsum< UINT_MAX = False\t\ts_hash< UINT_MAX = True\n",
      "\tsum< ULONG_MAX = False\t\ts_hash< ULONG_MAX = True\n",
      "\tsum< ULLONG_MAX = True\t\ts_hash< ULLONG_MAX = True\n",
      "\ts_hash*8 = 45,850,848\n",
      "=== Length: 12: ===\n",
      "\tsum = 22,020,679,976,884,186\t\ts_hash = 7,671,739\t\ts_hash_progressive = 7,671,739\n",
      "\tsum< UINT_MAX = False\t\ts_hash< UINT_MAX = True\n",
      "\tsum< ULONG_MAX = False\t\ts_hash< ULONG_MAX = True\n",
      "\tsum< ULLONG_MAX = True\t\ts_hash< ULLONG_MAX = True\n",
      "\ts_hash*8 = 61,373,912\n",
      "=== Length: 13: ===\n",
      "\tsum = 682,641,079,283,409,792\t\ts_hash = 7,823,498\t\ts_hash_progressive = 7,823,498\n",
      "\tsum< UINT_MAX = False\t\ts_hash< UINT_MAX = True\n",
      "\tsum< ULONG_MAX = False\t\ts_hash< ULONG_MAX = True\n",
      "\tsum< ULLONG_MAX = True\t\ts_hash< ULLONG_MAX = True\n",
      "\ts_hash*8 = 62,587,984\n",
      "=== Length: 14: ===\n",
      "\tsum = 21,161,873,457,785,703,578\t\ts_hash = 2,528,008\t\ts_hash_progressive = 2,528,008\n",
      "\tsum< UINT_MAX = False\t\ts_hash< UINT_MAX = True\n",
      "\tsum< ULONG_MAX = False\t\ts_hash< ULONG_MAX = True\n",
      "\tsum< ULLONG_MAX = False\t\ts_hash< ULLONG_MAX = True\n",
      "\ts_hash*8 = 20,224,064\n",
      "=== Length: 15: ===\n",
      "\tsum = 656,018,077,191,356,810,944\t\ts_hash = 8,368,141\t\ts_hash_progressive = 8,368,141\n",
      "\tsum< UINT_MAX = False\t\ts_hash< UINT_MAX = True\n",
      "\tsum< ULONG_MAX = False\t\ts_hash< ULONG_MAX = True\n",
      "\tsum< ULLONG_MAX = False\t\ts_hash< ULLONG_MAX = True\n",
      "\ts_hash*8 = 66,945,128\n",
      "=== Length: 16: ===\n",
      "\tsum = 20,336,560,392,932,061,139,290\t\ts_hash = 9,411,922\t\ts_hash_progressive = 9,411,922\n",
      "\tsum< UINT_MAX = False\t\ts_hash< UINT_MAX = True\n",
      "\tsum< ULONG_MAX = False\t\ts_hash< ULONG_MAX = True\n",
      "\tsum< ULLONG_MAX = False\t\ts_hash< ULLONG_MAX = True\n",
      "\ts_hash*8 = 75,295,376\n",
      "=== Length: 17: ===\n",
      "\tsum = 630,433,372,180,893,895,318,016\t\ts_hash = 1,769,057\t\ts_hash_progressive = 1,769,057\n",
      "\tsum< UINT_MAX = False\t\ts_hash< UINT_MAX = True\n",
      "\tsum< ULONG_MAX = False\t\ts_hash< ULONG_MAX = True\n",
      "\tsum< ULLONG_MAX = False\t\ts_hash< ULLONG_MAX = True\n",
      "\ts_hash*8 = 14,152,456\n",
      "=== Length: 18: ===\n",
      "\tsum = 19,543,434,537,607,710,754,858,522\t\ts_hash = 4,840,698\t\ts_hash_progressive = 4,840,698\n",
      "\tsum< UINT_MAX = False\t\ts_hash< UINT_MAX = True\n",
      "\tsum< ULONG_MAX = False\t\ts_hash< ULONG_MAX = True\n",
      "\tsum< ULLONG_MAX = False\t\ts_hash< ULLONG_MAX = True\n",
      "\ts_hash*8 = 38,725,584\n",
      "=== Length: 19: ===\n",
      "\tsum = 605,846,470,665,839,033,400,614,208\t\ts_hash = 61,379\t\ts_hash_progressive = 61,379\n",
      "\tsum< UINT_MAX = False\t\ts_hash< UINT_MAX = True\n",
      "\tsum< ULONG_MAX = False\t\ts_hash< ULONG_MAX = True\n",
      "\tsum< ULLONG_MAX = False\t\ts_hash< ULLONG_MAX = True\n",
      "\ts_hash*8 = 491,032\n"
     ]
    }
   ],
   "source": [
    "from itertools import permutations\n",
    "import string\n",
    "\n",
    "test = \"z\" * 10\n",
    "\n",
    "UINT_MAX = 4294967295\n",
    "ULONG_MAX = 4294967295\n",
    "ULLONG_MAX = 18446744073709551615\n",
    "\n",
    "\n",
    "def hash(s: str, p=31, m=10000019):\n",
    "    # print(s)\n",
    "    pow = 0\n",
    "    p_pow = 1\n",
    "    sum = 0\n",
    "    sum_res = 0\n",
    "    for c in s[::-1]:\n",
    "        # print(f\"{c}={ord(c)}\")\n",
    "        if c != \"'\":\n",
    "            char_val = ord(c) - ord('a') + 1\n",
    "            # print(f\"{(p_pow * p) = }\\t{p_pow = }\\t{p**pow = }\")\n",
    "            # print(f\"{c}: {char_val = }\")\n",
    "            sum += char_val * (p**pow)\n",
    "            sum_res = (sum_res + char_val * (p**pow)) % m\n",
    "            p_pow = (p_pow * p) % m\n",
    "            pow += 1\n",
    "    result = sum % m\n",
    "    return sum, result, sum_res\n",
    "\n",
    "\n",
    "def hash_max(length:int):\n",
    "    str = string.ascii_lowercase+\"'\"\n",
    "    perms = permutations(str, length)\n",
    "    perms_iter = iter(perms)\n",
    "    max_val = 0\n",
    "    max_test = \"\"\n",
    "    for perm in perms_iter:\n",
    "        test = \"\".join(perm)\n",
    "        s_hash = hash(test)[1]\n",
    "        max_val = max_val if max_val> s_hash else s_hash\n",
    "        max_test = max_test if max_val> s_hash else test\n",
    "    print(f\"{max_test}: {max_val}\")\n",
    "\n",
    "for i in range(5, 20):\n",
    "    print(f\"=== Length: {i}: ===\")\n",
    "    tst = \"z\" * (i-1)+\"'\"\n",
    "    # tst = \"z\" * (i)\n",
    "    # tst = \"z\" + \"'\"* (i-1)\n",
    "    sum, s_hash, s_hash_progressive = hash(tst)\n",
    "    print(f\"\\t{sum = :,}\\t\\t{s_hash = :,}\\t\\t{s_hash_progressive = :,}\")\n",
    "    print(f\"\\t{sum< UINT_MAX = }\\t\\t{s_hash< UINT_MAX = }\")\n",
    "    print(f\"\\t{sum< ULONG_MAX = }\\t\\t{s_hash< ULONG_MAX = }\")\n",
    "    print(f\"\\t{sum< ULLONG_MAX = }\\t\\t{s_hash< ULLONG_MAX = }\")\n",
    "    print(f\"\\t{s_hash*8 = :,}\")"
   ]
  },
  {
   "cell_type": "code",
   "execution_count": null,
   "metadata": {},
   "outputs": [],
   "source": [
    "from itertools import permutations\n",
    "import string\n",
    "\n",
    "UINT_MAX = 4294967295\n",
    "ULONG_MAX = 4294967295\n",
    "ULLONG_MAX = 18446744073709551615\n",
    "\n",
    "multiplier = string.ascii_lowercase+\"'\"\n",
    "perms = permutations(multiplier, 8)\n",
    "perms_iter = iter(perms)\n",
    "print(\"\".join(next(perms_iter)))"
   ]
  },
  {
   "cell_type": "code",
   "execution_count": 11,
   "metadata": {},
   "outputs": [
    {
     "name": "stdout",
     "output_type": "stream",
     "text": [
      "0 :: 1 : pp < UINT_MAX =True : pp < ULONG_MAX = True : pp < ULLONG_MAX =True\n",
      "1 :: 31 : pp < UINT_MAX =True : pp < ULONG_MAX = True : pp < ULLONG_MAX =True\n",
      "2 :: 961 : pp < UINT_MAX =True : pp < ULONG_MAX = True : pp < ULLONG_MAX =True\n",
      "3 :: 29,791 : pp < UINT_MAX =True : pp < ULONG_MAX = True : pp < ULLONG_MAX =True\n",
      "4 :: 923,521 : pp < UINT_MAX =True : pp < ULONG_MAX = True : pp < ULLONG_MAX =True\n",
      "5 :: 28,629,151 : pp < UINT_MAX =True : pp < ULONG_MAX = True : pp < ULLONG_MAX =True\n",
      "6 :: 887,503,681 : pp < UINT_MAX =True : pp < ULONG_MAX = True : pp < ULLONG_MAX =True\n",
      "7 :: 27,512,614,111 : pp < UINT_MAX =False : pp < ULONG_MAX = False : pp < ULLONG_MAX =True\n",
      "8 :: 852,891,037,441 : pp < UINT_MAX =False : pp < ULONG_MAX = False : pp < ULLONG_MAX =True\n",
      "9 :: 26,439,622,160,671 : pp < UINT_MAX =False : pp < ULONG_MAX = False : pp < ULLONG_MAX =True\n",
      "10 :: 819,628,286,980,801 : pp < UINT_MAX =False : pp < ULONG_MAX = False : pp < ULLONG_MAX =True\n",
      "11 :: 25,408,476,896,404,831 : pp < UINT_MAX =False : pp < ULONG_MAX = False : pp < ULLONG_MAX =True\n",
      "12 :: 787,662,783,788,549,761 : pp < UINT_MAX =False : pp < ULONG_MAX = False : pp < ULLONG_MAX =True\n",
      "13 :: 24,417,546,297,445,042,591 : pp < UINT_MAX =False : pp < ULONG_MAX = False : pp < ULLONG_MAX =False\n",
      "14 :: 756,943,935,220,796,320,321 : pp < UINT_MAX =False : pp < ULONG_MAX = False : pp < ULLONG_MAX =False\n",
      "15 :: 23,465,261,991,844,685,929,951 : pp < UINT_MAX =False : pp < ULONG_MAX = False : pp < ULLONG_MAX =False\n",
      "16 :: 727,423,121,747,185,263,828,481 : pp < UINT_MAX =False : pp < ULONG_MAX = False : pp < ULLONG_MAX =False\n",
      "17 :: 22,550,116,774,162,743,178,682,911 : pp < UINT_MAX =False : pp < ULONG_MAX = False : pp < ULLONG_MAX =False\n",
      "18 :: 699,053,619,999,045,038,539,170,241 : pp < UINT_MAX =False : pp < ULONG_MAX = False : pp < ULLONG_MAX =False\n",
      "19 :: 21,670,662,219,970,396,194,714,277,471 : pp < UINT_MAX =False : pp < ULONG_MAX = False : pp < ULLONG_MAX =False\n"
     ]
    }
   ],
   "source": [
    "p_pow=1\n",
    "p=31\n",
    "def get_ppow(len:int, p_pow=1, p=31):\n",
    "    while len > 0:\n",
    "        yield p_pow\n",
    "        p_pow = (p_pow * p)\n",
    "        len-=1\n",
    "\n",
    "for idx, pp in enumerate(get_ppow(20)):\n",
    "    print(f\"{idx} :: {pp:,} : {pp < UINT_MAX =} : {pp < ULONG_MAX = } : {pp < ULLONG_MAX =}\")    \n"
   ]
  },
  {
   "cell_type": "code",
   "execution_count": 14,
   "metadata": {},
   "outputs": [
    {
     "name": "stdout",
     "output_type": "stream",
     "text": [
      "10,000,000 : m < UINT_MAX =True : m < ULONG_MAX = True : m < ULLONG_MAX =True\n",
      "1,048,576 : m < UINT_MAX =True : m < ULONG_MAX = True : m < ULLONG_MAX =True\n",
      "1,048,576 : m < UINT_MAX =True : m < ULONG_MAX = True : m < ULLONG_MAX =True\n",
      "524,288 : m < UINT_MAX =True : m < ULONG_MAX = True : m < ULLONG_MAX =True\n",
      "262,144 : m < UINT_MAX =True : m < ULONG_MAX = True : m < ULLONG_MAX =True\n"
     ]
    }
   ],
   "source": [
    "UINT_MAX = 4294967295\n",
    "ULONG_MAX = 4294967295\n",
    "ULLONG_MAX = 18446744073709551615\n",
    "\n",
    "m=(10**7)\n",
    "print(f\"{m:,} : {m < UINT_MAX =} : {m < ULONG_MAX = } : {m < ULLONG_MAX =}\") \n",
    "m=(2**20)\n",
    "print(f\"{m:,} : {m < UINT_MAX =} : {m < ULONG_MAX = } : {m < ULLONG_MAX =}\") \n",
    "\n",
    "m=(2**19)\n",
    "print(f\"{m:,} : {m < UINT_MAX =} : {m < ULONG_MAX = } : {m < ULLONG_MAX =}\") \n",
    "m=(2**18)\n",
    "print(f\"{m:,} : {m < UINT_MAX =} : {m < ULONG_MAX = } : {m < ULLONG_MAX =}\") "
   ]
  },
  {
   "cell_type": "code",
   "execution_count": 11,
   "metadata": {},
   "outputs": [
    {
     "name": "stdout",
     "output_type": "stream",
     "text": [
      "is_valid(1, accept) = False\n",
      "is_valid(10, accept) = True\n",
      "is_valid(11, accept) = False\n",
      "is_valid(210, accept) = False\n",
      "is_valid(20, accept) = True\n",
      "is_valid(30, accept) = True\n"
     ]
    }
   ],
   "source": [
    "accept = (10, 20 , 30)\n",
    "\n",
    "def is_valid(x, accept: tuple):\n",
    "    return (x in accept)\n",
    "\n",
    "print(f\"{is_valid(1, accept) = }\")\n",
    "print(f\"{is_valid(10, accept) = }\")\n",
    "print(f\"{is_valid(11, accept) = }\")\n",
    "print(f\"{is_valid(210, accept) = }\")\n",
    "print(f\"{is_valid(20, accept) = }\")\n",
    "print(f\"{is_valid(30, accept) = }\")"
   ]
  },
  {
   "cell_type": "code",
   "execution_count": 16,
   "metadata": {},
   "outputs": [
    {
     "name": "stdout",
     "output_type": "stream",
     "text": [
      "type(sys.exit)=<class 'builtin_function_or_method'>\n",
      "isinstance(sys.exit, Callable)=True\n",
      "isinstance(sys.exit, abc_Callable)=True\n"
     ]
    }
   ],
   "source": [
    "from collections.abc import Callable as abc_Callable\n",
    "import sys\n",
    "from typing import Callable\n",
    "\n",
    "print(f\"{type(sys.exit)=}\")\n",
    "print(f\"{isinstance(sys.exit, Callable)=}\")\n",
    "print(f\"{isinstance(sys.exit, abc_Callable)=}\")\n"
   ]
  },
  {
   "cell_type": "code",
   "execution_count": 27,
   "metadata": {},
   "outputs": [
    {
     "name": "stdout",
     "output_type": "stream",
     "text": [
      "type(print)=<class 'builtin_function_or_method'>\n",
      "isinstance(print, Callable)=True\n",
      "isinstance(print, abc_Callable)=True\n",
      "print.__class__.__base__=<class 'object'>\n",
      "type(object)=<class 'type'>\n",
      "isinstance(object, Callable)=True\n",
      "isinstance(object, abc_Callable)=True\n",
      "object.__class__.__bases__=(<class 'object'>,)\n"
     ]
    }
   ],
   "source": [
    "from collections.abc import Callable as abc_Callable\n",
    "import sys\n",
    "from typing import Callable\n",
    "\n",
    "print(f\"{type(print)=}\")\n",
    "print(f\"{isinstance(print, Callable)=}\")\n",
    "print(f\"{isinstance(print, abc_Callable)=}\")\n",
    "print(f\"{print.__class__.__base__=}\")\n",
    "\n",
    "print(f\"{type(object)=}\")\n",
    "print(f\"{isinstance(object, Callable)=}\")\n",
    "print(f\"{isinstance(object, abc_Callable)=}\")\n",
    "print(f\"{object.__class__.__bases__=}\")\n"
   ]
  },
  {
   "cell_type": "code",
   "execution_count": 35,
   "metadata": {},
   "outputs": [
    {
     "data": {
      "text/plain": [
       "False"
      ]
     },
     "execution_count": 35,
     "metadata": {},
     "output_type": "execute_result"
    }
   ],
   "source": [
    "s = \"ABS00.10\"\n",
    "index = s.index('0')\n",
    "s[-index:]\n",
    "s[-index:].isalnum()"
   ]
  },
  {
   "cell_type": "code",
   "execution_count": 6,
   "metadata": {},
   "outputs": [
    {
     "name": "stdout",
     "output_type": "stream",
     "text": [
      "os.EX_OK=0\n",
      "os.EX_USAGE=64\n",
      "os.EX_DATAERR=65\n",
      "os.EX_NOINPUT=66\n",
      "os.EX_NOUSER=67\n",
      "os.EX_NOHOST=68\n",
      "os.EX_UNAVAILABLE=69\n",
      "os.EX_SOFTWARE=70\n",
      "os.EX_OSERR=71\n",
      "os.EX_OSFILE=72\n",
      "os.EX_CANTCREAT=73\n",
      "os.EX_IOERR=74\n",
      "os.EX_TEMPFAIL=75\n",
      "os.EX_PROTOCOL=76\n",
      "os.EX_NOPERM=77\n",
      "os.EX_CONFIG=78\n"
     ]
    }
   ],
   "source": [
    "import os\n",
    "import sys\n",
    "# sys.exit(os.EX_OSERR)\n",
    "\n",
    "print(f\"{os.EX_OK=}\")\n",
    "print(f\"{os.EX_USAGE=}\")\n",
    "print(f\"{os.EX_DATAERR=}\")\n",
    "print(f\"{os.EX_NOINPUT=}\")\n",
    "print(f\"{os.EX_NOUSER=}\")\n",
    "print(f\"{os.EX_NOHOST=}\")\n",
    "print(f\"{os.EX_UNAVAILABLE=}\")\n",
    "print(f\"{os.EX_SOFTWARE=}\")\n",
    "print(f\"{os.EX_OSERR=}\")\n",
    "print(f\"{os.EX_OSFILE=}\")\n",
    "print(f\"{os.EX_CANTCREAT=}\")\n",
    "print(f\"{os.EX_IOERR=}\")\n",
    "print(f\"{os.EX_TEMPFAIL=}\")\n",
    "print(f\"{os.EX_PROTOCOL=}\")\n",
    "print(f\"{os.EX_NOPERM=}\")\n",
    "print(f\"{os.EX_CONFIG=}\")\n"
   ]
  },
  {
   "cell_type": "code",
   "execution_count": 2,
   "metadata": {},
   "outputs": [
    {
     "data": {
      "text/plain": [
       "'/home/thenin/mine/3843209/cs50p/file.txt'"
      ]
     },
     "execution_count": 2,
     "metadata": {},
     "output_type": "execute_result"
    }
   ],
   "source": [
    "import os\n",
    "type(os)\n",
    "\n",
    "os.path.abspath(\"file.txt\")"
   ]
  },
  {
   "cell_type": "code",
   "execution_count": 9,
   "metadata": {},
   "outputs": [
    {
     "name": "stdout",
     "output_type": "stream",
     "text": [
      "/home/thenin/mine/3843209/cs50p/scratch.ipynb\n"
     ]
    },
    {
     "ename": "TypeError",
     "evalue": "unsupported operand type(s) for /: 'NoneType' and 'str'",
     "output_type": "error",
     "traceback": [
      "\u001b[0;31m---------------------------------------------------------------------------\u001b[0m",
      "\u001b[0;31mTypeError\u001b[0m                                 Traceback (most recent call last)",
      "Cell \u001b[0;32mIn[9], line 4\u001b[0m\n\u001b[1;32m      2\u001b[0m \u001b[38;5;28;01mimport\u001b[39;00m \u001b[38;5;21;01mos\u001b[39;00m\n\u001b[1;32m      3\u001b[0m \u001b[38;5;28mprint\u001b[39m(os\u001b[38;5;241m.\u001b[39mpath\u001b[38;5;241m.\u001b[39mabspath(\u001b[38;5;124m\"\u001b[39m\u001b[38;5;124mscratch.ipynb\u001b[39m\u001b[38;5;124m\"\u001b[39m))\n\u001b[0;32m----> 4\u001b[0m \u001b[43mcheck50\u001b[49m\u001b[38;5;241;43m.\u001b[39;49m\u001b[43minclude\u001b[49m\u001b[43m(\u001b[49m\u001b[38;5;124;43mf\u001b[39;49m\u001b[38;5;124;43m\"\u001b[39;49m\u001b[38;5;124;43mscratch.ipynb\u001b[39;49m\u001b[38;5;124;43m\"\u001b[39;49m\u001b[43m)\u001b[49m\n",
      "File \u001b[0;32m~/.pyenv/versions/3.12.4/lib/python3.12/site-packages/check50/_api.py:67\u001b[0m, in \u001b[0;36minclude\u001b[0;34m(*paths)\u001b[0m\n\u001b[1;32m     65\u001b[0m cwd \u001b[38;5;241m=\u001b[39m os\u001b[38;5;241m.\u001b[39mgetcwd()\n\u001b[1;32m     66\u001b[0m \u001b[38;5;28;01mfor\u001b[39;00m path \u001b[38;5;129;01min\u001b[39;00m paths:\n\u001b[0;32m---> 67\u001b[0m     _copy((\u001b[43minternal\u001b[49m\u001b[38;5;241;43m.\u001b[39;49m\u001b[43mcheck_dir\u001b[49m\u001b[43m \u001b[49m\u001b[38;5;241;43m/\u001b[39;49m\u001b[43m \u001b[49m\u001b[43mpath\u001b[49m)\u001b[38;5;241m.\u001b[39mresolve(), cwd)\n",
      "\u001b[0;31mTypeError\u001b[0m: unsupported operand type(s) for /: 'NoneType' and 'str'"
     ]
    }
   ],
   "source": [
    "import check50\n",
    "import os\n",
    "print(os.path.abspath(\"scratch.ipynb\"))\n",
    "check50.include(f\"scratch.ipynb\")"
   ]
  },
  {
   "cell_type": "code",
   "execution_count": 6,
   "metadata": {},
   "outputs": [
    {
     "name": "stdout",
     "output_type": "stream",
     "text": [
      "https://youtu.be/xvFZjo5PgG0\n",
      "https://youtu.be/xvFZjo5PgG0\n",
      "https://youtu.be/xvFZjo5PgG0\n",
      "https://youtu.be/xvFZjo5PgG0\n",
      "None\n",
      "None\n"
     ]
    }
   ],
   "source": [
    "import re\n",
    "def parse(s):\n",
    "    if url := re.search(r'''<iframe (?:.+)?src=\"https?://www.youtube.com/embed/(.+?)\"(?: .+)?></iframe>''',s,re.IGNORECASE): \n",
    "        return \"https://youtu.be/\" + url.group (1)\n",
    "    \n",
    "print(parse('<iframe src=\"https://www.youtube.com/embed/xvFZjo5PgG0\"></iframe>'))\n",
    "print(parse('<iframe width=\"560\" height=\"315\" src=\"https://www.youtube.com/embed/xvFZjo5PgG0\" title=\"YouTube video player\" frameborder=\"0\" allow=\"accelerometer; autoplay; clipboard-write; encrypted-media; gyroscope; picture-in-picture\" allowfullscreen></iframe>'))\n",
    "print(parse('<iframe src=\"http://www.youtube.com/embed/xvFZjo5PgG0\"></iframe>'))\n",
    "print(parse('<iframe width=\"560\" height=\"315\" src=\"http://www.youtube.com/embed/xvFZjo5PgG0\" title=\"YouTube video player\" frameborder=\"0\" allow=\"accelerometer; autoplay; clipboard-write; encrypted-media; gyroscope; picture-in-picture\" allowfullscreen></iframe>'))\n",
    "print(parse('<iframe src=\"http://youtube.com/embed/xvFZjo5PgG0\"></iframe>'))\n",
    "print(parse('<iframe width=\"560\" height=\"315\" src=\"http://youtube.com/embed/xvFZjo5PgG0\" title=\"YouTube video player\" frameborder=\"0\" allow=\"accelerometer; autoplay; clipboard-write; encrypted-media; gyroscope; picture-in-picture\" allowfullscreen></iframe>'))\n",
    "\n",
    "\n"
   ]
  },
  {
   "cell_type": "code",
   "execution_count": 2,
   "metadata": {},
   "outputs": [
    {
     "name": "stdout",
     "output_type": "stream",
     "text": [
      "Six million, ninety-two thousand, six hundred forty minutes\n"
     ]
    }
   ],
   "source": [
    "import inflect\n",
    "p = inflect.engine()\n",
    "print(f\"{p.number_to_words(6092640, andword=\"\")} minutes\".capitalize())"
   ]
  },
  {
   "cell_type": "code",
   "execution_count": 3,
   "metadata": {},
   "outputs": [
    {
     "ename": "TypeError",
     "evalue": "unsupported operand type(s) for ^: 'tuple' and 'tuple'",
     "output_type": "error",
     "traceback": [
      "\u001b[0;31m---------------------------------------------------------------------------\u001b[0m",
      "\u001b[0;31mTypeError\u001b[0m                                 Traceback (most recent call last)",
      "Cell \u001b[0;32mIn[3], line 3\u001b[0m\n\u001b[1;32m      1\u001b[0m a \u001b[38;5;241m=\u001b[39m \u001b[38;5;28mtuple\u001b[39m(\u001b[38;5;28mrange\u001b[39m(\u001b[38;5;241m9\u001b[39m))\n\u001b[1;32m      2\u001b[0m b \u001b[38;5;241m=\u001b[39m \u001b[38;5;28mtuple\u001b[39m(\u001b[38;5;28mrange\u001b[39m(\u001b[38;5;241m4\u001b[39m))\n\u001b[0;32m----> 3\u001b[0m \u001b[43ma\u001b[49m\u001b[43m \u001b[49m\u001b[38;5;241;43m^\u001b[39;49m\u001b[43m \u001b[49m\u001b[43mb\u001b[49m\n",
      "\u001b[0;31mTypeError\u001b[0m: unsupported operand type(s) for ^: 'tuple' and 'tuple'"
     ]
    }
   ],
   "source": [
    "a = tuple(range(9))\n",
    "b = tuple(range(4))\n",
    "a ^ b"
   ]
  },
  {
   "cell_type": "code",
   "execution_count": 54,
   "metadata": {},
   "outputs": [
    {
     "name": "stdout",
     "output_type": "stream",
     "text": [
      "tst.value = 200\n",
      "before '__value = 100':\n",
      "\t_test__value\n",
      "\tvalue\n",
      "after '__value = 100':\n",
      "\t__value\n",
      "\t_test__value\n",
      "\tvalue\n",
      "\n",
      "tst.__value = 100\n",
      "tst.value = 1000\n",
      "tst._test__value = 1000\n"
     ]
    }
   ],
   "source": [
    "class test:\n",
    "    __value: int = 10\n",
    "\n",
    "    def __init__(self, value) -> None:\n",
    "        self.__value = value\n",
    "\n",
    "    @property\n",
    "    def value(self):\n",
    "       return self.__value\n",
    "\n",
    "tst = test(200)\n",
    "print(f\"{tst.value = }\")\n",
    "\n",
    "\n",
    "print(\"before '__value = 100':\", *filter(lambda x: \"value\" in x, dir(tst)), sep = \"\\n\\t\")\n",
    "tst.__value = 100\n",
    "\n",
    "print(\"after '__value = 100':\", *filter(lambda x: \"value\" in x, dir(tst)), sep = \"\\n\\t\")\n",
    "\n",
    "tst._test__value = 1000\n",
    "print()\n",
    "print(f\"{tst.__value = }\")\n",
    "print(f\"{tst.value = }\")\n",
    "print(f\"{tst._test__value = }\")\n"
   ]
  },
  {
   "cell_type": "code",
   "execution_count": null,
   "metadata": {},
   "outputs": [],
   "source": []
  },
  {
   "cell_type": "code",
   "execution_count": 10,
   "metadata": {},
   "outputs": [
    {
     "data": {
      "text/plain": [
       "['__annotations__',\n",
       " '__class__',\n",
       " '__dataclass_fields__',\n",
       " '__dataclass_params__',\n",
       " '__delattr__',\n",
       " '__dict__',\n",
       " '__dir__',\n",
       " '__doc__',\n",
       " '__eq__',\n",
       " '__format__',\n",
       " '__ge__',\n",
       " '__getattribute__',\n",
       " '__getstate__',\n",
       " '__gt__',\n",
       " '__hash__',\n",
       " '__init__',\n",
       " '__init_subclass__',\n",
       " '__le__',\n",
       " '__lt__',\n",
       " '__match_args__',\n",
       " '__module__',\n",
       " '__ne__',\n",
       " '__new__',\n",
       " '__reduce__',\n",
       " '__reduce_ex__',\n",
       " '__repr__',\n",
       " '__setattr__',\n",
       " '__sizeof__',\n",
       " '__str__',\n",
       " '__subclasshook__',\n",
       " '__weakref__',\n",
       " 'value']"
      ]
     },
     "execution_count": 10,
     "metadata": {},
     "output_type": "execute_result"
    }
   ],
   "source": [
    "from dataclasses import dataclass, field\n",
    "\n",
    "\n",
    "@dataclass\n",
    "class test_data:\n",
    "    value:int = 10\n",
    "\n",
    "tst = test_data()\n",
    "tst.value\n",
    "dir(tst)"
   ]
  },
  {
   "cell_type": "code",
   "execution_count": 1,
   "metadata": {},
   "outputs": [
    {
     "data": {
      "text/plain": [
       "False"
      ]
     },
     "execution_count": 1,
     "metadata": {},
     "output_type": "execute_result"
    }
   ],
   "source": [
    "a = \"3.14\"\n",
    "a.isnumeric()"
   ]
  },
  {
   "cell_type": "code",
   "execution_count": 13,
   "metadata": {},
   "outputs": [
    {
     "name": "stdout",
     "output_type": "stream",
     "text": [
      "Calling class method from CLASS:\t`cls._value1='value1 from class definition'`\n",
      "Calling class method from INSTANCE:\t`cls._value1='value1 from class definition'`\n",
      "Calling instance method from INSTANCE:\t`self._value1='value1 from init'`\n",
      "Calling instance method from INSTANCE:\t`self._value2='value2 from init'`\n"
     ]
    }
   ],
   "source": [
    "class MyClass():\n",
    "    _value1 = \"value1 from class definition\"\n",
    "\n",
    "    def __init__(self, value1, value2) -> None:\n",
    "        self._value1 = value1\n",
    "        self._value2 = value2\n",
    "\n",
    "    @classmethod\n",
    "    def class_method(cls, msg: str):\n",
    "        print(f\"{msg}:\\t`{cls._value1=}`\")\n",
    "\n",
    "    def instance_method(self, msg: str):\n",
    "        print(f\"{msg}:\\t`{self._value1=}`\")\n",
    "        print(f\"{msg}:\\t`{self._value2=}`\")\n",
    "\n",
    "\n",
    "var = MyClass(\"value1 from init\", \"value2 from init\")\n",
    "\n",
    "MyClass.class_method(\"Calling class method from CLASS\")\n",
    "var.class_method(\"Calling class method from INSTANCE\")\n",
    "var.instance_method(\"Calling instance method from INSTANCE\")"
   ]
  },
  {
   "cell_type": "code",
   "execution_count": 26,
   "metadata": {},
   "outputs": [
    {
     "name": "stdout",
     "output_type": "stream",
     "text": [
      "john.full_name='John Doe'\n"
     ]
    }
   ],
   "source": [
    "class Person:\n",
    "    def __init__(self, first, last) -> None:\n",
    "        self.first_name = first\n",
    "        self.last_name = last\n",
    "\n",
    "    @property\n",
    "    def full_name(self):\n",
    "        return f\"{self.first_name} {self.last_name}\"\n",
    "    \n",
    "john = Person(\"John\", \"Doe\")\n",
    "print(f\"{john.full_name=}\")"
   ]
  },
  {
   "cell_type": "code",
   "execution_count": 29,
   "metadata": {},
   "outputs": [
    {
     "name": "stdout",
     "output_type": "stream",
     "text": [
      "john.first_name='John'\n",
      "john.last_name='Doe'\n"
     ]
    }
   ],
   "source": [
    "class PersonFullName:\n",
    "    def __init__(self, name) -> None:\n",
    "        self.name = name\n",
    "\n",
    "    @property\n",
    "    def first_name(self):\n",
    "        return f\"{self.name.split()[0]}\"\n",
    "    \n",
    "    @property\n",
    "    def last_name(self):\n",
    "        return f\"{self.name.split()[1]}\"\n",
    "\n",
    "    \n",
    "john = PersonFullName(\"John Doe\")\n",
    "print(f\"{john.first_name=}\")\n",
    "print(f\"{john.last_name=}\")"
   ]
  },
  {
   "cell_type": "code",
   "execution_count": 31,
   "metadata": {},
   "outputs": [
    {
     "name": "stdout",
     "output_type": "stream",
     "text": [
      "full_name='John Doe'\n"
     ]
    }
   ],
   "source": [
    "class Person:\n",
    "    def __init__(self, first, last) -> None:\n",
    "        self.first_name = first\n",
    "        self.last_name = last\n",
    "\n",
    "john = Person(\"John\", \"Doe\")\n",
    "\n",
    "full_name = \" \".join((john.first_name, john.last_name))\n",
    "print(f\"{full_name=}\")"
   ]
  },
  {
   "cell_type": "code",
   "execution_count": 59,
   "metadata": {},
   "outputs": [
    {
     "name": "stdout",
     "output_type": "stream",
     "text": [
      "my_dict[\"key1\"] = 'value1'\n"
     ]
    },
    {
     "ename": "KeyError",
     "evalue": "'key2'",
     "output_type": "error",
     "traceback": [
      "\u001b[0;31m---------------------------------------------------------------------------\u001b[0m",
      "\u001b[0;31mKeyError\u001b[0m                                  Traceback (most recent call last)",
      "Cell \u001b[0;32mIn[59], line 4\u001b[0m\n\u001b[1;32m      2\u001b[0m my_dict[\u001b[38;5;124m\"\u001b[39m\u001b[38;5;124mkey1\u001b[39m\u001b[38;5;124m\"\u001b[39m] \u001b[38;5;241m=\u001b[39m \u001b[38;5;124m\"\u001b[39m\u001b[38;5;124mvalue1\u001b[39m\u001b[38;5;124m\"\u001b[39m\n\u001b[1;32m      3\u001b[0m \u001b[38;5;28mprint\u001b[39m(\u001b[38;5;124mf\u001b[39m\u001b[38;5;124m\"\u001b[39m\u001b[38;5;132;01m{\u001b[39;00mmy_dict[\u001b[38;5;124m\"\u001b[39m\u001b[38;5;124mkey1\u001b[39m\u001b[38;5;124m\"\u001b[39m]\u001b[38;5;250m \u001b[39m\u001b[38;5;132;01m= }\u001b[39;00m\u001b[38;5;124m\"\u001b[39m)\n\u001b[0;32m----> 4\u001b[0m \u001b[38;5;28mprint\u001b[39m(\u001b[38;5;124mf\u001b[39m\u001b[38;5;124m\"\u001b[39m\u001b[38;5;132;01m{\u001b[39;00m\u001b[43mmy_dict\u001b[49m\u001b[43m[\u001b[49m\u001b[38;5;124;43m\"\u001b[39;49m\u001b[38;5;124;43mkey2\u001b[39;49m\u001b[38;5;124;43m\"\u001b[39;49m\u001b[43m]\u001b[49m\u001b[38;5;250m \u001b[39m\u001b[38;5;132;01m= }\u001b[39;00m\u001b[38;5;124m\"\u001b[39m)\n",
      "\u001b[0;31mKeyError\u001b[0m: 'key2'"
     ]
    }
   ],
   "source": [
    "my_dict = {}\n",
    "my_dict[\"key1\"] = \"value1\"\n",
    "print(f\"{my_dict[\"key1\"] = }\")\n",
    "print(f\"{my_dict[\"key2\"] = }\")"
   ]
  },
  {
   "cell_type": "code",
   "execution_count": 61,
   "metadata": {},
   "outputs": [
    {
     "name": "stdout",
     "output_type": "stream",
     "text": [
      "my_dict.get(\"key2\") = None\n",
      "my_dict.get(\"key2\", \"default value\") = 'default value'\n"
     ]
    }
   ],
   "source": [
    "print(f\"{my_dict.get(\"key2\") = }\")\n",
    "print(f\"{my_dict.get(\"key2\", \"default value\") = }\")"
   ]
  },
  {
   "cell_type": "code",
   "execution_count": 62,
   "metadata": {},
   "outputs": [
    {
     "name": "stdout",
     "output_type": "stream",
     "text": [
      "my_dict[key] = 'value1'\n"
     ]
    }
   ],
   "source": [
    "keys = (\"key1\", \"key2\")\n",
    "for key in keys:\n",
    "    if key in my_dict:\n",
    "        print(f\"{my_dict[key] = }\")"
   ]
  },
  {
   "cell_type": "code",
   "execution_count": 6,
   "metadata": {},
   "outputs": [
    {
     "name": "stdout",
     "output_type": "stream",
     "text": [
      "175 255 144\n"
     ]
    }
   ],
   "source": [
    "multiplier = \"#AFFF90\"\n",
    "values = (int(multiplier[i:i+2], 16) for i in range(1,7,2))\n",
    "print(*values)"
   ]
  },
  {
   "cell_type": "code",
   "execution_count": 2,
   "metadata": {},
   "outputs": [
    {
     "name": "stdout",
     "output_type": "stream",
     "text": [
      "2024-07-31 16:03:25.130116\n",
      "2024-07-31\n"
     ]
    }
   ],
   "source": [
    "import datetime\n",
    "\n",
    "\n",
    "print(datetime.datetime.now())\n",
    "print(datetime.date.today())"
   ]
  },
  {
   "cell_type": "code",
   "execution_count": 13,
   "metadata": {},
   "outputs": [
    {
     "name": "stdout",
     "output_type": "stream",
     "text": [
      "<class '__main__.Typed'>\n",
      "<class 'int'>\n",
      "2\n",
      "Typed([2, 3, 4])\n",
      "<class '__main__.Typed'>\n"
     ]
    }
   ],
   "source": [
    "from typing import Sequence\n",
    "\n",
    "\n",
    "class Typed[T]:\n",
    "    def __init__(self, items: Sequence[T]) -> None:\n",
    "        self._items = items\n",
    "\n",
    "    def __getitem__(self, idx: slice | int) -> 'Typed[T]' | T:\n",
    "        if isinstance(idx, slice):\n",
    "            return Typed(self._items[idx])\n",
    "        return self._items[idx]\n",
    "\n",
    "    def __repr__(self) -> str:\n",
    "        return f\"{type(self).__name__}({self._items})\"\n",
    "\n",
    "\n",
    "inst = Typed([1, 2, 3, 4, 5, 6, 7])\n",
    "print(type(inst))\n",
    "print(type(inst[1]))\n",
    "print(inst[1])\n",
    "\n",
    "print(inst[1:4])\n",
    "print(type(inst[1:2]))"
   ]
  },
  {
   "cell_type": "code",
   "execution_count": 9,
   "metadata": {},
   "outputs": [
    {
     "name": "stdout",
     "output_type": "stream",
     "text": [
      "Parent class says: `test` from Test\n",
      "Child class says: `test` from TestChild\n"
     ]
    }
   ],
   "source": [
    "class Test:\n",
    "    def __init__(self, value: str) -> None:\n",
    "        self._value = value\n",
    "\n",
    "    def foo(self) -> str:\n",
    "        return f\"Parent class says: `{self._value}` from {type(self).__name__}\"\n",
    "    \n",
    "class TestChild(Test):\n",
    "    def foo(self) -> str:\n",
    "        return f\"Child class says: `{self._value}` from {type(self).__name__}\"\n",
    "\n",
    "\n",
    "\n",
    "test = Test(\"test\")\n",
    "test_child = TestChild(\"test\")\n",
    "print(test.foo())\n",
    "print(test_child.foo())"
   ]
  },
  {
   "cell_type": "code",
   "execution_count": 28,
   "metadata": {},
   "outputs": [
    {
     "name": "stdout",
     "output_type": "stream",
     "text": [
      "\n",
      "Result of https://google.com: b'<!doctype html><html itemscope=\"\" itemtype=\"http://schema.org/WebPage\" lang=\"uk\"><head><meta content=\"text/html; charset=UTF-8\" http-equiv=\"Content-Type\"><meta content=\"/images/branding/googleg/1x/googleg_standard_color_128dp.png\" itemprop=\"image\"><title>Google</title><script nonce=\"sR2ocPVRFBC4fH3fHXcmHg\">(function(){var _g={kEI:\\'sZ6rZrSmAdiBxc8PjL-KqA8\\',kEXPI:\\'0,18167,2486357,1195765,1092,7,302122,236535,2872,2891,11754,31274,46127,163859,2,39761,6699,41949,57734,2,2,1,6960,19672,8155,23351,22435,9779,5864,39737,17056,73179,3030,15816,1804,21011,5396,8861,961,10853,340,1088,87,120,29276,5239759,1064,16,3,19,5991328,2841007,27,27997774,43886,3,318,4,1281,3,2124363,23029351,12799,28854,22336,5,1905,47381,22622,12953,2212,8182,153,49276,9929,156,11585,2487,4267,155,2484,4400,9103,7737,6599,434,2105,4600,207,121,1543,1674,4,3004,1117,6857,1989,9710,410,518,3301,2396,23,1009,660,5634,687,3747,2929,1119,3,1771,1244,2695,2756,1723,970,4260,853,96,120,5568,547,34,101,664,5842,339,5607,1915,49,1440,436,287,2,9,622,1729,1646,3,818,3749,294,3123,1427,122,1,6,1518,731,367,3,195,919,793,186,528,1858,2,2700,167,2129,2881,523,2182,4164,4029,78,718,508,643,463,1962,513,186,54,44,2388,157,974,26,6,5,1518,483,220,1122,291,427,578,2,2379,353,397,709,60,441,621,106,61,204,70,725,712,234,189,3,2,289,119,20,247,732,2,1373,352,4717,4,717,1588,265,340,1,8,1,1,4,1,14,816,4,44,254,168,1536,9,488,369,56,1136,2,273,108,354,414,2,183,7,146,956,162,915,288,374,332,206,228,12,3,1,1,37,51,502,868,597,1579,2,93,1575,6,3,253,337,491,667,3763,21512356,3,10457,380,3638,3,7053,275,837,47,608,3064,478,611,990590\\',kBL:\\'JqFE\\',kOPI:89978449};(function(){var a;((a=window.google)==null?0:a.stvsc)?google.kEI=_g.kEI:window.google=_g;}).call(this);})();(function(){google.sn=\\'webhp\\';google.kHL=\\'uk\\';})();(function(){\\nvar h=this||self;function l(){return window.google!==void 0&&window.google.kOPI!==void 0&&window.google.kOPI!==0?window.google.kOPI:null};var m,n=[];function p(a){for(var b;a&&(!a.getAttribute||!(b=a.getAttribute(\"eid\")));)a=a.parentNode;return b||m}function q(a){for(var b=null;a&&(!a.getAttribute||!(b=a.getAttribute(\"leid\")));)a=a.parentNode;return b}function r(a){/^http:/i.test(a)&&window.location.protocol===\"https:\"&&(google.ml&&google.ml(Error(\"a\"),!1,{src:a,glmm:1}),a=\"\");return a}\\nfunction t(a,b,c,d,k){var e=\"\";b.search(\"&ei=\")===-1&&(e=\"&ei=\"+p(d),b.search(\"&lei=\")===-1&&(d=q(d))&&(e+=\"&lei=\"+d));d=\"\";var g=b.search(\"&cshid=\")===-1&&a!==\"slh\",f=[];f.push([\"zx\",Date.now().toString()]);h._cshid&&g&&f.push([\"cshid\",h._cshid]);c=c();c!=null&&f.push([\"opi\",c.toString()]);for(c=0;c<f.length;c++){if(c===0||c>0)d+=\"&\";d+=f[c][0]+\"=\"+f[c][1]}return\"/\"+(k||\"gen_204\")+\"?atyp=i&ct=\"+String(a)+\"&cad=\"+(b+e+d)};m=google.kEI;google.getEI=p;google.getLEI=q;google.ml=function(){return null};google.log=function(a,b,c,d,k,e){e=e===void 0?l:e;c||(c=t(a,b,e,d,k));if(c=r(c)){a=new Image;var g=n.length;n[g]=a;a.onerror=a.onload=a.onabort=function(){delete n[g]};a.src=c}};google.logUrl=function(a,b){b=b===void 0?l:b;return t(\"\",a,b)};}).call(this);(function(){google.y={};google.sy=[];var d;(d=google).x||(d.x=function(a,b){if(a)var c=a.id;else{do c=Math.random();while(google.y[c])}google.y[c]=[a,b];return!1});var e;(e=google).sx||(e.sx=function(a){google.sy.push(a)});google.lm=[];var f;(f=google).plm||(f.plm=function(a){google.lm.push.apply(google.lm,a)});google.lq=[];var g;(g=google).load||(g.load=function(a,b,c){google.lq.push([[a],b,c])});var h;(h=google).loadAll||(h.loadAll=function(a,b){google.lq.push([a,b])});google.bx=!1;var k;(k=google).lx||(k.lx=function(){});var l=[],m;(m=google).fce||(m.fce=function(a,b,c,n){l.push([a,b,c,n])});google.qce=l;}).call(this);google.f={};(function(){\\ndocument.documentElement.addEventListener(\"submit\",function(b){var a;if(a=b.target){var c=a.getAttribute(\"data-submitfalse\");a=c===\"1\"||c===\"q\"&&!a.elements.q.value?!0:!1}else a=!1;a&&(b.preventDefault(),b.stopPropagation())},!0);document.documentElement.addEventListener(\"click\",function(b){var a;a:{for(a=b.target;a&&a!==document.documentElement;a=a.parentElement)if(a.tagName===\"A\"){a=a.getAttribute(\"data-nohref\")===\"1\";break a}a=!1}a&&b.preventDefault()},!0);}).call(this);</script><style>#gbar,#guser{font-size:13px;padding-top:1px !important;}#gbar{height:22px}#guser{padding-bottom:7px !important;text-align:right}.gbh,.gbd{border-top:1px solid #c9d7f1;font-size:1px}.gbh{height:0;position:absolute;top:24px;width:100%}@media all{.gb1{height:22px;margin-right:.5em;vertical-align:top}#gbar{float:left}}a.gb1,a.gb4{text-decoration:underline !important}a.gb1,a.gb4{color:#00c !important}.gbi .gb4{color:#dd8e27 !important}.gbf .gb4{color:#900 !important}\\n</style><style>body,td,a,p,.h{font-family:arial,sans-serif}body{margin:0;overflow-y:scroll}#gog{padding:3px 8px 0}td{line-height:.8em}.gac_m td{line-height:17px}form{margin-bottom:20px}.h{color:#1967d2}em{font-weight:bold;font-style:normal}.lst{height:25px;width:496px}.gsfi,.lst{font:18px arial,sans-serif}.gsfs{font:17px arial,sans-serif}.ds{display:inline-box;display:inline-block;margin:3px 0 4px;margin-left:4px}input{font-family:inherit}body{background:#fff;color:#000}a{color:#681da8;text-decoration:none}a:hover,a:active{text-decoration:underline}.fl a{color:#1967d2}a:visited{color:#681da8}.sblc{padding-top:5px}.sblc a{display:block;margin:2px 0;margin-left:13px;font-size:11px}.lsbb{background:#f8f9fa;border:solid 1px;border-color:#dadce0 #70757a #70757a #dadce0;height:30px}.lsbb{display:block}#WqQANb a{display:inline-block;margin:0 12px}.lsb{background:url(/images/nav_logo229.png) 0 -261px repeat-x;color:#000;border:none;cursor:pointer;height:30px;margin:0;outline:0;font:15px arial,sans-serif;vertical-align:top}.lsb:active{background:#dadce0}.lst:focus{outline:none}.Ucigb{width:458px}</style><script nonce=\"sR2ocPVRFBC4fH3fHXcmHg\">(function(){window.google.erd={jsr:1,bv:2051,de:true};\\nvar g=this||self;var k,l=(k=g.mei)!=null?k:1,n,p=(n=g.sdo)!=null?n:!0,q=0,r,t=google.erd,v=t.jsr;google.ml=function(a,b,d,m,e){e=e===void 0?2:e;b&&(r=a&&a.message);d===void 0&&(d={});d.cad=\"ple_\"+google.ple+\".aple_\"+google.aple;if(google.dl)return google.dl(a,e,d,!0),null;b=d;if(v<0){window.console&&console.error(a,b);if(v===-2)throw a;b=!1}else b=!a||!a.message||a.message===\"Error loading script\"||q>=l&&!m?!1:!0;if(!b)return null;q++;d=d||{};b=encodeURIComponent;var c=\"/gen_204?atyp=i&ei=\"+b(google.kEI);google.kEXPI&&(c+=\"&jexpid=\"+b(google.kEXPI));c+=\"&srcpg=\"+b(google.sn)+\"&jsr=\"+b(t.jsr)+\\n\"&bver=\"+b(t.bv);t.dpf&&(c+=\"&dpf=\"+b(t.dpf));var f=a.lineNumber;f!==void 0&&(c+=\"&line=\"+f);var h=a.fileName;h&&(h.indexOf(\"-extension:/\")>0&&(e=3),c+=\"&script=\"+b(h),f&&h===window.location.href&&(f=document.documentElement.outerHTML.split(\"\\\\n\")[f],c+=\"&cad=\"+b(f?f.substring(0,300):\"No script found.\")));google.ple&&google.ple===1&&(e=2);c+=\"&jsel=\"+e;for(var u in d)c+=\"&\",c+=b(u),c+=\"=\",c+=b(d[u]);c=c+\"&emsg=\"+b(a.name+\": \"+a.message);c=c+\"&jsst=\"+b(a.stack||\"N/A\");c.length>=12288&&(c=c.substr(0,12288));a=c;m||google.log(0,\"\",a);return a};window.onerror=function(a,b,d,m,e){r!==a&&(a=e instanceof Error?e:Error(a),d===void 0||\"lineNumber\"in a||(a.lineNumber=d),b===void 0||\"fileName\"in a||(a.fileName=b),google.ml(a,!1,void 0,!1,a.name===\"SyntaxError\"||a.message.substring(0,11)===\"SyntaxError\"||a.message.indexOf(\"Script error\")!==-1?3:0));r=null;p&&q>=l&&(window.onerror=null)};})();</script></head><body bgcolor=\"#fff\"><script nonce=\"sR2ocPVRFBC4fH3fHXcmHg\">(function(){var src=\\'/images/nav_logo229.png\\';var iesg=false;document.body.onload = function(){window.n && window.n();if (document.images){new Image().src=src;}\\nif (!iesg){document.f&&document.f.q.focus();document.gbqf&&document.gbqf.q.focus();}\\n}\\n})();</script><div id=\"mngb\"><div id=gbar><nobr><b class=gb1>&#1055;&#1086;&#1096;&#1091;&#1082;</b> <a class=gb1 href=\"https://www.google.com/imghp?hl=uk&tab=wi\">&#1047;&#1086;&#1073;&#1088;&#1072;&#1078;&#1077;&#1085;&#1085;&#1103;</a> <a class=gb1 href=\"https://maps.google.com.ua/maps?hl=uk&tab=wl\">&#1050;&#1072;&#1088;&#1090;&#1080;</a> <a class=gb1 href=\"https://play.google.com/?hl=uk&tab=w8\">Play</a> <a class=gb1 href=\"https://www.youtube.com/?tab=w1\">YouTube</a> <a class=gb1 href=\"https://news.google.com/?tab=wn\">&#1053;&#1086;&#1074;&#1080;&#1085;&#1080;</a> <a class=gb1 href=\"https://mail.google.com/mail/?tab=wm\">Gmail</a> <a class=gb1 href=\"https://drive.google.com/?tab=wo\">&#1044;&#1080;&#1089;&#1082;</a> <a class=gb1 style=\"text-decoration:none\" href=\"https://www.google.com.ua/intl/uk/about/products?tab=wh\"><u>&#1041;&#1110;&#1083;&#1100;&#1096;&#1077;</u> &raquo;</a></nobr></div><div id=guser width=100%><nobr><span id=gbn class=gbi></span><span id=gbf class=gbf></span><span id=gbe></span><a href=\"http://www.google.com.ua/history/optout?hl=uk\" class=gb4>&#1030;&#1089;&#1090;&#1086;&#1088;&#1110;&#1103; &#1074;&#1077;&#1073;-&#1087;&#1086;&#1096;&#1091;&#1082;&#1091;</a> | <a  href=\"/preferences?hl=uk\" class=gb4>&#1053;&#1072;&#1083;&#1072;&#1096;&#1090;&#1091;&#1074;&#1072;&#1085;&#1085;&#1103;</a> | <a target=_top id=gb_70 href=\"https://accounts.google.com/ServiceLogin?hl=uk&passive=true&continue=https://www.google.com/&ec=GAZAAQ\" class=gb4>&#1059;&#1074;&#1110;&#1081;&#1090;&#1080;</a></nobr></div><div class=gbh style=left:0></div><div class=gbh style=right:0></div></div><center><br clear=\"all\" id=\"lgpd\"><div id=\"XjhHGf\"><img alt=\"Google\" height=\"92\" src=\"/images/branding/googlelogo/1x/googlelogo_white_background_color_272x92dp.png\" style=\"padding:28px 0 14px\" width=\"272\" id=\"hplogo\"><br><br></div><form action=\"/search\" name=\"f\"><table cellpadding=\"0\" cellspacing=\"0\"><tr valign=\"top\"><td width=\"25%\">&nbsp;</td><td align=\"center\" nowrap=\"\"><input name=\"ie\" value=\"ISO-8859-1\" type=\"hidden\"><input value=\"uk\" name=\"hl\" type=\"hidden\"><input name=\"source\" type=\"hidden\" value=\"hp\"><input name=\"biw\" type=\"hidden\"><input name=\"bih\" type=\"hidden\"><div class=\"ds\" style=\"height:32px;margin:4px 0\"><div style=\"position:relative;zoom:1\"><input class=\"lst Ucigb\" style=\"margin:0;padding:5px 8px 0 6px;vertical-align:top;color:#000;padding-right:38px\" autocomplete=\"off\" value=\"\" title=\"&#1055;&#1086;&#1096;&#1091;&#1082; Google\" maxlength=\"2048\" name=\"q\" size=\"57\"><img src=\"/textinputassistant/tia.png\" style=\"position:absolute;cursor:pointer;right:5px;top:4px;z-index:300\" data-script-url=\"/textinputassistant/13/uk_tia.js\" id=\"tsuid_1\" alt=\"\" height=\"23\" width=\"27\"><script nonce=\"sR2ocPVRFBC4fH3fHXcmHg\">(function(){var id=\\'tsuid_1\\';document.getElementById(id).onclick = function(){var s = document.createElement(\\'script\\');s.src = this.getAttribute(\\'data-script-url\\');document.body.appendChild(s);};})();</script></div></div><br style=\"line-height:0\"><span class=\"ds\"><span class=\"lsbb\"><input class=\"lsb\" value=\"&#1055;&#1086;&#1096;&#1091;&#1082; Google\" name=\"btnG\" type=\"submit\"></span></span><span class=\"ds\"><span class=\"lsbb\"><input class=\"lsb\" id=\"tsuid_2\" value=\"&#1052;&#1077;&#1085;&#1110; &#1087;&#1086;&#1097;&#1072;&#1089;&#1090;&#1080;&#1090;&#1100;\" name=\"btnI\" type=\"submit\"><script nonce=\"sR2ocPVRFBC4fH3fHXcmHg\">(function(){var id=\\'tsuid_2\\';document.getElementById(id).onclick = function(){if (this.form.q.value){this.checked = 1;if (this.form.iflsig)this.form.iflsig.disabled = false;}\\nelse top.location=\\'/doodles/\\';};})();</script><input value=\"AL9hbdgAAAAAZquswUmR9hatQ5bsUWDlmjxk2MSSI8gf\" name=\"iflsig\" type=\"hidden\"></span></span></td><td class=\"fl sblc\" align=\"left\" nowrap=\"\" width=\"25%\"><a href=\"/advanced_search?hl=uk&amp;authuser=0\">&#1056;&#1086;&#1079;&#1096;&#1080;&#1088;&#1077;&#1085;&#1080;&#1081; &#1087;&#1086;&#1096;&#1091;&#1082;</a></td></tr></table><input id=\"gbv\" name=\"gbv\" type=\"hidden\" value=\"1\"><script nonce=\"sR2ocPVRFBC4fH3fHXcmHg\">(function(){var a,b=\"1\";if(document&&document.getElementById)if(typeof XMLHttpRequest!=\"undefined\")b=\"2\";else if(typeof ActiveXObject!=\"undefined\"){var c,d,e=[\"MSXML2.XMLHTTP.6.0\",\"MSXML2.XMLHTTP.3.0\",\"MSXML2.XMLHTTP\",\"Microsoft.XMLHTTP\"];for(c=0;d=e[c++];)try{new ActiveXObject(d),b=\"2\"}catch(h){}}a=b;if(a==\"2\"&&location.search.indexOf(\"&gbv=2\")==-1){var f=google.gbvu,g=document.getElementById(\"gbv\");g&&(g.value=a);f&&window.setTimeout(function(){location.href=f},0)};}).call(this);</script></form><div style=\"font-size:83%;min-height:3.5em\"><br></div><span id=\"footer\"><div style=\"font-size:10pt\"><div style=\"margin:19px auto;text-align:center\" id=\"WqQANb\"><a href=\"/intl/uk/ads/\">&#1056;&#1077;&#1082;&#1083;&#1072;&#1084;&#1072;</a><a href=\"http://www.google.com.ua/intl/uk/services/\">&#1056;&#1110;&#1096;&#1077;&#1085;&#1085;&#1103; &#1076;&#1083;&#1103; &#1073;&#1110;&#1079;&#1085;&#1077;&#1089;&#1091;</a><a href=\"/intl/uk/about.html\">&#1059;&#1089;&#1077; &#1087;&#1088;&#1086; Google</a><a href=\"https://www.google.com/setprefdomain?prefdom=UA&amp;prev=https://www.google.com.ua/&amp;sig=K_lOa_sg_D3xXPAUTERtNlmgHcUPc%3D\">Google.com.ua</a></div></div><p style=\"font-size:8pt;color:#70757a\">&copy; 2024</p></span></center><script nonce=\"sR2ocPVRFBC4fH3fHXcmHg\">(function(){window.google.cdo={height:757,width:1440};(function(){var a=window.innerWidth,b=window.innerHeight;if(!a||!b){var c=window.document,d=c.compatMode==\"CSS1Compat\"?c.documentElement:c.body;a=d.clientWidth;b=d.clientHeight}\\nif(a&&b&&(a!=google.cdo.width||b!=google.cdo.height)){var e=google,f=e.log,g=\"/client_204?&atyp=i&biw=\"+a+\"&bih=\"+b+\"&ei=\"+google.kEI,h=\"\",k=[],l=window.google!==void 0&&window.google.kOPI!==void 0&&window.google.kOPI!==0?window.google.kOPI:null;l!=null&&k.push([\"opi\",l.toString()]);for(var m=0;m<k.length;m++){if(m===0||m>0)h+=\"&\";h+=k[m][0]+\"=\"+k[m][1]}f.call(e,\"\",\"\",g+h)};}).call(this);})();</script>  <script nonce=\"sR2ocPVRFBC4fH3fHXcmHg\">(function(){google.xjs={basecomb:\\'/xjs/_/js/k\\\\x3dxjs.hp.en.LSUGlR6EXoI.O/ck\\\\x3dxjs.hp.9_Ve0e61vuQ.L.X.O/am\\\\x3dAQAACAAAAAAAAAAAAAAAAAAAAAAAAgAAAAAAACAAA-AAAABAAEAgAAAAAAAPAAAAAgAAACAEAIABIAAAcCC-IwAQAIsAAPAC/d\\\\x3d1/ed\\\\x3d1/dg\\\\x3d0/ujg\\\\x3d1/rs\\\\x3dACT90oGCmO71YvlBx6sxoiOmtHGqYPGmyQ\\',basecss:\\'/xjs/_/ss/k\\\\x3dxjs.hp.9_Ve0e61vuQ.L.X.O/am\\\\x3dAQAACAAAAAAAAAAAAAAAAAAAAAAAAAAAAAAAACAAAAAAAABAAEAgAAAAAAAAAAAAAgAAACAEAIABIA/rs\\\\x3dACT90oHFLbGdKw-_lXvAGg0Xc7qFvF7z0A\\',basejs:\\'/xjs/_/js/k\\\\x3dxjs.hp.en.LSUGlR6EXoI.O/am\\\\x3dAAAAAAAAAAAAAAAAAAAAAAAAAAAAAgAAAAAAAAAAA-AAAAAAAAAAAAAAAAAPAAAAAAAAAAAAAAAAAAAAcCC-IwAQAIsAAPAC/dg\\\\x3d0/rs\\\\x3dACT90oHIY7zhFKbP-pFLIt7RXvaUkekNKA\\',excm:[]};})();</script>  <link href=\"/xjs/_/ss/k=xjs.hp.9_Ve0e61vuQ.L.X.O/am=AQAACAAAAAAAAAAAAAAAAAAAAAAAAAAAAAAAACAAAAAAAABAAEAgAAAAAAAAAAAAAgAAACAEAIABIA/d=1/ed=1/rs=ACT90oHFLbGdKw-_lXvAGg0Xc7qFvF7z0A/m=sb_he,d\" rel=\"stylesheet\" nonce=\"sR2ocPVRFBC4fH3fHXcmHg\">      <script nonce=\"sR2ocPVRFBC4fH3fHXcmHg\">(function(){var u=\\'/xjs/_/js/k\\\\x3dxjs.hp.en.LSUGlR6EXoI.O/am\\\\x3dAAAAAAAAAAAAAAAAAAAAAAAAAAAAAgAAAAAAAAAAA-AAAAAAAAAAAAAAAAAPAAAAAAAAAAAAAAAAAAAAcCC-IwAQAIsAAPAC/d\\\\x3d1/ed\\\\x3d1/dg\\\\x3d3/rs\\\\x3dACT90oHIY7zhFKbP-pFLIt7RXvaUkekNKA/m\\\\x3dsb_he,d\\';var st=1;var amd=1000;var mmd=0;var pod=true;\\nvar f=this||self,g=function(a){return a};var h;var k=function(a){this.g=a};k.prototype.toString=function(){return this.g+\"\"};var l=function(a){return a instanceof k&&a.constructor===k?a.g:\"type_error:TrustedResourceUrl\"},m={};\\nvar n=/^\\\\s*(?!javascript:)(?:[\\\\w+.-]+:|[^:/?#]*(?:[/?#]|$))/i;var p=\"alternate author bookmark canonical cite help icon license modulepreload next prefetch dns-prefetch prerender preconnect preload prev search subresource\".split(\" \");function q(a,b){a.src=l(b);var c,d;(c=(b=(d=(c=(a.ownerDocument&&a.ownerDocument.defaultView||window).document).querySelector)==null?void 0:d.call(c,\"script[nonce]\"))?b.nonce||b.getAttribute(\"nonce\")||\"\":\"\")&&a.setAttribute(\"nonce\",c)};var r=function(a){var b=document;a=String(a);b.contentType===\"application/xhtml+xml\"&&(a=a.toLowerCase());return b.createElement(a)};function t(a){a=a===null?\"null\":a===void 0?\"undefined\":a;if(h===void 0){var b=null;var c=f.trustedTypes;if(c&&c.createPolicy){try{b=c.createPolicy(\"goog#html\",{createHTML:g,createScript:g,createScriptURL:g})}catch(d){f.console&&f.console.error(d.message)}h=b}else h=b}a=(b=h)?b.createScriptURL(a):a;return new k(a,m)};google.ps===void 0&&(google.ps=[]);function w(){var a=u,b=function(){};google.lx=google.stvsc?b:function(){x(a);google.lx=b};google.bx||google.lx()}function y(a,b){b&&q(a,t(b));var c=a.onload;a.onload=function(d){c&&c(d);google.ps=google.ps.filter(function(e){return a!==e})};google.ps.push(a);document.body.appendChild(a)}google.as=y;function x(a){google.timers&&google.timers.load&&google.tick&&google.tick(\"load\",\"xjsls\");var b=r(\"SCRIPT\");b.onerror=function(){google.ple=1};b.onload=function(){google.ple=0};google.xjsus=void 0;y(b,a);google.aple=-1;google.dp=!0}\\nfunction z(){var a=[u];if(!google.dp){for(var b=0;b<a.length;b++){var c=r(\"LINK\"),d=c,e=t(a[b]);if(e instanceof k)d.href=l(e).toString(),d.rel=\"preload\";else{if(p.indexOf(\"preload\")===-1)throw Error(\"a`preload\");e=n.test(e)?e:void 0;e!==void 0&&(d.href=e,d.rel=\"preload\")}c.setAttribute(\"as\",\"script\");document.body.appendChild(c)}google.dp=!0}};function A(a){var b=a.getAttribute(\"jscontroller\");return(b===\"UBXHI\"||b===\"R3fhkb\"||b===\"TSZEqd\")&&a.hasAttribute(\"data-src\")}function B(){for(var a=document.getElementsByTagName(\"img\"),b=0,c=a.length;b<c;b++){var d=a[b];if(d.hasAttribute(\"data-lzy_\")&&Number(d.getAttribute(\"data-atf\"))&1&&!A(d))return!0}return!1}for(var C=document.getElementsByTagName(\"img\"),D=0,E=C.length;D<E;++D){var F=C[D];Number(F.getAttribute(\"data-atf\"))&1&&A(F)&&(F.src=F.getAttribute(\"data-src\"))};var G,H,I,J,K;function L(){google.xjsu=u;f._F_jsUrl=u;J=function(){w()};G=!1;H=(st===1||st===3)&&!!google.caft&&!B();I=(st===2||st===3)&&!!google.rairicb&&!B();K=pod}function M(){G||H||I||(J(),G=!0)}setTimeout(function(){google&&google.tick&&google.timers&&google.timers.load&&google.tick(\"load\",\"xjspls\");L();if(H||I){if(H){var a=function(){H=!1;M()};google.caft(a);window.setTimeout(a,amd)}I&&(a=function(){I=!1;M()},(0,google.rairicb)(a),window.setTimeout(a,mmd));K&&(G||z())}else J()},0);})();window._ = window._ || {};window._DumpException = _._DumpException = function(e){throw e;};window._s = window._s || {};_s._DumpException = _._DumpException;window._qs = window._qs || {};_qs._DumpException = _._DumpException;(function(){var t=[134217729,0,0,0,0,655360,0,134783488,8446003,65540,516,62914848,33554432,0,402653250,2576,599662704,740311040,788529160];window._F_toggles = window._xjs_toggles = t;})();window._F_installCss = window._F_installCss || function(css){};(function(){google.jl={bfl:0,dw:false,ine:false,ubm:false,uwp:true,vs:false};})();(function(){var pmc=\\'{\\\\x22d\\\\x22:{},\\\\x22sb_he\\\\x22:{\\\\x22agen\\\\x22:false,\\\\x22cgen\\\\x22:false,\\\\x22client\\\\x22:\\\\x22heirloom-hp\\\\x22,\\\\x22dh\\\\x22:true,\\\\x22ds\\\\x22:\\\\x22\\\\x22,\\\\x22fl\\\\x22:true,\\\\x22host\\\\x22:\\\\x22google.com\\\\x22,\\\\x22jsonp\\\\x22:true,\\\\x22msgs\\\\x22:{\\\\x22cibl\\\\x22:\\\\x22\\\\\\\\u041e\\\\\\\\u0447\\\\\\\\u0438\\\\\\\\u0441\\\\\\\\u0442\\\\\\\\u0438\\\\\\\\u0442\\\\\\\\u0438 \\\\\\\\u043f\\\\\\\\u043e\\\\\\\\u0448\\\\\\\\u0443\\\\\\\\u043a\\\\\\\\u043e\\\\\\\\u0432\\\\\\\\u0438\\\\\\\\u0439 \\\\\\\\u0437\\\\\\\\u0430\\\\\\\\u043f\\\\\\\\u0438\\\\\\\\u0442\\\\x22,\\\\x22dym\\\\x22:\\\\x22\\\\\\\\u041c\\\\\\\\u043e\\\\\\\\u0436\\\\\\\\u043b\\\\\\\\u0438\\\\\\\\u0432\\\\\\\\u043e, \\\\\\\\u0432\\\\\\\\u0438 \\\\\\\\u043c\\\\\\\\u0430\\\\\\\\u043b\\\\\\\\u0438 \\\\\\\\u043d\\\\\\\\u0430 \\\\\\\\u0443\\\\\\\\u0432\\\\\\\\u0430\\\\\\\\u0437\\\\\\\\u0456:\\\\x22,\\\\x22lcky\\\\x22:\\\\x22\\\\\\\\u041c\\\\\\\\u0435\\\\\\\\u043d\\\\\\\\u0456 \\\\\\\\u043f\\\\\\\\u043e\\\\\\\\u0449\\\\\\\\u0430\\\\\\\\u0441\\\\\\\\u0442\\\\\\\\u0438\\\\\\\\u0442\\\\\\\\u044c\\\\x22,\\\\x22lml\\\\x22:\\\\x22\\\\\\\\u0414\\\\\\\\u043e\\\\\\\\u043a\\\\\\\\u043b\\\\\\\\u0430\\\\\\\\u0434\\\\\\\\u043d\\\\\\\\u0456\\\\\\\\u0448\\\\\\\\u0435\\\\x22,\\\\x22psrc\\\\x22:\\\\x22\\\\\\\\u0426\\\\\\\\u0435\\\\\\\\u0439 \\\\\\\\u043f\\\\\\\\u043e\\\\\\\\u0448\\\\\\\\u0443\\\\\\\\u043a \\\\\\\\u0432\\\\\\\\u0438\\\\\\\\u0434\\\\\\\\u0430\\\\\\\\u043b\\\\\\\\u0435\\\\\\\\u043d\\\\\\\\u043e \\\\\\\\u0437 \\\\\\\\u0432\\\\\\\\u0430\\\\\\\\u0448\\\\\\\\u043e\\\\\\\\u0457 \\\\\\\\u003Ca href\\\\x3d\\\\\\\\\\\\x22/history\\\\\\\\\\\\x22\\\\\\\\u003E\\\\\\\\u0432\\\\\\\\u0435\\\\\\\\u0431-\\\\\\\\u0456\\\\\\\\u0441\\\\\\\\u0442\\\\\\\\u043e\\\\\\\\u0440\\\\\\\\u0456\\\\\\\\u0457\\\\\\\\u003C/a\\\\\\\\u003E\\\\x22,\\\\x22psrl\\\\x22:\\\\x22\\\\\\\\u0412\\\\\\\\u0438\\\\\\\\u0434\\\\\\\\u0430\\\\\\\\u043b\\\\\\\\u0438\\\\\\\\u0442\\\\\\\\u0438\\\\x22,\\\\x22sbit\\\\x22:\\\\x22\\\\\\\\u041f\\\\\\\\u043e\\\\\\\\u0448\\\\\\\\u0443\\\\\\\\u043a \\\\\\\\u0437\\\\\\\\u0430 \\\\\\\\u0437\\\\\\\\u043e\\\\\\\\u0431\\\\\\\\u0440\\\\\\\\u0430\\\\\\\\u0436\\\\\\\\u0435\\\\\\\\u043d\\\\\\\\u043d\\\\\\\\u044f\\\\\\\\u043c\\\\x22,\\\\x22srch\\\\x22:\\\\x22\\\\\\\\u041f\\\\\\\\u043e\\\\\\\\u0448\\\\\\\\u0443\\\\\\\\u043a Google\\\\x22},\\\\x22ovr\\\\x22:{},\\\\x22pq\\\\x22:\\\\x22\\\\x22,\\\\x22rfs\\\\x22:[],\\\\x22stok\\\\x22:\\\\x22fgEzzhzjek7rvuiPKigZf2_9hoY\\\\x22}}\\';google.pmc=JSON.parse(pmc);})();(function(){var b=function(a){var c=0;return function(){return c<a.length?{done:!1,value:a[c++]}:{done:!0}}};\\nvar e=this||self;var g,h;a:{for(var k=[\"CLOSURE_FLAGS\"],l=e,n=0;n<k.length;n++)if(l=l[k[n]],l==null){h=null;break a}h=l}var p=h&&h[610401301];g=p!=null?p:!1;var q,r=e.navigator;q=r?r.userAgentData||null:null;function t(a){return g?q?q.brands.some(function(c){return(c=c.brand)&&c.indexOf(a)!=-1}):!1:!1}function u(a){var c;a:{if(c=e.navigator)if(c=c.userAgent)break a;c=\"\"}return c.indexOf(a)!=-1};function v(){return g?!!q&&q.brands.length>0:!1}function w(){return u(\"Safari\")&&!(x()||(v()?0:u(\"Coast\"))||(v()?0:u(\"Opera\"))||(v()?0:u(\"Edge\"))||(v()?t(\"Microsoft Edge\"):u(\"Edg/\"))||(v()?t(\"Opera\"):u(\"OPR\"))||u(\"Firefox\")||u(\"FxiOS\")||u(\"Silk\")||u(\"Android\"))}function x(){return v()?t(\"Chromium\"):(u(\"Chrome\")||u(\"CriOS\"))&&!(v()?0:u(\"Edge\"))||u(\"Silk\")}function y(){return u(\"Android\")&&!(x()||u(\"Firefox\")||u(\"FxiOS\")||(v()?0:u(\"Opera\"))||u(\"Silk\"))};var z=v()?!1:u(\"Trident\")||u(\"MSIE\");y();x();w();var A=!z&&!w(),D=function(a){if(/-[a-z]/.test(\"ved\"))return null;if(A&&a.dataset){if(y()&&!(\"ved\"in a.dataset))return null;a=a.dataset.ved;return a===void 0?null:a}return a.getAttribute(\"data-\"+\"ved\".replace(/([A-Z])/g,\"-$1\").toLowerCase())};var E=[],F=null;function G(a){a=a.target;var c=performance.now(),f=[],H=f.concat,d=E;if(!(d instanceof Array)){var m=typeof Symbol!=\"undefined\"&&Symbol.iterator&&d[Symbol.iterator];if(m)d=m.call(d);else if(typeof d.length==\"number\")d={next:b(d)};else throw Error(\"b`\"+String(d));for(var B=[];!(m=d.next()).done;)B.push(m.value);d=B}E=H.call(f,d,[c]);if(a&&a instanceof HTMLElement)if(a===F){if(c=E.length>=4)c=(E[E.length-1]-E[E.length-4])/1E3<5;if(c){c=google.getEI(a);a.hasAttribute(\"data-ved\")?f=a?D(a)||\"\":\"\":f=(f=\\na.closest(\"[data-ved]\"))?D(f)||\"\":\"\";f=f||\"\";if(a.hasAttribute(\"jsname\"))a=a.getAttribute(\"jsname\");else{var C;a=(C=a.closest(\"[jsname]\"))==null?void 0:C.getAttribute(\"jsname\")}google.log(\"rcm\",\"&ei=\"+c+\"&tgtved=\"+f+\"&jsname=\"+(a||\"\"))}}else F=a,E=[c]}window.document.addEventListener(\"DOMContentLoaded\",function(){document.body.addEventListener(\"click\",G)});}).call(this);</script></body></html>'\n",
      "JSON Body: ERROR: Response content is not a balid JSON\n",
      "\n",
      "Result of https://api.coindesk.com/v1/bpi/currentprice.json: b'{\"time\":{\"updated\":\"Aug 1, 2024 14:41:23 UTC\",\"updatedISO\":\"2024-08-01T14:41:23+00:00\",\"updateduk\":\"Aug 1, 2024 at 15:41 BST\"},\"disclaimer\":\"This data was produced from the CoinDesk Bitcoin Price Index (USD). Non-USD currency data converted using hourly conversion rate from openexchangerates.org\",\"chartName\":\"Bitcoin\",\"bpi\":{\"USD\":{\"code\":\"USD\",\"symbol\":\"&#36;\",\"rate\":\"64,421.399\",\"description\":\"United States Dollar\",\"rate_float\":64421.3989},\"GBP\":{\"code\":\"GBP\",\"symbol\":\"&pound;\",\"rate\":\"50,222.794\",\"description\":\"British Pound Sterling\",\"rate_float\":50222.7937},\"EUR\":{\"code\":\"EUR\",\"symbol\":\"&euro;\",\"rate\":\"59,623.615\",\"description\":\"Euro\",\"rate_float\":59623.6152}}}'\n",
      "JSON Body: {'bpi': {'EUR': {'code': 'EUR',\n",
      "                 'description': 'Euro',\n",
      "                 'rate': '59,623.615',\n",
      "                 'rate_float': 59623.6152,\n",
      "                 'symbol': '&euro;'},\n",
      "         'GBP': {'code': 'GBP',\n",
      "                 'description': 'British Pound Sterling',\n",
      "                 'rate': '50,222.794',\n",
      "                 'rate_float': 50222.7937,\n",
      "                 'symbol': '&pound;'},\n",
      "         'USD': {'code': 'USD',\n",
      "                 'description': 'United States Dollar',\n",
      "                 'rate': '64,421.399',\n",
      "                 'rate_float': 64421.3989,\n",
      "                 'symbol': '&#36;'}},\n",
      " 'chartName': 'Bitcoin',\n",
      " 'disclaimer': 'This data was produced from the CoinDesk Bitcoin Price Index '\n",
      "               '(USD). Non-USD currency data converted using hourly conversion '\n",
      "               'rate from openexchangerates.org',\n",
      " 'time': {'updated': 'Aug 1, 2024 14:41:23 UTC',\n",
      "          'updatedISO': '2024-08-01T14:41:23+00:00',\n",
      "          'updateduk': 'Aug 1, 2024 at 15:41 BST'}}\n"
     ]
    }
   ],
   "source": [
    "import requests\n",
    "import pprint\n",
    "\n",
    "CONST_GOOGLE = \"https://google.com\"\n",
    "CONST_BITCOIN_ENDPOINT = \"https://api.coindesk.com/v1/bpi/currentprice.json\"\n",
    "\n",
    "\n",
    "def do_get(url: str):\n",
    "\n",
    "    result = requests.get(url)\n",
    "    print()\n",
    "    print(f\"Result of {url}: {result.content}\")\n",
    "    try:\n",
    "        print(\"JSON Body: \", end=\"\")\n",
    "        pprint.pprint(result.json())\n",
    "    except requests.JSONDecodeError:\n",
    "        print(\"ERROR: Response content is not a balid JSON\")\n",
    "\n",
    "\n",
    "do_get(CONST_GOOGLE)\n",
    "do_get(CONST_BITCOIN_ENDPOINT)"
   ]
  },
  {
   "cell_type": "code",
   "execution_count": 1,
   "metadata": {},
   "outputs": [
    {
     "data": {
      "text/plain": [
       "False"
      ]
     },
     "execution_count": 1,
     "metadata": {},
     "output_type": "execute_result"
    }
   ],
   "source": [
    "\"HELLO\".startswith(\"hello\")"
   ]
  },
  {
   "cell_type": "code",
   "execution_count": null,
   "metadata": {},
   "outputs": [],
   "source": [
    "import check50\n",
    "check50.hash()\n"
   ]
  },
  {
   "cell_type": "code",
   "execution_count": 2,
   "metadata": {},
   "outputs": [
    {
     "ename": "ValueError",
     "evalue": "empty range in randrange(1, 1)",
     "output_type": "error",
     "traceback": [
      "\u001b[0;31m---------------------------------------------------------------------------\u001b[0m",
      "\u001b[0;31mValueError\u001b[0m                                Traceback (most recent call last)",
      "Cell \u001b[0;32mIn[2], line 3\u001b[0m\n\u001b[1;32m      1\u001b[0m \u001b[38;5;28;01mimport\u001b[39;00m \u001b[38;5;21;01mrandom\u001b[39;00m\n\u001b[1;32m      2\u001b[0m n \u001b[38;5;241m=\u001b[39m \u001b[38;5;241m1\u001b[39m\n\u001b[0;32m----> 3\u001b[0m \u001b[43mrandom\u001b[49m\u001b[38;5;241;43m.\u001b[39;49m\u001b[43mrandrange\u001b[49m\u001b[43m(\u001b[49m\u001b[38;5;241;43m1\u001b[39;49m\u001b[43m,\u001b[49m\u001b[43mn\u001b[49m\u001b[43m)\u001b[49m\n",
      "File \u001b[0;32m~/.pyenv/versions/3.12.4/lib/python3.12/random.py:319\u001b[0m, in \u001b[0;36mRandom.randrange\u001b[0;34m(self, start, stop, step)\u001b[0m\n\u001b[1;32m    317\u001b[0m     \u001b[38;5;28;01mif\u001b[39;00m width \u001b[38;5;241m>\u001b[39m \u001b[38;5;241m0\u001b[39m:\n\u001b[1;32m    318\u001b[0m         \u001b[38;5;28;01mreturn\u001b[39;00m istart \u001b[38;5;241m+\u001b[39m \u001b[38;5;28mself\u001b[39m\u001b[38;5;241m.\u001b[39m_randbelow(width)\n\u001b[0;32m--> 319\u001b[0m     \u001b[38;5;28;01mraise\u001b[39;00m \u001b[38;5;167;01mValueError\u001b[39;00m(\u001b[38;5;124mf\u001b[39m\u001b[38;5;124m\"\u001b[39m\u001b[38;5;124mempty range in randrange(\u001b[39m\u001b[38;5;132;01m{\u001b[39;00mstart\u001b[38;5;132;01m}\u001b[39;00m\u001b[38;5;124m, \u001b[39m\u001b[38;5;132;01m{\u001b[39;00mstop\u001b[38;5;132;01m}\u001b[39;00m\u001b[38;5;124m)\u001b[39m\u001b[38;5;124m\"\u001b[39m)\n\u001b[1;32m    321\u001b[0m \u001b[38;5;66;03m# Non-unit step argument supplied.\u001b[39;00m\n\u001b[1;32m    322\u001b[0m \u001b[38;5;28;01mif\u001b[39;00m istep \u001b[38;5;241m>\u001b[39m \u001b[38;5;241m0\u001b[39m:\n",
      "\u001b[0;31mValueError\u001b[0m: empty range in randrange(1, 1)"
     ]
    }
   ],
   "source": [
    "import random\n",
    "n = 1\n",
    "random.randrange(1,n)"
   ]
  },
  {
   "cell_type": "code",
   "execution_count": 3,
   "metadata": {},
   "outputs": [
    {
     "name": "stdout",
     "output_type": "stream",
     "text": [
      "not it!\n"
     ]
    }
   ],
   "source": [
    "level = None\n",
    "if level not in [1, 2, 3]:\n",
    "    print(\"not it!\")"
   ]
  },
  {
   "cell_type": "code",
   "execution_count": 10,
   "metadata": {},
   "outputs": [
    {
     "name": "stdout",
     "output_type": "stream",
     "text": [
      "0\n",
      "ten\n",
      "20\n",
      "30\n"
     ]
    }
   ],
   "source": [
    "def ternary(multiplier):    \n",
    "    return \"ten\" if multiplier == 1 else 10*multiplier # ternary conditttional operator example\n",
    "\n",
    "\n",
    "print(ternary(0))\n",
    "print(ternary(1))\n",
    "print(ternary(2))\n",
    "print(ternary(3))"
   ]
  },
  {
   "cell_type": "code",
   "execution_count": 21,
   "metadata": {},
   "outputs": [
    {
     "data": {
      "text/plain": [
       "{1: (10,),\n",
       " 2: (10, 100),\n",
       " 3: (100, 1000),\n",
       " 4: (1000, 10000),\n",
       " 5: (10000, 100000),\n",
       " 6: (100000, 1000000),\n",
       " 7: (1000000, 10000000),\n",
       " 8: (10000000, 100000000),\n",
       " 9: (100000000, 1000000000),\n",
       " 10: (1000000000, 10000000000),\n",
       " 11: (10000000000, 100000000000),\n",
       " 12: (100000000000, 1000000000000),\n",
       " 13: (1000000000000, 10000000000000),\n",
       " 14: (10000000000000, 100000000000000),\n",
       " 15: (100000000000000, 1000000000000000),\n",
       " 16: (1000000000000000, 10000000000000000),\n",
       " 17: (10000000000000000, 100000000000000000),\n",
       " 18: (100000000000000000, 1000000000000000000),\n",
       " 19: (1000000000000000000, 10000000000000000000),\n",
       " 20: (10000000000000000000, 100000000000000000000),\n",
       " 21: (100000000000000000000, 1000000000000000000000),\n",
       " 22: (1000000000000000000000, 10000000000000000000000),\n",
       " 23: (10000000000000000000000, 100000000000000000000000),\n",
       " 24: (100000000000000000000000, 1000000000000000000000000),\n",
       " 25: (1000000000000000000000000, 10000000000000000000000000),\n",
       " 26: (10000000000000000000000000, 100000000000000000000000000),\n",
       " 27: (100000000000000000000000000, 1000000000000000000000000000),\n",
       " 28: (1000000000000000000000000000, 10000000000000000000000000000),\n",
       " 29: (10000000000000000000000000000, 100000000000000000000000000000),\n",
       " 30: (100000000000000000000000000000, 1000000000000000000000000000000),\n",
       " 31: (1000000000000000000000000000000, 10000000000000000000000000000000),\n",
       " 32: (10000000000000000000000000000000, 100000000000000000000000000000000),\n",
       " 33: (100000000000000000000000000000000, 1000000000000000000000000000000000),\n",
       " 34: (1000000000000000000000000000000000, 10000000000000000000000000000000000),\n",
       " 35: (10000000000000000000000000000000000,\n",
       "  100000000000000000000000000000000000),\n",
       " 36: (100000000000000000000000000000000000,\n",
       "  1000000000000000000000000000000000000),\n",
       " 37: (1000000000000000000000000000000000000,\n",
       "  10000000000000000000000000000000000000),\n",
       " 38: (10000000000000000000000000000000000000,\n",
       "  100000000000000000000000000000000000000),\n",
       " 39: (100000000000000000000000000000000000000,\n",
       "  1000000000000000000000000000000000000000),\n",
       " 40: (1000000000000000000000000000000000000000,\n",
       "  10000000000000000000000000000000000000000),\n",
       " 41: (10000000000000000000000000000000000000000,\n",
       "  100000000000000000000000000000000000000000),\n",
       " 42: (100000000000000000000000000000000000000000,\n",
       "  1000000000000000000000000000000000000000000),\n",
       " 43: (1000000000000000000000000000000000000000000,\n",
       "  10000000000000000000000000000000000000000000),\n",
       " 44: (10000000000000000000000000000000000000000000,\n",
       "  100000000000000000000000000000000000000000000),\n",
       " 45: (100000000000000000000000000000000000000000000,\n",
       "  1000000000000000000000000000000000000000000000),\n",
       " 46: (1000000000000000000000000000000000000000000000,\n",
       "  10000000000000000000000000000000000000000000000),\n",
       " 47: (10000000000000000000000000000000000000000000000,\n",
       "  100000000000000000000000000000000000000000000000),\n",
       " 48: (100000000000000000000000000000000000000000000000,\n",
       "  1000000000000000000000000000000000000000000000000),\n",
       " 49: (1000000000000000000000000000000000000000000000000,\n",
       "  10000000000000000000000000000000000000000000000000),\n",
       " 50: (10000000000000000000000000000000000000000000000000,\n",
       "  100000000000000000000000000000000000000000000000000),\n",
       " 51: (100000000000000000000000000000000000000000000000000,\n",
       "  1000000000000000000000000000000000000000000000000000),\n",
       " 52: (1000000000000000000000000000000000000000000000000000,\n",
       "  10000000000000000000000000000000000000000000000000000),\n",
       " 53: (10000000000000000000000000000000000000000000000000000,\n",
       "  100000000000000000000000000000000000000000000000000000),\n",
       " 54: (100000000000000000000000000000000000000000000000000000,\n",
       "  1000000000000000000000000000000000000000000000000000000),\n",
       " 55: (1000000000000000000000000000000000000000000000000000000,\n",
       "  10000000000000000000000000000000000000000000000000000000),\n",
       " 56: (10000000000000000000000000000000000000000000000000000000,\n",
       "  100000000000000000000000000000000000000000000000000000000),\n",
       " 57: (100000000000000000000000000000000000000000000000000000000,\n",
       "  1000000000000000000000000000000000000000000000000000000000),\n",
       " 58: (1000000000000000000000000000000000000000000000000000000000,\n",
       "  10000000000000000000000000000000000000000000000000000000000),\n",
       " 59: (10000000000000000000000000000000000000000000000000000000000,\n",
       "  100000000000000000000000000000000000000000000000000000000000),\n",
       " 60: (100000000000000000000000000000000000000000000000000000000000,\n",
       "  1000000000000000000000000000000000000000000000000000000000000),\n",
       " 61: (1000000000000000000000000000000000000000000000000000000000000,\n",
       "  10000000000000000000000000000000000000000000000000000000000000),\n",
       " 62: (10000000000000000000000000000000000000000000000000000000000000,\n",
       "  100000000000000000000000000000000000000000000000000000000000000),\n",
       " 63: (100000000000000000000000000000000000000000000000000000000000000,\n",
       "  1000000000000000000000000000000000000000000000000000000000000000),\n",
       " 64: (1000000000000000000000000000000000000000000000000000000000000000,\n",
       "  10000000000000000000000000000000000000000000000000000000000000000),\n",
       " 65: (10000000000000000000000000000000000000000000000000000000000000000,\n",
       "  100000000000000000000000000000000000000000000000000000000000000000),\n",
       " 66: (100000000000000000000000000000000000000000000000000000000000000000,\n",
       "  1000000000000000000000000000000000000000000000000000000000000000000),\n",
       " 67: (1000000000000000000000000000000000000000000000000000000000000000000,\n",
       "  10000000000000000000000000000000000000000000000000000000000000000000),\n",
       " 68: (10000000000000000000000000000000000000000000000000000000000000000000,\n",
       "  100000000000000000000000000000000000000000000000000000000000000000000),\n",
       " 69: (100000000000000000000000000000000000000000000000000000000000000000000,\n",
       "  1000000000000000000000000000000000000000000000000000000000000000000000),\n",
       " 70: (1000000000000000000000000000000000000000000000000000000000000000000000,\n",
       "  10000000000000000000000000000000000000000000000000000000000000000000000),\n",
       " 71: (10000000000000000000000000000000000000000000000000000000000000000000000,\n",
       "  100000000000000000000000000000000000000000000000000000000000000000000000),\n",
       " 72: (100000000000000000000000000000000000000000000000000000000000000000000000,\n",
       "  1000000000000000000000000000000000000000000000000000000000000000000000000),\n",
       " 73: (1000000000000000000000000000000000000000000000000000000000000000000000000,\n",
       "  10000000000000000000000000000000000000000000000000000000000000000000000000),\n",
       " 74: (10000000000000000000000000000000000000000000000000000000000000000000000000,\n",
       "  100000000000000000000000000000000000000000000000000000000000000000000000000),\n",
       " 75: (100000000000000000000000000000000000000000000000000000000000000000000000000,\n",
       "  1000000000000000000000000000000000000000000000000000000000000000000000000000),\n",
       " 76: (1000000000000000000000000000000000000000000000000000000000000000000000000000,\n",
       "  10000000000000000000000000000000000000000000000000000000000000000000000000000),\n",
       " 77: (10000000000000000000000000000000000000000000000000000000000000000000000000000,\n",
       "  100000000000000000000000000000000000000000000000000000000000000000000000000000),\n",
       " 78: (100000000000000000000000000000000000000000000000000000000000000000000000000000,\n",
       "  1000000000000000000000000000000000000000000000000000000000000000000000000000000),\n",
       " 79: (1000000000000000000000000000000000000000000000000000000000000000000000000000000,\n",
       "  10000000000000000000000000000000000000000000000000000000000000000000000000000000),\n",
       " 80: (10000000000000000000000000000000000000000000000000000000000000000000000000000000,\n",
       "  100000000000000000000000000000000000000000000000000000000000000000000000000000000),\n",
       " 81: (100000000000000000000000000000000000000000000000000000000000000000000000000000000,\n",
       "  1000000000000000000000000000000000000000000000000000000000000000000000000000000000),\n",
       " 82: (1000000000000000000000000000000000000000000000000000000000000000000000000000000000,\n",
       "  10000000000000000000000000000000000000000000000000000000000000000000000000000000000),\n",
       " 83: (10000000000000000000000000000000000000000000000000000000000000000000000000000000000,\n",
       "  100000000000000000000000000000000000000000000000000000000000000000000000000000000000),\n",
       " 84: (100000000000000000000000000000000000000000000000000000000000000000000000000000000000,\n",
       "  1000000000000000000000000000000000000000000000000000000000000000000000000000000000000),\n",
       " 85: (1000000000000000000000000000000000000000000000000000000000000000000000000000000000000,\n",
       "  10000000000000000000000000000000000000000000000000000000000000000000000000000000000000),\n",
       " 86: (10000000000000000000000000000000000000000000000000000000000000000000000000000000000000,\n",
       "  100000000000000000000000000000000000000000000000000000000000000000000000000000000000000),\n",
       " 87: (100000000000000000000000000000000000000000000000000000000000000000000000000000000000000,\n",
       "  1000000000000000000000000000000000000000000000000000000000000000000000000000000000000000),\n",
       " 88: (1000000000000000000000000000000000000000000000000000000000000000000000000000000000000000,\n",
       "  10000000000000000000000000000000000000000000000000000000000000000000000000000000000000000),\n",
       " 89: (10000000000000000000000000000000000000000000000000000000000000000000000000000000000000000,\n",
       "  100000000000000000000000000000000000000000000000000000000000000000000000000000000000000000),\n",
       " 90: (100000000000000000000000000000000000000000000000000000000000000000000000000000000000000000,\n",
       "  1000000000000000000000000000000000000000000000000000000000000000000000000000000000000000000),\n",
       " 91: (1000000000000000000000000000000000000000000000000000000000000000000000000000000000000000000,\n",
       "  10000000000000000000000000000000000000000000000000000000000000000000000000000000000000000000),\n",
       " 92: (10000000000000000000000000000000000000000000000000000000000000000000000000000000000000000000,\n",
       "  100000000000000000000000000000000000000000000000000000000000000000000000000000000000000000000),\n",
       " 93: (100000000000000000000000000000000000000000000000000000000000000000000000000000000000000000000,\n",
       "  1000000000000000000000000000000000000000000000000000000000000000000000000000000000000000000000),\n",
       " 94: (1000000000000000000000000000000000000000000000000000000000000000000000000000000000000000000000,\n",
       "  10000000000000000000000000000000000000000000000000000000000000000000000000000000000000000000000),\n",
       " 95: (10000000000000000000000000000000000000000000000000000000000000000000000000000000000000000000000,\n",
       "  100000000000000000000000000000000000000000000000000000000000000000000000000000000000000000000000),\n",
       " 96: (100000000000000000000000000000000000000000000000000000000000000000000000000000000000000000000000,\n",
       "  1000000000000000000000000000000000000000000000000000000000000000000000000000000000000000000000000),\n",
       " 97: (1000000000000000000000000000000000000000000000000000000000000000000000000000000000000000000000000,\n",
       "  10000000000000000000000000000000000000000000000000000000000000000000000000000000000000000000000000),\n",
       " 98: (10000000000000000000000000000000000000000000000000000000000000000000000000000000000000000000000000,\n",
       "  100000000000000000000000000000000000000000000000000000000000000000000000000000000000000000000000000),\n",
       " 99: (100000000000000000000000000000000000000000000000000000000000000000000000000000000000000000000000000,\n",
       "  1000000000000000000000000000000000000000000000000000000000000000000000000000000000000000000000000000),\n",
       " 100: (1000000000000000000000000000000000000000000000000000000000000000000000000000000000000000000000000000,\n",
       "  10000000000000000000000000000000000000000000000000000000000000000000000000000000000000000000000000000)}"
      ]
     },
     "execution_count": 21,
     "metadata": {},
     "output_type": "execute_result"
    }
   ],
   "source": [
    "{i: (10**(i-1), 10**i) if i>1 else (10,) for i in range(1, 101)}"
   ]
  },
  {
   "cell_type": "code",
   "execution_count": 35,
   "metadata": {},
   "outputs": [
    {
     "name": "stdout",
     "output_type": "stream",
     "text": [
      "Full split: building_no='123', street_name=['Broadway blvd']\n",
      "Full split: building_no='456', street_name=['Uni st.', 'Campus 30D']\n",
      "\n",
      "1-time split: building_no='123', street_name='Broadway blvd'\n",
      "1-time split: building_no='456', street_name='Uni st., Campus 30D'\n"
     ]
    }
   ],
   "source": [
    "addresses = [\"123, Broadway blvd\",\n",
    "             \"456, Uni st., Campus 30D\"] \n",
    "\n",
    "for address in addresses:\n",
    "    building_no, *street_name = address.split(\", \")\n",
    "    print(f\"Full split: {building_no=}, {street_name=}\")\n",
    "\n",
    "print()\n",
    "\n",
    "for address in addresses:\n",
    "    building_no, street_name = address.split(\", \", 1)\n",
    "    print(f\"1-time split: {building_no=}, {street_name=}\")"
   ]
  },
  {
   "cell_type": "code",
   "execution_count": 41,
   "metadata": {},
   "outputs": [
    {
     "name": "stdout",
     "output_type": "stream",
     "text": [
      "`test` : value.isalpha()=True\n",
      "`test` : value.isalnum()=True\n",
      "`test,` : value.isalpha()=False\n",
      "`test,` : value.isalnum()=False\n",
      "`test?` : value.isalpha()=False\n",
      "`test?` : value.isalnum()=False\n",
      "`test!` : value.isalpha()=False\n",
      "`test!` : value.isalnum()=False\n",
      "`CS50` : value.isalpha()=False\n",
      "`CS50` : value.isalnum()=True\n",
      "`CS50!` : value.isalpha()=False\n",
      "`CS50!` : value.isalnum()=False\n"
     ]
    }
   ],
   "source": [
    "values = (\"test\", \"test,\", \"test?\", \"test!\", \"CS50\", \"CS50!\")\n",
    "for value in values:\n",
    "    print(f\"`{value}` : {value.isalpha()=}\")  # check if string contain only letters\n",
    "    print(f\"`{value}` : {value.isalnum()=}\")  # check if string contain only letters and numbers"
   ]
  },
  {
   "cell_type": "code",
   "execution_count": 43,
   "metadata": {},
   "outputs": [
    {
     "name": "stdout",
     "output_type": "stream",
     "text": [
      "!\"#$%&'()*+,-./:;<=>?@[\\]^_`{|}~\n"
     ]
    }
   ],
   "source": [
    "from string import punctuation\n",
    "print(punctuation)"
   ]
  },
  {
   "cell_type": "code",
   "execution_count": 72,
   "metadata": {},
   "outputs": [
    {
     "name": "stdout",
     "output_type": "stream",
     "text": [
      "<class 'datetime.datetime'>\n",
      "<method 'date' of 'datetime.datetime' objects>\n",
      "[]\n",
      "\n",
      "<module 'datetime' from '/home/thenin/.pyenv/versions/3.12.4/lib/python3.12/datetime.py'>\n",
      "<class 'datetime.date'>\n",
      "[('today', <built-in method today of type object at 0x7faa7ce8f000>)]\n"
     ]
    }
   ],
   "source": [
    "\n",
    "import inspect\n",
    "\n",
    "from datetime import datetime\n",
    "print(f\"{datetime}\")\n",
    "print(f\"{datetime.date}\")\n",
    "print(f\"{[item for item in inspect.getmembers(datetime.date) if 'today' in item]}\")\n",
    "\n",
    "print()\n",
    "\n",
    "import datetime\n",
    "print(f\"{datetime}\")\n",
    "print(f\"{datetime.date}\")\n",
    "print(f\"{[item for item in inspect.getmembers(datetime.date) if 'today' in item]}\")\n",
    "\n"
   ]
  },
  {
   "cell_type": "code",
   "execution_count": 75,
   "metadata": {},
   "outputs": [
    {
     "name": "stdout",
     "output_type": "stream",
     "text": [
      "[(1, 0), (4, 3), (3, 2), (1, 8), (1, 9), (6, 0), (0, 1), (3, 3), (8, 9), (0, 8)]\n"
     ]
    }
   ],
   "source": [
    "import random\n",
    "random.seed(42)\n",
    "print([(random.randrange(10), random.randrange(10)) for _ in range(10) ])"
   ]
  },
  {
   "cell_type": "code",
   "execution_count": 10,
   "metadata": {},
   "outputs": [
    {
     "name": "stdout",
     "output_type": "stream",
     "text": [
      "2001-10-30\n"
     ]
    },
    {
     "data": {
      "text/plain": [
       "datetime.datetime(2001, 10, 30, 0, 0)"
      ]
     },
     "execution_count": 10,
     "metadata": {},
     "output_type": "execute_result"
    }
   ],
   "source": [
    "import datetime\n",
    "userdate = \"2001-10-30\"\n",
    "print(datetime.date.fromisoformat(userdate))\n",
    "# datetime.date(userdate)\n",
    "datetime.datetime.strptime(userdate, \"%Y-%m-%d\")"
   ]
  },
  {
   "cell_type": "code",
   "execution_count": 86,
   "metadata": {},
   "outputs": [
    {
     "name": "stdout",
     "output_type": "stream",
     "text": [
      "type(match)= <class 're.Match'>\n",
      "Match 0 : Groups without parameter:     match.groups() = ('10', '29', 'AM', 'to')\n",
      "Match 0 : Groups with default:          match.groups(\"nothing\") = ('10', '29', 'AM', 'to')\n",
      "\n",
      "Match 0 : Group is full match:          match.group() = '10:29 AM to '\n",
      "Match 0 : Index zero is the same:       match.group(0) = '10:29 AM to '\n",
      "Match 0 : group 1:                      match.group(1) = '10'\n",
      "Match 0 : group 2:                      match.group(2) = '29'\n",
      "Match 0 : group 3:                      match.group(3) = 'AM'\n",
      "Match 0 : group 4:                      match.group(4) = 'to'\n",
      "\n",
      "type(match)= <class 're.Match'>\n",
      "Match 1 : Groups without parameter:     match.groups() = ('1', '20', 'PM', None)\n",
      "Match 1 : Groups with default:          match.groups(\"nothing\") = ('1', '20', 'PM', 'nothing')\n",
      "\n",
      "Match 1 : Group is full match:          match.group() = '1:20 PM'\n",
      "Match 1 : Index zero is the same:       match.group(0) = '1:20 PM'\n",
      "Match 1 : group 1:                      match.group(1) = '1'\n",
      "Match 1 : group 2:                      match.group(2) = '20'\n",
      "Match 1 : group 3:                      match.group(3) = 'PM'\n",
      "Match 1 : group 4:                      match.group(4) = None\n",
      "\n"
     ]
    }
   ],
   "source": [
    "import re\n",
    "REGEX = r\"\\b(?:(1[0-2]|0?[1-9])(?::([0-5][0-9])?)?)\\s((?:AM|PM))(?:\\s(to)\\s)?\"\n",
    "words = \"10:29 AM to 1:20 PM\"\n",
    "\n",
    "matches = re.finditer(REGEX, words, flags=re.I | re.X) # returns an iterator of Match() objects\n",
    "for idx, match in enumerate(matches):\n",
    "    print(f\"{type(match)= }\")\n",
    "    # match.groups return groups as a tuple\n",
    "    print(f\"Match {idx} : {\"Groups without parameter:\":<30}{match.groups() = }\")\n",
    "    print(f\"Match {idx} : {\"Groups with default:\":<30}{match.groups(\"nothing\") = }\")\n",
    "    print()\n",
    "    #  match.group return the grous as a string\n",
    "    print(f\"Match {idx} : {\"Group is full match: \":<30}{match.group() = }\")\n",
    "    print(f\"Match {idx} : {\"Index zero is the same: \":<30}{match.group(0) = }\")\n",
    "    print(f\"Match {idx} : {\"group 1: \":<30}{match.group(1) = }\")\n",
    "    print(f\"Match {idx} : {\"group 2: \":<30}{match.group(2) = }\")\n",
    "    print(f\"Match {idx} : {\"group 3: \":<30}{match.group(3) = }\")\n",
    "    print(f\"Match {idx} : {\"group 4: \":<30}{match.group(4) = }\")\n",
    "    print()"
   ]
  },
  {
   "cell_type": "code",
   "execution_count": 92,
   "metadata": {},
   "outputs": [
    {
     "name": "stdout",
     "output_type": "stream",
     "text": [
      "0: 0\n",
      "1: 1\n",
      "2: 2\n",
      "3: 3\n",
      "4: 4\n",
      "5: 5\n",
      "6: 6\n",
      "7: 7\n",
      "8: 8\n",
      "9: 9\n",
      "100: 0\n",
      "101: 1\n",
      "102: 2\n",
      "103: 3\n",
      "104: 4\n",
      "105: 5\n",
      "106: 6\n",
      "107: 7\n",
      "108: 8\n",
      "109: 9\n"
     ]
    }
   ],
   "source": [
    "numbers = (0, 1, 2, 3, 4, 5, 6, 7, 8, 9)\n",
    "for i in range(len(numbers)):\n",
    "    print(f\"{i}: {numbers[i]}\")\n",
    "\n",
    "for idx, number in enumerate(numbers, 100):\n",
    "    print(f\"{idx}: {number}\")\n"
   ]
  },
  {
   "cell_type": "code",
   "execution_count": 102,
   "metadata": {},
   "outputs": [
    {
     "name": "stdout",
     "output_type": "stream",
     "text": [
      "True\n",
      "False\n",
      "True\n"
     ]
    }
   ],
   "source": [
    "print(\"string\" == (\"string\"))\n",
    "print(\"string\" == (\"string\",))"
   ]
  },
  {
   "cell_type": "code",
   "execution_count": 2,
   "metadata": {},
   "outputs": [
    {
     "data": {
      "text/plain": [
       "['I', 'am', 'Groot']"
      ]
     },
     "execution_count": 2,
     "metadata": {},
     "output_type": "execute_result"
    }
   ],
   "source": [
    "import re\n",
    "REGEX = r'(\\w+)'\n",
    "re.findall(REGEX, \"I am Groot.\")"
   ]
  },
  {
   "cell_type": "code",
   "execution_count": 5,
   "metadata": {},
   "outputs": [
    {
     "name": "stdout",
     "output_type": "stream",
     "text": [
      "['I', 'am', 'Groot']\n",
      "['I', 'am', 'Groot']\n"
     ]
    }
   ],
   "source": [
    "import re\n",
    "REGEX = r'(\\w+)'\n",
    "reg_expression = re.compile(REGEX, flags=re.IGNORECASE)\n",
    "\n",
    "print(re.findall(reg_expression, \"I am Groot.\"))\n",
    "\n",
    "print(reg_expression.findall(\"I am Groot.\"))"
   ]
  },
  {
   "cell_type": "code",
   "execution_count": 6,
   "metadata": {},
   "outputs": [
    {
     "data": {
      "text/plain": [
       "{'first', 'house', 'last'}"
      ]
     },
     "execution_count": 6,
     "metadata": {},
     "output_type": "execute_result"
    }
   ],
   "source": [
    "fieldnames = {\"first\", \"last\", \"house\"}\n",
    "fieldnames"
   ]
  },
  {
   "cell_type": "code",
   "execution_count": 42,
   "metadata": {},
   "outputs": [
    {
     "name": "stdout",
     "output_type": "stream",
     "text": [
      "original tuple:               ('first', 'last', 'house')\n",
      "set from tuple:               {'house', 'first', 'last'}\n",
      "\n",
      "approximate inner structure:  ['house', None, None, 'first', None, 'last', None, None]\n",
      "simulated set:                ['house', 'first', 'last']\n"
     ]
    }
   ],
   "source": [
    "fieldnames = (\"first\", \"last\", \"house\")     # just a tuple\n",
    "filednames_set = set(fieldnames)            # set created from tuple\n",
    "\n",
    "\"\"\"\n",
    "Simulate set behavior (approximation).\n",
    "\n",
    "Set order depends on element has. In this sim, we use (<element hash> modulo <set size>)\n",
    "Default set size is 8. \n",
    "The set size is increased incrementally upon adding new elements.\n",
    "We do not do this in this simulation\n",
    "\n",
    "If there are lesser elements added than the set size empty indicies are set to `None`.\n",
    "\"\"\"\n",
    "\n",
    "# in real life, in case of hash collisions, each index will store a list of values\n",
    "# but we simplify it a bit\n",
    "sim_inner_dictionary = {hash(fieldname) % 8: fieldname for fieldname in fieldnames} \n",
    "\n",
    "sim_inner_list = [sim_inner_dictionary.get(i) for i in range(8)]\n",
    "fieldnames_set_simulate = [sim_inner_list[i] for i in range(8) if sim_inner_list[i] is not None]\n",
    "\n",
    "filler = 30\n",
    "print(f\"{\"original tuple:\":<{filler}}{fieldnames}\")\n",
    "print(f\"{\"set from tuple:\":<{filler}}{filednames_set}\")\n",
    "print()\n",
    "print(f\"{\"approximate inner structure:\":<{filler}}{sim_inner_list}\")\n",
    "print(f\"{\"simulated set:\":<{filler}}{fieldnames_set_simulate}\")"
   ]
  },
  {
   "cell_type": "code",
   "execution_count": 45,
   "metadata": {},
   "outputs": [
    {
     "name": "stdout",
     "output_type": "stream",
     "text": [
      "{'first': 'John', 'last': 'Doe', 'full_name': 'John Doe'}\n",
      "{'first': 'Jane', 'last': 'Doe', 'full_name': 'Jane Doe'}\n"
     ]
    }
   ],
   "source": [
    "people = [{\"first\": \"John\", \"last\": \"Doe\"}, {\"first\": \"Jane\", \"last\": \"Doe\"}]\n",
    "\n",
    "for person in people:\n",
    "    person[\"full_name\"] = f\"{person[\"first\"]} {person[\"last\"]}\"\n",
    "\n",
    "print(*people, sep = \"\\n\")"
   ]
  },
  {
   "cell_type": "code",
   "execution_count": 57,
   "metadata": {},
   "outputs": [
    {
     "name": "stdout",
     "output_type": "stream",
     "text": [
      "float result:                           (2/3 * 100) = 66.66666666666666\n",
      "round with no decimal points:           round(2/3 * 100) = 67\n",
      "convert tot int, lose decimal part:     int(2/3 * 100) = 66\n"
     ]
    }
   ],
   "source": [
    "pad = 40\n",
    "print(f\"{\"float result: \":<{pad}}{(2/3 * 100) = }\")\n",
    "print(f\"{\"round with no decimal points: \":<{pad}}{round(2/3 * 100) = }\")        # round with no decimal points\n",
    "print(f\"{\"convert tot int, lose decimal part: \":<{pad}}{int(2/3 * 100) = }\")    # convert to `int`, e.g. lose the decimal part"
   ]
  },
  {
   "cell_type": "code",
   "execution_count": 59,
   "metadata": {},
   "outputs": [
    {
     "name": "stdout",
     "output_type": "stream",
     "text": [
      "round(65.5) = 66\n",
      "round(66.5) = 66\n",
      "round(67.5) = 68\n"
     ]
    }
   ],
   "source": [
    "print(f\"{round(65.5) = }\")\n",
    "print(f\"{round(66.5) = }\")\n",
    "print(f\"{round(67.5) = }\")"
   ]
  },
  {
   "cell_type": "code",
   "execution_count": 67,
   "metadata": {},
   "outputs": [
    {
     "name": "stdout",
     "output_type": "stream",
     "text": [
      "without precision:   <class 'int'>, 67\n",
      "with precision:      <class 'float'>, 66.67\n"
     ]
    }
   ],
   "source": [
    "val = round(2/3 * 100)\n",
    "print(f\"{\"without precision:\":<20} {type(val)}, {val}\")\n",
    "val = round(2/3 * 100, 2)\n",
    "print(f\"{\"with precision:\":<20} {type(val)}, {val}\")"
   ]
  },
  {
   "cell_type": "code",
   "execution_count": 74,
   "metadata": {},
   "outputs": [
    {
     "name": "stdout",
     "output_type": "stream",
     "text": [
      "Adieu, adieu, to Thomas, Anny and Angel\n"
     ]
    }
   ],
   "source": [
    "names = [\"Thomas\", \"Anny\", \"Angel\", ]\n",
    "print(\"Adieu, adieu, to\", names[0], end = '')\n",
    "for name in names[1:-1]:\n",
    "    print(\", \" + name,end = '')\n",
    "if len(names) != 1:\n",
    "    print( \" and \" + names[-1])\n",
    "else:\n",
    "    print()"
   ]
  },
  {
   "cell_type": "code",
   "execution_count": 79,
   "metadata": {},
   "outputs": [
    {
     "name": "stderr",
     "output_type": "stream",
     "text": [
      "You can not divide by xerom an you?\n"
     ]
    }
   ],
   "source": [
    "import sys\n",
    "\n",
    "\n",
    "try:\n",
    "    result = 0/0  # raises a ZeroDivisionError\n",
    "except ZeroDivisionError as e:\n",
    "    print(\"You can not divide by zero, an you?\", file=sys.stderr)"
   ]
  },
  {
   "cell_type": "code",
   "execution_count": null,
   "metadata": {},
   "outputs": [],
   "source": []
  }
 ],
 "metadata": {
  "kernelspec": {
   "display_name": "Python 3",
   "language": "python",
   "name": "python3"
  },
  "language_info": {
   "codemirror_mode": {
    "name": "ipython",
    "version": 3
   },
   "file_extension": ".py",
   "mimetype": "text/x-python",
   "name": "python",
   "nbconvert_exporter": "python",
   "pygments_lexer": "ipython3",
   "version": "3.12.4"
  }
 },
 "nbformat": 4,
 "nbformat_minor": 2
}
