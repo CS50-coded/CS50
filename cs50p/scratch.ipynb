{
 "cells": [
  {
   "cell_type": "code",
   "execution_count": null,
   "metadata": {},
   "outputs": [],
   "source": [
    "# ((k+2)n-kn)/2\n",
    "\n",
    "sides = 4\n",
    "dimensions = 3\n",
    "((sides+2)**dimensions - sides**dimensions)/2"
   ]
  },
  {
   "cell_type": "code",
   "execution_count": null,
   "metadata": {},
   "outputs": [],
   "source": [
    "\n",
    "(sides**dimensions - (sides-1)^dimensions)"
   ]
  },
  {
   "cell_type": "code",
   "execution_count": null,
   "metadata": {},
   "outputs": [],
   "source": [
    "n=2\n",
    "n*3**(n-1)"
   ]
  },
  {
   "cell_type": "code",
   "execution_count": null,
   "metadata": {},
   "outputs": [],
   "source": [
    "(5**dimensions - 3**dimensions)/2."
   ]
  },
  {
   "cell_type": "code",
   "execution_count": null,
   "metadata": {},
   "outputs": [],
   "source": [
    "from itertools import combinations, permutations\n",
    "from typing import List\n",
    "import numpy as np\n",
    "\n",
    "board_size = 5\n",
    "board_dimensions = 4\n",
    "check_sum = ((board_size + 2) ** board_dimensions - board_size**board_dimensions) // 2\n",
    "\n",
    "array = np.arange(board_size**board_dimensions).reshape(\n",
    "    board_size, *([board_size] * (board_dimensions - 1))\n",
    ")\n",
    "\n",
    "\n",
    "def reshape(array: np.ndarray, size: int = board_size):\n",
    "    reshape = np.prod(array.shape) // (size)\n",
    "    result = array.reshape(reshape, size)\n",
    "    return result\n",
    "\n",
    "def generate_diagonals(array: np.ndarray) -> np.ndarray:\n",
    "    result = []\n",
    "    board = array.copy()\n",
    "    axes = list(permutations(range(len(array.shape)), 2))\n",
    "    while axes:      \n",
    "        diagonals = reshape(np.diagonal(board))\n",
    "        result.extend(diagonals.tolist())\n",
    "        if len(diagonals) == board_size:            \n",
    "            diagonals = generate_diagonals(np.array(diagonals))\n",
    "            result.extend(diagonals)\n",
    "        array = np.rot90(board, axes=axes.pop())\n",
    "\n",
    "    return result # type: ignore\n",
    "\n",
    "result = []\n",
    "board = array.copy()\n",
    "axes = list(permutations(range(board_dimensions), 2))\n",
    "while axes:\n",
    "    result.extend(reshape(board).tolist())    \n",
    "    diags = generate_diagonals(board)\n",
    "    result.extend(diags)\n",
    "    board = np.rot90(array, axes=axes.pop())\n",
    "\n",
    "\n",
    "\n",
    "print(f\"{array=}\")\n",
    "\n",
    "result = set(tuple(sorted(item)) for item in result)\n",
    "\n",
    "print(result)\n",
    "print(f\"{check_sum == len(result)}, {check_sum = }, {len(result) = }\")"
   ]
  },
  {
   "cell_type": "code",
   "execution_count": null,
   "metadata": {},
   "outputs": [],
   "source": [
    "print(np.array([0, 4, 8]).shape)\n",
    "print(np.array([[0, 4, 8]]).shape)"
   ]
  },
  {
   "cell_type": "code",
   "execution_count": null,
   "metadata": {},
   "outputs": [],
   "source": [
    "from itertools import combinations, permutations\n",
    "from typing import List\n",
    "import numpy as np\n",
    "\n",
    "board_size = 3\n",
    "board_dimensions = 3\n",
    "check_sum = ((board_size + 2) ** board_dimensions - board_size**board_dimensions) // 2\n",
    "\n",
    "array = np.arange(board_size**board_dimensions).reshape(\n",
    "    board_size, *([board_size] * (board_dimensions - 1))\n",
    ")\n",
    "\n",
    "print(array, sep=\"\\n\")"
   ]
  },
  {
   "cell_type": "code",
   "execution_count": 21,
   "metadata": {},
   "outputs": [
    {
     "name": "stdout",
     "output_type": "stream",
     "text": [
      "[[[ 0  1  2]\n",
      "  [ 3  4  5]\n",
      "  [ 6  7  8]]\n",
      "\n",
      " [[ 9 10 11]\n",
      "  [12 13 14]\n",
      "  [15 16 17]]\n",
      "\n",
      " [[18 19 20]\n",
      "  [21 22 23]\n",
      "  [24 25 26]]]\n",
      "\n",
      "(1, 2)\n",
      "[[[ 0  1  2]\n",
      "  [ 3  4  5]\n",
      "  [ 6  7  8]]\n",
      "\n",
      " [[ 9 10 11]\n",
      "  [12 13 14]\n",
      "  [15 16 17]]\n",
      "\n",
      " [[18 19 20]\n",
      "  [21 22 23]\n",
      "  [24 25 26]]]\n",
      "tmp={(0, 4, 8), (11, 13, 15), (0, 13, 26), (2, 10, 18), (0, 12, 24), (6, 16, 26), (9, 13, 17), (0, 10, 20), (1, 13, 25), (6, 12, 18), (2, 14, 26), (5, 13, 21), (8, 16, 24), (3, 13, 23), (8, 14, 20), (7, 13, 19), (18, 22, 26), (2, 4, 6), (20, 22, 24)}\n",
      "tmp={(0, 4, 8), (11, 13, 15), (2, 10, 18), (0, 12, 24), (6, 16, 26), (9, 13, 17), (0, 10, 20), (1, 13, 25), (6, 12, 18), (2, 14, 26), (8, 16, 24), (5, 13, 21), (3, 13, 23), (8, 14, 20), (2, 13, 24), (7, 13, 19), (18, 22, 26), (2, 4, 6), (20, 22, 24)}\n",
      "tmp={(0, 4, 8), (11, 13, 15), (2, 10, 18), (0, 12, 24), (6, 16, 26), (9, 13, 17), (0, 10, 20), (1, 13, 25), (6, 12, 18), (2, 14, 26), (5, 13, 21), (8, 16, 24), (3, 13, 23), (8, 14, 20), (8, 13, 18), (7, 13, 19), (18, 22, 26), (2, 4, 6), (20, 22, 24)}\n",
      "tmp={(0, 4, 8), (11, 13, 15), (2, 10, 18), (0, 12, 24), (6, 16, 26), (9, 13, 17), (0, 10, 20), (1, 13, 25), (6, 12, 18), (6, 13, 20), (2, 14, 26), (5, 13, 21), (8, 16, 24), (3, 13, 23), (8, 14, 20), (7, 13, 19), (18, 22, 26), (2, 4, 6), (20, 22, 24)}\n",
      "(0, 2)\n",
      "[[[ 0  1  2]\n",
      "  [ 3  4  5]\n",
      "  [ 6  7  8]]\n",
      "\n",
      " [[ 9 10 11]\n",
      "  [12 13 14]\n",
      "  [15 16 17]]\n",
      "\n",
      " [[18 19 20]\n",
      "  [21 22 23]\n",
      "  [24 25 26]]]\n",
      "tmp={(0, 4, 8), (11, 13, 15), (0, 13, 26), (2, 10, 18), (0, 12, 24), (6, 16, 26), (9, 13, 17), (0, 10, 20), (1, 13, 25), (6, 12, 18), (2, 14, 26), (5, 13, 21), (8, 16, 24), (3, 13, 23), (8, 14, 20), (7, 13, 19), (18, 22, 26), (2, 4, 6), (20, 22, 24)}\n",
      "tmp={(0, 4, 8), (11, 13, 15), (2, 10, 18), (0, 12, 24), (6, 16, 26), (9, 13, 17), (0, 10, 20), (1, 13, 25), (6, 12, 18), (2, 14, 26), (8, 16, 24), (5, 13, 21), (3, 13, 23), (8, 14, 20), (2, 13, 24), (7, 13, 19), (18, 22, 26), (2, 4, 6), (20, 22, 24)}\n",
      "tmp={(0, 4, 8), (11, 13, 15), (2, 10, 18), (0, 12, 24), (6, 16, 26), (9, 13, 17), (0, 10, 20), (1, 13, 25), (6, 12, 18), (6, 13, 20), (2, 14, 26), (5, 13, 21), (8, 16, 24), (3, 13, 23), (8, 14, 20), (7, 13, 19), (18, 22, 26), (2, 4, 6), (20, 22, 24)}\n",
      "tmp={(0, 4, 8), (11, 13, 15), (2, 10, 18), (0, 12, 24), (6, 16, 26), (9, 13, 17), (0, 10, 20), (1, 13, 25), (6, 12, 18), (2, 14, 26), (8, 16, 24), (5, 13, 21), (3, 13, 23), (8, 14, 20), (8, 13, 18), (7, 13, 19), (18, 22, 26), (2, 4, 6), (20, 22, 24)}\n",
      "(0, 1)\n",
      "[[[ 0  1  2]\n",
      "  [ 3  4  5]\n",
      "  [ 6  7  8]]\n",
      "\n",
      " [[ 9 10 11]\n",
      "  [12 13 14]\n",
      "  [15 16 17]]\n",
      "\n",
      " [[18 19 20]\n",
      "  [21 22 23]\n",
      "  [24 25 26]]]\n",
      "tmp={(0, 4, 8), (11, 13, 15), (0, 13, 26), (2, 10, 18), (0, 12, 24), (6, 16, 26), (9, 13, 17), (0, 10, 20), (1, 13, 25), (6, 12, 18), (2, 14, 26), (5, 13, 21), (8, 16, 24), (3, 13, 23), (8, 14, 20), (7, 13, 19), (18, 22, 26), (2, 4, 6), (20, 22, 24)}\n",
      "tmp={(0, 4, 8), (11, 13, 15), (2, 10, 18), (0, 12, 24), (6, 16, 26), (9, 13, 17), (0, 10, 20), (1, 13, 25), (6, 12, 18), (6, 13, 20), (2, 14, 26), (8, 16, 24), (5, 13, 21), (3, 13, 23), (8, 14, 20), (7, 13, 19), (18, 22, 26), (2, 4, 6), (20, 22, 24)}\n",
      "tmp={(0, 4, 8), (11, 13, 15), (2, 10, 18), (0, 12, 24), (6, 16, 26), (9, 13, 17), (0, 10, 20), (1, 13, 25), (6, 12, 18), (2, 14, 26), (5, 13, 21), (8, 16, 24), (3, 13, 23), (8, 14, 20), (2, 13, 24), (7, 13, 19), (18, 22, 26), (2, 4, 6), (20, 22, 24)}\n",
      "tmp={(0, 4, 8), (11, 13, 15), (2, 10, 18), (0, 12, 24), (6, 16, 26), (9, 13, 17), (0, 10, 20), (1, 13, 25), (6, 12, 18), (2, 14, 26), (8, 16, 24), (5, 13, 21), (3, 13, 23), (8, 14, 20), (8, 13, 18), (7, 13, 19), (18, 22, 26), (2, 4, 6), (20, 22, 24)}\n",
      "True, check_sum = 49, len(result) = 49\n"
     ]
    }
   ],
   "source": [
    "print(array)\n",
    "print()\n",
    "\n",
    "\n",
    "def reshape(array: np.ndarray, size: int = board_size):\n",
    "    reshape = np.prod(array.shape) // (size)\n",
    "    result = array.reshape(reshape, size)\n",
    "    return result\n",
    "\n",
    "\n",
    "def generate_diagonals(array: np.ndarray) -> np.ndarray:\n",
    "    result = []\n",
    "    diags = []\n",
    "    axes = list(permutations(range(len(array.shape)), 2))\n",
    "    while axes:\n",
    "        axis = axes.pop()\n",
    "        tmp = array.copy()\n",
    "        while True:\n",
    "            diags.extend(reshape(np.diagonal(tmp)).tolist())\n",
    "            result.extend(diags)\n",
    "            if len(diags) == board_size:\n",
    "                diags.extend(reshape(np.diagonal(diags)).tolist())\n",
    "                result.extend(diags)\n",
    "            tmp = np.rot90(tmp, axes=axis)\n",
    "            if np.array_equal(tmp, array):\n",
    "                break\n",
    "                \n",
    "            \n",
    "    tmp = set(tuple(sorted(item)) for item in diags)\n",
    "    print(f\"{tmp=}\")\n",
    "    return result # type: ignore\n",
    "\n",
    "\n",
    "result = []\n",
    "axes = list(combinations(range(board_dimensions), 2))\n",
    "while axes:\n",
    "    axis = axes.pop()\n",
    "    print(axis)\n",
    "    tmp = array.copy()\n",
    "    print(tmp)\n",
    "    while True:\n",
    "        result.extend(reshape(tmp).tolist())\n",
    "        result.extend(generate_diagonals(tmp))\n",
    "        tmp = np.rot90(tmp, axes=axis)\n",
    "        if np.array_equal(tmp, array):\n",
    "            break\n",
    "\n",
    "result = set(tuple(sorted(item)) for item in result)\n",
    "\n",
    "print(f\"{check_sum == len(result)}, {check_sum = }, {len(result) = }\")"
   ]
  },
  {
   "cell_type": "code",
   "execution_count": null,
   "metadata": {},
   "outputs": [],
   "source": [
    "\n",
    "data = np.array([[[[1, 2, 3], [4, 5, 6], [7, 8, 9]], [[10, 20, 30], [40, 50, 60], [70, 80, 90]]], [[[100, 200, 300], [400, 500, 600], [700, 800, 900]], [[1000, 2000, 3000], [4000, 5000, 6000], [7000, 8000, 9000]]]])\n",
    "\n",
    "print(data)\n",
    "print(data.reshape(-1, 3))\n",
    "print(data.reshape(-1, 3).tolist())\n",
    "print(data.reshape(-1, 2).tolist())"
   ]
  },
  {
   "cell_type": "code",
   "execution_count": 5,
   "metadata": {},
   "outputs": [
    {
     "data": {
      "text/plain": [
       "(0, 1, 2, 3, 7, 8)"
      ]
     },
     "execution_count": 5,
     "metadata": {},
     "output_type": "execute_result"
    }
   ],
   "source": [
    "tuple(set(range(3**2)) ^ {5, 4, 6})"
   ]
  },
  {
   "cell_type": "code",
   "execution_count": 4,
   "metadata": {},
   "outputs": [],
   "source": [
    "import requests\n",
    "response = requests.get(\"https://itunes.apple.com/search?entity=song&limit=1&term=\")"
   ]
  },
  {
   "cell_type": "code",
   "execution_count": 8,
   "metadata": {},
   "outputs": [
    {
     "data": {
      "text/plain": [
       "{0: {0: (0, 1, 2, 3), 1: (0, 1, 2, 3), 2: (0, 1, 2, 3), 3: (0, 1, 2, 3)},\n",
       " 1: {0: (0, 1, 2, 3), 1: (0, 1, 2, 3), 2: (0, 1, 2, 3), 3: (0, 1, 2, 3)},\n",
       " 2: {0: (0, 1, 2, 3), 1: (0, 1, 2, 3), 2: (0, 1, 2, 3), 3: (0, 1, 2, 3)},\n",
       " 3: {0: (0, 1, 2, 3), 1: (0, 1, 2, 3), 2: (0, 1, 2, 3), 3: (0, 1, 2, 3)}}"
      ]
     },
     "execution_count": 8,
     "metadata": {},
     "output_type": "execute_result"
    }
   ],
   "source": [
    "length = 2\n",
    "def get_expected(length: int, inception: int):\n",
    "    if inception == 0:\n",
    "        return tuple(range(length))\n",
    "    \n",
    "    return {key: get_expected(length, inception - 1) for key in range(length)}    \n",
    "\n",
    "get_expected(4,2)"
   ]
  },
  {
   "cell_type": "code",
   "execution_count": 27,
   "metadata": {},
   "outputs": [
    {
     "name": "stdout",
     "output_type": "stream",
     "text": [
      "/home/thenin/mine/3843209/cs50p\n",
      "<class 'list'>\n"
     ]
    },
    {
     "ename": "ValueError",
     "evalue": "headers for a list of dicts is not a dict or a keyword",
     "output_type": "error",
     "traceback": [
      "\u001b[0;31m---------------------------------------------------------------------------\u001b[0m",
      "\u001b[0;31mValueError\u001b[0m                                Traceback (most recent call last)",
      "Cell \u001b[0;32mIn[27], line 8\u001b[0m\n\u001b[1;32m      6\u001b[0m reader:csv\u001b[38;5;241m.\u001b[39mDictReader \u001b[38;5;241m=\u001b[39m csv\u001b[38;5;241m.\u001b[39mDictReader(csvfile)\n\u001b[1;32m      7\u001b[0m \u001b[38;5;28mprint\u001b[39m(\u001b[38;5;28mtype\u001b[39m(reader\u001b[38;5;241m.\u001b[39mfieldnames))\n\u001b[0;32m----> 8\u001b[0m table \u001b[38;5;241m=\u001b[39m \u001b[43mtabulate\u001b[49m\u001b[43m(\u001b[49m\u001b[43mreader\u001b[49m\u001b[43m,\u001b[49m\u001b[43mheaders\u001b[49m\u001b[38;5;241;43m=\u001b[39;49m\u001b[43mreader\u001b[49m\u001b[38;5;241;43m.\u001b[39;49m\u001b[43mfieldnames\u001b[49m\u001b[43m,\u001b[49m\u001b[43mtablefmt\u001b[49m\u001b[38;5;241;43m=\u001b[39;49m\u001b[38;5;124;43m\"\u001b[39;49m\u001b[38;5;124;43mgrid\u001b[39;49m\u001b[38;5;124;43m\"\u001b[39;49m\u001b[43m)\u001b[49m\n\u001b[1;32m      9\u001b[0m \u001b[38;5;28mprint\u001b[39m(table)\n",
      "File \u001b[0;32m~/.pyenv/versions/3.12.4/lib/python3.12/site-packages/tabulate/__init__.py:2048\u001b[0m, in \u001b[0;36mtabulate\u001b[0;34m(tabular_data, headers, tablefmt, floatfmt, intfmt, numalign, stralign, missingval, showindex, disable_numparse, colalign, maxcolwidths, rowalign, maxheadercolwidths)\u001b[0m\n\u001b[1;32m   2045\u001b[0m \u001b[38;5;28;01mif\u001b[39;00m tabular_data \u001b[38;5;129;01mis\u001b[39;00m \u001b[38;5;28;01mNone\u001b[39;00m:\n\u001b[1;32m   2046\u001b[0m     tabular_data \u001b[38;5;241m=\u001b[39m []\n\u001b[0;32m-> 2048\u001b[0m list_of_lists, headers \u001b[38;5;241m=\u001b[39m \u001b[43m_normalize_tabular_data\u001b[49m\u001b[43m(\u001b[49m\n\u001b[1;32m   2049\u001b[0m \u001b[43m    \u001b[49m\u001b[43mtabular_data\u001b[49m\u001b[43m,\u001b[49m\u001b[43m \u001b[49m\u001b[43mheaders\u001b[49m\u001b[43m,\u001b[49m\u001b[43m \u001b[49m\u001b[43mshowindex\u001b[49m\u001b[38;5;241;43m=\u001b[39;49m\u001b[43mshowindex\u001b[49m\n\u001b[1;32m   2050\u001b[0m \u001b[43m\u001b[49m\u001b[43m)\u001b[49m\n\u001b[1;32m   2051\u001b[0m list_of_lists, separating_lines \u001b[38;5;241m=\u001b[39m _remove_separating_lines(list_of_lists)\n\u001b[1;32m   2053\u001b[0m \u001b[38;5;28;01mif\u001b[39;00m maxcolwidths \u001b[38;5;129;01mis\u001b[39;00m \u001b[38;5;129;01mnot\u001b[39;00m \u001b[38;5;28;01mNone\u001b[39;00m:\n",
      "File \u001b[0;32m~/.pyenv/versions/3.12.4/lib/python3.12/site-packages/tabulate/__init__.py:1427\u001b[0m, in \u001b[0;36m_normalize_tabular_data\u001b[0;34m(tabular_data, headers, showindex)\u001b[0m\n\u001b[1;32m   1425\u001b[0m             headers \u001b[38;5;241m=\u001b[39m []\n\u001b[1;32m   1426\u001b[0m     \u001b[38;5;28;01melif\u001b[39;00m headers:\n\u001b[0;32m-> 1427\u001b[0m         \u001b[38;5;28;01mraise\u001b[39;00m \u001b[38;5;167;01mValueError\u001b[39;00m(\n\u001b[1;32m   1428\u001b[0m             \u001b[38;5;124m\"\u001b[39m\u001b[38;5;124mheaders for a list of dicts is not a dict or a keyword\u001b[39m\u001b[38;5;124m\"\u001b[39m\n\u001b[1;32m   1429\u001b[0m         )\n\u001b[1;32m   1430\u001b[0m     rows \u001b[38;5;241m=\u001b[39m [[row\u001b[38;5;241m.\u001b[39mget(k) \u001b[38;5;28;01mfor\u001b[39;00m k \u001b[38;5;129;01min\u001b[39;00m keys] \u001b[38;5;28;01mfor\u001b[39;00m row \u001b[38;5;129;01min\u001b[39;00m rows]\n\u001b[1;32m   1432\u001b[0m \u001b[38;5;28;01melif\u001b[39;00m (\n\u001b[1;32m   1433\u001b[0m     headers \u001b[38;5;241m==\u001b[39m \u001b[38;5;124m\"\u001b[39m\u001b[38;5;124mkeys\u001b[39m\u001b[38;5;124m\"\u001b[39m\n\u001b[1;32m   1434\u001b[0m     \u001b[38;5;129;01mand\u001b[39;00m \u001b[38;5;28mhasattr\u001b[39m(tabular_data, \u001b[38;5;124m\"\u001b[39m\u001b[38;5;124mdescription\u001b[39m\u001b[38;5;124m\"\u001b[39m)\n\u001b[0;32m   (...)\u001b[0m\n\u001b[1;32m   1438\u001b[0m     \u001b[38;5;66;03m# Python Database API cursor object (PEP 0249)\u001b[39;00m\n\u001b[1;32m   1439\u001b[0m     \u001b[38;5;66;03m# print tabulate(cursor, headers='keys')\u001b[39;00m\n",
      "\u001b[0;31mValueError\u001b[0m: headers for a list of dicts is not a dict or a keyword"
     ]
    }
   ],
   "source": [
    "import csv\n",
    "import os\n",
    "from tabulate import tabulate\n",
    "print(os.getcwd())\n",
    "with open(\"test.csv\") as csvfile:\n",
    "        reader:csv.DictReader = csv.DictReader(csvfile)\n",
    "        print(type(reader.fieldnames))\n",
    "        table = tabulate(reader,headers=reader.fieldnames,tablefmt=\"grid\")\n",
    "        print(table)"
   ]
  },
  {
   "cell_type": "code",
   "execution_count": 30,
   "metadata": {},
   "outputs": [
    {
     "ename": "SyntaxError",
     "evalue": "invalid syntax (154917893.py, line 3)",
     "output_type": "error",
     "traceback": [
      "\u001b[0;36m  Cell \u001b[0;32mIn[30], line 3\u001b[0;36m\u001b[0m\n\u001b[0;31m    if (a+b) =< a:\u001b[0m\n\u001b[0m             ^\u001b[0m\n\u001b[0;31mSyntaxError\u001b[0m\u001b[0;31m:\u001b[0m invalid syntax\n"
     ]
    }
   ],
   "source": [
    "a=1\n",
    "b=-11\n",
    "if (a+b) =< a:\n",
    "    print(\"Nope!\")"
   ]
  },
  {
   "cell_type": "code",
   "execution_count": 48,
   "metadata": {},
   "outputs": [],
   "source": [
    "class Something:\n",
    "    def __init__(self, name: str = \"Groot\") -> None:\n",
    "        self._name = name\n",
    "\n",
    "    @property\n",
    "    def name(self) -> str:\n",
    "        return self._name\n",
    "\n",
    "\n",
    "    def hi(self) -> None:\n",
    "        return f\"I am {self._name}...\""
   ]
  },
  {
   "cell_type": "code",
   "execution_count": 50,
   "metadata": {},
   "outputs": [
    {
     "ename": "AttributeError",
     "evalue": "property 'name' of 'Something' object has no setter",
     "output_type": "error",
     "traceback": [
      "\u001b[0;31m---------------------------------------------------------------------------\u001b[0m",
      "\u001b[0;31mAttributeError\u001b[0m                            Traceback (most recent call last)",
      "Cell \u001b[0;32mIn[50], line 2\u001b[0m\n\u001b[1;32m      1\u001b[0m groot \u001b[38;5;241m=\u001b[39m Something()\n\u001b[0;32m----> 2\u001b[0m \u001b[43mgroot\u001b[49m\u001b[38;5;241;43m.\u001b[39;49m\u001b[43mname\u001b[49m \u001b[38;5;241m=\u001b[39m \u001b[38;5;124m\"\u001b[39m\u001b[38;5;124mnot a groot\u001b[39m\u001b[38;5;124m\"\u001b[39m\n\u001b[1;32m      3\u001b[0m \u001b[38;5;28mprint\u001b[39m(groot\u001b[38;5;241m.\u001b[39mhi())\n",
      "\u001b[0;31mAttributeError\u001b[0m: property 'name' of 'Something' object has no setter"
     ]
    }
   ],
   "source": [
    "groot = Something()\n",
    "groot.name = \"not a groot\"  # there is no setter\n",
    "print(groot.hi())"
   ]
  },
  {
   "cell_type": "code",
   "execution_count": 52,
   "metadata": {},
   "outputs": [
    {
     "name": "stdout",
     "output_type": "stream",
     "text": [
      "I am not a groot...\n"
     ]
    }
   ],
   "source": [
    "groot = Something()\n",
    "groot._name = \"not a groot\" # but I do not really need it ;)\n",
    "print(groot.hi())"
   ]
  },
  {
   "cell_type": "code",
   "execution_count": 54,
   "metadata": {},
   "outputs": [
    {
     "ename": "ValueError",
     "evalue": "test",
     "output_type": "error",
     "traceback": [
      "\u001b[0;31m---------------------------------------------------------------------------\u001b[0m",
      "\u001b[0;31mValueError\u001b[0m                                Traceback (most recent call last)",
      "Cell \u001b[0;32mIn[54], line 1\u001b[0m\n\u001b[0;32m----> 1\u001b[0m \u001b[38;5;28;01mraise\u001b[39;00m \u001b[38;5;167;01mValueError\u001b[39;00m(\u001b[38;5;124m\"\u001b[39m\u001b[38;5;124mtest\u001b[39m\u001b[38;5;124m\"\u001b[39m)\n",
      "\u001b[0;31mValueError\u001b[0m: test"
     ]
    }
   ],
   "source": [
    "raise ValueError(\"test\")"
   ]
  }
 ],
 "metadata": {
  "kernelspec": {
   "display_name": "Python 3",
   "language": "python",
   "name": "python3"
  },
  "language_info": {
   "codemirror_mode": {
    "name": "ipython",
    "version": 3
   },
   "file_extension": ".py",
   "mimetype": "text/x-python",
   "name": "python",
   "nbconvert_exporter": "python",
   "pygments_lexer": "ipython3",
   "version": "3.12.4"
  }
 },
 "nbformat": 4,
 "nbformat_minor": 2
}
