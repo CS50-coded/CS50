{
 "cells": [
  {
   "cell_type": "code",
   "execution_count": null,
   "metadata": {},
   "outputs": [],
   "source": [
    "# ((k+2)n-kn)/2\n",
    "\n",
    "sides = 4\n",
    "dimensions = 3\n",
    "((sides + 2) ** dimensions - sides**dimensions) / 2"
   ]
  },
  {
   "cell_type": "code",
   "execution_count": null,
   "metadata": {},
   "outputs": [],
   "source": [
    "(sides**dimensions - (sides - 1) ^ dimensions)"
   ]
  },
  {
   "cell_type": "code",
   "execution_count": null,
   "metadata": {},
   "outputs": [],
   "source": [
    "n = 2\n",
    "n * 3 ** (n - 1)"
   ]
  },
  {
   "cell_type": "code",
   "execution_count": null,
   "metadata": {},
   "outputs": [],
   "source": [
    "(5**dimensions - 3**dimensions) / 2.0"
   ]
  },
  {
   "cell_type": "code",
   "execution_count": null,
   "metadata": {},
   "outputs": [],
   "source": [
    "from itertools import combinations, permutations\n",
    "from typing import List\n",
    "import numpy as np\n",
    "\n",
    "board_size = 5\n",
    "board_dimensions = 4\n",
    "check_sum = ((board_size + 2) ** board_dimensions - board_size**board_dimensions) // 2\n",
    "\n",
    "array = np.arange(board_size**board_dimensions).reshape(board_size, *([board_size] * (board_dimensions - 1)))\n",
    "\n",
    "\n",
    "def reshape(array: np.ndarray, size, = board_size):\n",
    "    reshape = np.prod(array.shape) // (size)\n",
    "    result = array.reshape(reshape, size)\n",
    "    return result\n",
    "\n",
    "\n",
    "def generate_diagonals(array: np.ndarray) -> np.ndarray:\n",
    "    result = []\n",
    "    board = array.copy()\n",
    "    axes = list(permutations(range(len(array.shape)), 2))\n",
    "    while axes:\n",
    "        diagonals = reshape(np.diagonal(board))\n",
    "        result.extend(diagonals.tolist())\n",
    "        if len(diagonals) == board_size:\n",
    "            diagonals = generate_diagonals(np.array(diagonals))\n",
    "            result.extend(diagonals)\n",
    "        array = np.rot90(board, axes=axes.pop())\n",
    "\n",
    "    return result  # type: ignore\n",
    "\n",
    "\n",
    "result = []\n",
    "board = array.copy()\n",
    "axes = list(permutations(range(board_dimensions), 2))\n",
    "while axes:\n",
    "    result.extend(reshape(board).tolist())\n",
    "    diags = generate_diagonals(board)\n",
    "    result.extend(diags)\n",
    "    board = np.rot90(array, axes=axes.pop())\n",
    "\n",
    "\n",
    "print(f\"{array=}\")\n",
    "\n",
    "result = set(tuple(sorted(item)) for item in result)\n",
    "\n",
    "print(result)\n",
    "print(f\"{check_sum == len(result)}, {check_sum = }, {len(result) = }\")"
   ]
  },
  {
   "cell_type": "code",
   "execution_count": null,
   "metadata": {},
   "outputs": [],
   "source": [
    "print(np.array([0, 4, 8]).shape)\n",
    "print(np.array([[0, 4, 8]]).shape)"
   ]
  },
  {
   "cell_type": "code",
   "execution_count": null,
   "metadata": {},
   "outputs": [],
   "source": [
    "from itertools import combinations, permutations\n",
    "from typing import List\n",
    "import numpy as np\n",
    "\n",
    "board_size = 3\n",
    "board_dimensions = 3\n",
    "check_sum = ((board_size + 2) ** board_dimensions - board_size**board_dimensions) // 2\n",
    "\n",
    "array = np.arange(board_size**board_dimensions).reshape(board_size, *([board_size] * (board_dimensions - 1)))\n",
    "\n",
    "print(array, sep=\"\\n\")"
   ]
  },
  {
   "cell_type": "code",
   "execution_count": null,
   "metadata": {},
   "outputs": [],
   "source": [
    "print(array)\n",
    "print()\n",
    "\n",
    "\n",
    "def reshape(array: np.ndarray, size, = board_size):\n",
    "    reshape = np.prod(array.shape) // (size)\n",
    "    result = array.reshape(reshape, size)\n",
    "    return result\n",
    "\n",
    "\n",
    "def generate_diagonals(array: np.ndarray) -> np.ndarray:\n",
    "    result = []\n",
    "    diags = []\n",
    "    axes = list(permutations(range(len(array.shape)), 2))\n",
    "    while axes:\n",
    "        axis = axes.pop()\n",
    "        tmp = array.copy()\n",
    "        while True:\n",
    "            diags.extend(reshape(np.diagonal(tmp)).tolist())\n",
    "            result.extend(diags)\n",
    "            if len(diags) == board_size:\n",
    "                diags.extend(reshape(np.diagonal(diags)).tolist())\n",
    "                result.extend(diags)\n",
    "            tmp = np.rot90(tmp, axes=axis)\n",
    "            if np.array_equal(tmp, array):\n",
    "                break\n",
    "\n",
    "    tmp = set(tuple(sorted(item)) for item in diags)\n",
    "    print(f\"{tmp=}\")\n",
    "    return result  # type: ignore\n",
    "\n",
    "\n",
    "result = []\n",
    "axes = list(combinations(range(board_dimensions), 2))\n",
    "while axes:\n",
    "    axis = axes.pop()\n",
    "    print(axis)\n",
    "    tmp = array.copy()\n",
    "    print(tmp)\n",
    "    while True:\n",
    "        result.extend(reshape(tmp).tolist())\n",
    "        result.extend(generate_diagonals(tmp))\n",
    "        tmp = np.rot90(tmp, axes=axis)\n",
    "        if np.array_equal(tmp, array):\n",
    "            break\n",
    "\n",
    "result = set(tuple(sorted(item)) for item in result)\n",
    "\n",
    "print(f\"{check_sum == len(result)}, {check_sum = }, {len(result) = }\")"
   ]
  },
  {
   "cell_type": "code",
   "execution_count": null,
   "metadata": {},
   "outputs": [],
   "source": [
    "data = np.array(\n",
    "    [\n",
    "        [[[1, 2, 3], [4, 5, 6], [7, 8, 9]], [[10, 20, 30], [40, 50, 60], [70, 80, 90]]],\n",
    "        [\n",
    "            [[100, 200, 300], [400, 500, 600], [700, 800, 900]],\n",
    "            [[1000, 2000, 3000], [4000, 5000, 6000], [7000, 8000, 9000]],\n",
    "        ],\n",
    "    ]\n",
    ")\n",
    "\n",
    "print(data)\n",
    "print(data.reshape(-1, 3))\n",
    "print(data.reshape(-1, 3).tolist())\n",
    "print(data.reshape(-1, 2).tolist())"
   ]
  },
  {
   "cell_type": "code",
   "execution_count": null,
   "metadata": {},
   "outputs": [],
   "source": [
    "tuple(set(range(3**2)) ^ {5, 4, 6})"
   ]
  },
  {
   "cell_type": "code",
   "execution_count": null,
   "metadata": {},
   "outputs": [],
   "source": [
    "import requests\n",
    "\n",
    "response = requests.get(\"https://itunes.apple.com/search?entity=song&limit=1&term=\")"
   ]
  },
  {
   "cell_type": "code",
   "execution_count": null,
   "metadata": {},
   "outputs": [],
   "source": [
    "length = 2\n",
    "\n",
    "\n",
    "def get_expected(length,, inception,):\n",
    "    if inception == 0:\n",
    "        return tuple(range(length))\n",
    "\n",
    "    return {key: get_expected(length, inception - 1) for key in range(length)}\n",
    "\n",
    "\n",
    "get_expected(4, 2)"
   ]
  },
  {
   "cell_type": "code",
   "execution_count": null,
   "metadata": {},
   "outputs": [],
   "source": [
    "import csv\n",
    "import os\n",
    "from tabulate import tabulate\n",
    "\n",
    "print(os.getcwd())\n",
    "with open(\"test.csv\") as csvfile:\n",
    "    reader: csv.DictReader = csv.DictReader(csvfile)\n",
    "    print(type(reader.fieldnames))\n",
    "    table = tabulate(reader, headers=reader.fieldnames, tablefmt=\"grid\")\n",
    "    print(table)"
   ]
  },
  {
   "cell_type": "code",
   "execution_count": null,
   "metadata": {},
   "outputs": [],
   "source": [
    "a=1\n",
    "b=-11\n",
    "if (a+b) ccd< a:\n",
    "    print(\"Nope!\")"
   ]
  },
  {
   "cell_type": "code",
   "execution_count": null,
   "metadata": {},
   "outputs": [],
   "source": [
    "class Something:\n",
    "    def __init__(self, name: str = \"Groot\") -> None:\n",
    "        self._name = name\n",
    "\n",
    "    @property\n",
    "    def name(self) -> str:\n",
    "        return self._name\n",
    "\n",
    "    def hi(self) -> None:\n",
    "        return f\"I am {self._name}...\""
   ]
  },
  {
   "cell_type": "code",
   "execution_count": null,
   "metadata": {},
   "outputs": [],
   "source": [
    "groot = Something()\n",
    "groot.name = \"not a groot\"  # there is no setter\n",
    "print(groot.hi())"
   ]
  },
  {
   "cell_type": "code",
   "execution_count": null,
   "metadata": {},
   "outputs": [],
   "source": [
    "groot = Something()\n",
    "groot._name = \"not a groot\"  # but I do not really need it ;)\n",
    "print(groot.hi())"
   ]
  },
  {
   "cell_type": "code",
   "execution_count": null,
   "metadata": {},
   "outputs": [],
   "source": [
    "raise ValueError(\"test\")"
   ]
  },
  {
   "cell_type": "code",
   "execution_count": 2,
   "metadata": {},
   "outputs": [
    {
     "name": "stdout",
     "output_type": "stream",
     "text": [
      "=== Length: 5: ===\n",
      "\tsum = 800,384\t\ts_hash = 800,384\t\ts_hash_progressive = 800,384\n",
      "\tsum< UINT_MAX = True\t\ts_hash< UINT_MAX = True\n",
      "\tsum< ULONG_MAX = True\t\ts_hash< ULONG_MAX = True\n",
      "\tsum< ULLONG_MAX = True\t\ts_hash< ULLONG_MAX = True\n",
      "\ts_hash*8 = 6,403,072\n",
      "=== Length: 6: ===\n",
      "\tsum = 24,811,930\t\ts_hash = 4,811,892\t\ts_hash_progressive = 4,811,892\n",
      "\tsum< UINT_MAX = True\t\ts_hash< UINT_MAX = True\n",
      "\tsum< ULONG_MAX = True\t\ts_hash< ULONG_MAX = True\n",
      "\tsum< ULLONG_MAX = True\t\ts_hash< ULLONG_MAX = True\n",
      "\ts_hash*8 = 38,495,136\n",
      "=== Length: 7: ===\n",
      "\tsum = 769,169,856\t\ts_hash = 9,168,412\t\ts_hash_progressive = 9,168,412\n",
      "\tsum< UINT_MAX = True\t\ts_hash< UINT_MAX = True\n",
      "\tsum< ULONG_MAX = True\t\ts_hash< ULONG_MAX = True\n",
      "\tsum< ULLONG_MAX = True\t\ts_hash< ULLONG_MAX = True\n",
      "\ts_hash*8 = 73,347,296\n",
      "=== Length: 8: ===\n",
      "\tsum = 23,844,265,562\t\ts_hash = 4,220,266\t\ts_hash_progressive = 4,220,266\n",
      "\tsum< UINT_MAX = False\t\ts_hash< UINT_MAX = True\n",
      "\tsum< ULONG_MAX = False\t\ts_hash< ULONG_MAX = True\n",
      "\tsum< ULLONG_MAX = True\t\ts_hash< ULLONG_MAX = True\n",
      "\ts_hash*8 = 33,762,128\n",
      "=== Length: 9: ===\n",
      "\tsum = 739,172,232,448\t\ts_hash = 828,025\t\ts_hash_progressive = 828,025\n",
      "\tsum< UINT_MAX = False\t\ts_hash< UINT_MAX = True\n",
      "\tsum< ULONG_MAX = False\t\ts_hash< ULONG_MAX = True\n",
      "\tsum< ULLONG_MAX = True\t\ts_hash< ULLONG_MAX = True\n",
      "\ts_hash*8 = 6,624,200\n",
      "=== Length: 10: ===\n",
      "\tsum = 22,914,339,205,914\t\ts_hash = 5,668,763\t\ts_hash_progressive = 5,668,763\n",
      "\tsum< UINT_MAX = False\t\ts_hash< UINT_MAX = True\n",
      "\tsum< ULONG_MAX = False\t\ts_hash< ULONG_MAX = True\n",
      "\tsum< ULLONG_MAX = True\t\ts_hash< ULLONG_MAX = True\n",
      "\ts_hash*8 = 45,350,104\n",
      "=== Length: 11: ===\n",
      "\tsum = 710,344,515,383,360\t\ts_hash = 5,731,356\t\ts_hash_progressive = 5,731,356\n",
      "\tsum< UINT_MAX = False\t\ts_hash< UINT_MAX = True\n",
      "\tsum< ULONG_MAX = False\t\ts_hash< ULONG_MAX = True\n",
      "\tsum< ULLONG_MAX = True\t\ts_hash< ULLONG_MAX = True\n",
      "\ts_hash*8 = 45,850,848\n",
      "=== Length: 12: ===\n",
      "\tsum = 22,020,679,976,884,186\t\ts_hash = 7,671,739\t\ts_hash_progressive = 7,671,739\n",
      "\tsum< UINT_MAX = False\t\ts_hash< UINT_MAX = True\n",
      "\tsum< ULONG_MAX = False\t\ts_hash< ULONG_MAX = True\n",
      "\tsum< ULLONG_MAX = True\t\ts_hash< ULLONG_MAX = True\n",
      "\ts_hash*8 = 61,373,912\n",
      "=== Length: 13: ===\n",
      "\tsum = 682,641,079,283,409,792\t\ts_hash = 7,823,498\t\ts_hash_progressive = 7,823,498\n",
      "\tsum< UINT_MAX = False\t\ts_hash< UINT_MAX = True\n",
      "\tsum< ULONG_MAX = False\t\ts_hash< ULONG_MAX = True\n",
      "\tsum< ULLONG_MAX = True\t\ts_hash< ULLONG_MAX = True\n",
      "\ts_hash*8 = 62,587,984\n",
      "=== Length: 14: ===\n",
      "\tsum = 21,161,873,457,785,703,578\t\ts_hash = 2,528,008\t\ts_hash_progressive = 2,528,008\n",
      "\tsum< UINT_MAX = False\t\ts_hash< UINT_MAX = True\n",
      "\tsum< ULONG_MAX = False\t\ts_hash< ULONG_MAX = True\n",
      "\tsum< ULLONG_MAX = False\t\ts_hash< ULLONG_MAX = True\n",
      "\ts_hash*8 = 20,224,064\n",
      "=== Length: 15: ===\n",
      "\tsum = 656,018,077,191,356,810,944\t\ts_hash = 8,368,141\t\ts_hash_progressive = 8,368,141\n",
      "\tsum< UINT_MAX = False\t\ts_hash< UINT_MAX = True\n",
      "\tsum< ULONG_MAX = False\t\ts_hash< ULONG_MAX = True\n",
      "\tsum< ULLONG_MAX = False\t\ts_hash< ULLONG_MAX = True\n",
      "\ts_hash*8 = 66,945,128\n",
      "=== Length: 16: ===\n",
      "\tsum = 20,336,560,392,932,061,139,290\t\ts_hash = 9,411,922\t\ts_hash_progressive = 9,411,922\n",
      "\tsum< UINT_MAX = False\t\ts_hash< UINT_MAX = True\n",
      "\tsum< ULONG_MAX = False\t\ts_hash< ULONG_MAX = True\n",
      "\tsum< ULLONG_MAX = False\t\ts_hash< ULLONG_MAX = True\n",
      "\ts_hash*8 = 75,295,376\n",
      "=== Length: 17: ===\n",
      "\tsum = 630,433,372,180,893,895,318,016\t\ts_hash = 1,769,057\t\ts_hash_progressive = 1,769,057\n",
      "\tsum< UINT_MAX = False\t\ts_hash< UINT_MAX = True\n",
      "\tsum< ULONG_MAX = False\t\ts_hash< ULONG_MAX = True\n",
      "\tsum< ULLONG_MAX = False\t\ts_hash< ULLONG_MAX = True\n",
      "\ts_hash*8 = 14,152,456\n",
      "=== Length: 18: ===\n",
      "\tsum = 19,543,434,537,607,710,754,858,522\t\ts_hash = 4,840,698\t\ts_hash_progressive = 4,840,698\n",
      "\tsum< UINT_MAX = False\t\ts_hash< UINT_MAX = True\n",
      "\tsum< ULONG_MAX = False\t\ts_hash< ULONG_MAX = True\n",
      "\tsum< ULLONG_MAX = False\t\ts_hash< ULLONG_MAX = True\n",
      "\ts_hash*8 = 38,725,584\n",
      "=== Length: 19: ===\n",
      "\tsum = 605,846,470,665,839,033,400,614,208\t\ts_hash = 61,379\t\ts_hash_progressive = 61,379\n",
      "\tsum< UINT_MAX = False\t\ts_hash< UINT_MAX = True\n",
      "\tsum< ULONG_MAX = False\t\ts_hash< ULONG_MAX = True\n",
      "\tsum< ULLONG_MAX = False\t\ts_hash< ULLONG_MAX = True\n",
      "\ts_hash*8 = 491,032\n"
     ]
    }
   ],
   "source": [
    "from itertools import permutations\n",
    "import string\n",
    "\n",
    "test = \"z\" * 10\n",
    "\n",
    "UINT_MAX = 4294967295\n",
    "ULONG_MAX = 4294967295\n",
    "ULLONG_MAX = 18446744073709551615\n",
    "\n",
    "\n",
    "def hash(s: str, p=31, m=10000019):\n",
    "    # print(s)\n",
    "    pow = 0\n",
    "    p_pow = 1\n",
    "    sum = 0\n",
    "    sum_res = 0\n",
    "    for c in s[::-1]:\n",
    "        # print(f\"{c}={ord(c)}\")\n",
    "        if c != \"'\":\n",
    "            char_val = ord(c) - ord('a') + 1\n",
    "            # print(f\"{(p_pow * p) = }\\t{p_pow = }\\t{p**pow = }\")\n",
    "            # print(f\"{c}: {char_val = }\")\n",
    "            sum += char_val * (p**pow)\n",
    "            sum_res = (sum_res + char_val * (p**pow)) % m\n",
    "            p_pow = (p_pow * p) % m\n",
    "            pow += 1\n",
    "    result = sum % m\n",
    "    return sum, result, sum_res\n",
    "\n",
    "\n",
    "def hash_max(length:int):\n",
    "    str = string.ascii_lowercase+\"'\"\n",
    "    perms = permutations(str, length)\n",
    "    perms_iter = iter(perms)\n",
    "    max_val = 0\n",
    "    max_test = \"\"\n",
    "    for perm in perms_iter:\n",
    "        test = \"\".join(perm)\n",
    "        s_hash = hash(test)[1]\n",
    "        max_val = max_val if max_val> s_hash else s_hash\n",
    "        max_test = max_test if max_val> s_hash else test\n",
    "    print(f\"{max_test}: {max_val}\")\n",
    "\n",
    "for i in range(5, 20):\n",
    "    print(f\"=== Length: {i}: ===\")\n",
    "    tst = \"z\" * (i-1)+\"'\"\n",
    "    # tst = \"z\" * (i)\n",
    "    # tst = \"z\" + \"'\"* (i-1)\n",
    "    sum, s_hash, s_hash_progressive = hash(tst)\n",
    "    print(f\"\\t{sum = :,}\\t\\t{s_hash = :,}\\t\\t{s_hash_progressive = :,}\")\n",
    "    print(f\"\\t{sum< UINT_MAX = }\\t\\t{s_hash< UINT_MAX = }\")\n",
    "    print(f\"\\t{sum< ULONG_MAX = }\\t\\t{s_hash< ULONG_MAX = }\")\n",
    "    print(f\"\\t{sum< ULLONG_MAX = }\\t\\t{s_hash< ULLONG_MAX = }\")\n",
    "    print(f\"\\t{s_hash*8 = :,}\")"
   ]
  },
  {
   "cell_type": "code",
   "execution_count": null,
   "metadata": {},
   "outputs": [],
   "source": [
    "from itertools import permutations\n",
    "import string\n",
    "\n",
    "UINT_MAX = 4294967295\n",
    "ULONG_MAX = 4294967295\n",
    "ULLONG_MAX = 18446744073709551615\n",
    "\n",
    "str = string.ascii_lowercase+\"'\"\n",
    "perms = permutations(str, 8)\n",
    "perms_iter = iter(perms)\n",
    "print(\"\".join(next(perms_iter)))"
   ]
  },
  {
   "cell_type": "code",
   "execution_count": 11,
   "metadata": {},
   "outputs": [
    {
     "name": "stdout",
     "output_type": "stream",
     "text": [
      "0 :: 1 : pp < UINT_MAX =True : pp < ULONG_MAX = True : pp < ULLONG_MAX =True\n",
      "1 :: 31 : pp < UINT_MAX =True : pp < ULONG_MAX = True : pp < ULLONG_MAX =True\n",
      "2 :: 961 : pp < UINT_MAX =True : pp < ULONG_MAX = True : pp < ULLONG_MAX =True\n",
      "3 :: 29,791 : pp < UINT_MAX =True : pp < ULONG_MAX = True : pp < ULLONG_MAX =True\n",
      "4 :: 923,521 : pp < UINT_MAX =True : pp < ULONG_MAX = True : pp < ULLONG_MAX =True\n",
      "5 :: 28,629,151 : pp < UINT_MAX =True : pp < ULONG_MAX = True : pp < ULLONG_MAX =True\n",
      "6 :: 887,503,681 : pp < UINT_MAX =True : pp < ULONG_MAX = True : pp < ULLONG_MAX =True\n",
      "7 :: 27,512,614,111 : pp < UINT_MAX =False : pp < ULONG_MAX = False : pp < ULLONG_MAX =True\n",
      "8 :: 852,891,037,441 : pp < UINT_MAX =False : pp < ULONG_MAX = False : pp < ULLONG_MAX =True\n",
      "9 :: 26,439,622,160,671 : pp < UINT_MAX =False : pp < ULONG_MAX = False : pp < ULLONG_MAX =True\n",
      "10 :: 819,628,286,980,801 : pp < UINT_MAX =False : pp < ULONG_MAX = False : pp < ULLONG_MAX =True\n",
      "11 :: 25,408,476,896,404,831 : pp < UINT_MAX =False : pp < ULONG_MAX = False : pp < ULLONG_MAX =True\n",
      "12 :: 787,662,783,788,549,761 : pp < UINT_MAX =False : pp < ULONG_MAX = False : pp < ULLONG_MAX =True\n",
      "13 :: 24,417,546,297,445,042,591 : pp < UINT_MAX =False : pp < ULONG_MAX = False : pp < ULLONG_MAX =False\n",
      "14 :: 756,943,935,220,796,320,321 : pp < UINT_MAX =False : pp < ULONG_MAX = False : pp < ULLONG_MAX =False\n",
      "15 :: 23,465,261,991,844,685,929,951 : pp < UINT_MAX =False : pp < ULONG_MAX = False : pp < ULLONG_MAX =False\n",
      "16 :: 727,423,121,747,185,263,828,481 : pp < UINT_MAX =False : pp < ULONG_MAX = False : pp < ULLONG_MAX =False\n",
      "17 :: 22,550,116,774,162,743,178,682,911 : pp < UINT_MAX =False : pp < ULONG_MAX = False : pp < ULLONG_MAX =False\n",
      "18 :: 699,053,619,999,045,038,539,170,241 : pp < UINT_MAX =False : pp < ULONG_MAX = False : pp < ULLONG_MAX =False\n",
      "19 :: 21,670,662,219,970,396,194,714,277,471 : pp < UINT_MAX =False : pp < ULONG_MAX = False : pp < ULLONG_MAX =False\n"
     ]
    }
   ],
   "source": [
    "p_pow=1\n",
    "p=31\n",
    "def get_ppow(len:int, p_pow=1, p=31):\n",
    "    while len > 0:\n",
    "        yield p_pow\n",
    "        p_pow = (p_pow * p)\n",
    "        len-=1\n",
    "\n",
    "for idx, pp in enumerate(get_ppow(20)):\n",
    "    print(f\"{idx} :: {pp:,} : {pp < UINT_MAX =} : {pp < ULONG_MAX = } : {pp < ULLONG_MAX =}\")    \n"
   ]
  },
  {
   "cell_type": "code",
   "execution_count": 14,
   "metadata": {},
   "outputs": [
    {
     "name": "stdout",
     "output_type": "stream",
     "text": [
      "10,000,000 : m < UINT_MAX =True : m < ULONG_MAX = True : m < ULLONG_MAX =True\n",
      "1,048,576 : m < UINT_MAX =True : m < ULONG_MAX = True : m < ULLONG_MAX =True\n",
      "1,048,576 : m < UINT_MAX =True : m < ULONG_MAX = True : m < ULLONG_MAX =True\n",
      "524,288 : m < UINT_MAX =True : m < ULONG_MAX = True : m < ULLONG_MAX =True\n",
      "262,144 : m < UINT_MAX =True : m < ULONG_MAX = True : m < ULLONG_MAX =True\n"
     ]
    }
   ],
   "source": [
    "UINT_MAX = 4294967295\n",
    "ULONG_MAX = 4294967295\n",
    "ULLONG_MAX = 18446744073709551615\n",
    "\n",
    "m=(10**7)\n",
    "print(f\"{m:,} : {m < UINT_MAX =} : {m < ULONG_MAX = } : {m < ULLONG_MAX =}\") \n",
    "m=(2**20)\n",
    "print(f\"{m:,} : {m < UINT_MAX =} : {m < ULONG_MAX = } : {m < ULLONG_MAX =}\") \n",
    "\n",
    "m=(2**19)\n",
    "print(f\"{m:,} : {m < UINT_MAX =} : {m < ULONG_MAX = } : {m < ULLONG_MAX =}\") \n",
    "m=(2**18)\n",
    "print(f\"{m:,} : {m < UINT_MAX =} : {m < ULONG_MAX = } : {m < ULLONG_MAX =}\") "
   ]
  },
  {
   "cell_type": "code",
   "execution_count": 11,
   "metadata": {},
   "outputs": [
    {
     "name": "stdout",
     "output_type": "stream",
     "text": [
      "is_valid(1, accept) = False\n",
      "is_valid(10, accept) = True\n",
      "is_valid(11, accept) = False\n",
      "is_valid(210, accept) = False\n",
      "is_valid(20, accept) = True\n",
      "is_valid(30, accept) = True\n"
     ]
    }
   ],
   "source": [
    "accept = (10, 20 , 30)\n",
    "\n",
    "def is_valid(x,, accept: tuple):\n",
    "    return (x in accept)\n",
    "\n",
    "print(f\"{is_valid(1, accept) = }\")\n",
    "print(f\"{is_valid(10, accept) = }\")\n",
    "print(f\"{is_valid(11, accept) = }\")\n",
    "print(f\"{is_valid(210, accept) = }\")\n",
    "print(f\"{is_valid(20, accept) = }\")\n",
    "print(f\"{is_valid(30, accept) = }\")"
   ]
  },
  {
   "cell_type": "code",
   "execution_count": 16,
   "metadata": {},
   "outputs": [
    {
     "name": "stdout",
     "output_type": "stream",
     "text": [
      "type(sys.exit)=<class 'builtin_function_or_method'>\n",
      "isinstance(sys.exit, Callable)=True\n",
      "isinstance(sys.exit, abc_Callable)=True\n"
     ]
    }
   ],
   "source": [
    "from collections.abc import Callable as abc_Callable\n",
    "import sys\n",
    "from typing import Callable\n",
    "\n",
    "print(f\"{type(sys.exit)=}\")\n",
    "print(f\"{isinstance(sys.exit, Callable)=}\")\n",
    "print(f\"{isinstance(sys.exit, abc_Callable)=}\")\n"
   ]
  },
  {
   "cell_type": "code",
   "execution_count": 27,
   "metadata": {},
   "outputs": [
    {
     "name": "stdout",
     "output_type": "stream",
     "text": [
      "type(print)=<class 'builtin_function_or_method'>\n",
      "isinstance(print, Callable)=True\n",
      "isinstance(print, abc_Callable)=True\n",
      "print.__class__.__base__=<class 'object'>\n",
      "type(object)=<class 'type'>\n",
      "isinstance(object, Callable)=True\n",
      "isinstance(object, abc_Callable)=True\n",
      "object.__class__.__bases__=(<class 'object'>,)\n"
     ]
    }
   ],
   "source": [
    "from collections.abc import Callable as abc_Callable\n",
    "import sys\n",
    "from typing import Callable\n",
    "\n",
    "print(f\"{type(print)=}\")\n",
    "print(f\"{isinstance(print, Callable)=}\")\n",
    "print(f\"{isinstance(print, abc_Callable)=}\")\n",
    "print(f\"{print.__class__.__base__=}\")\n",
    "\n",
    "print(f\"{type(object)=}\")\n",
    "print(f\"{isinstance(object, Callable)=}\")\n",
    "print(f\"{isinstance(object, abc_Callable)=}\")\n",
    "print(f\"{object.__class__.__bases__=}\")\n"
   ]
  },
  {
   "cell_type": "code",
   "execution_count": 35,
   "metadata": {},
   "outputs": [
    {
     "data": {
      "text/plain": [
       "False"
      ]
     },
     "execution_count": 35,
     "metadata": {},
     "output_type": "execute_result"
    }
   ],
   "source": [
    "s = \"ABS00.10\"\n",
    "index = s.index('0')\n",
    "s[-index:]\n",
    "s[-index:].isalnum()"
   ]
  },
  {
   "cell_type": "code",
   "execution_count": 6,
   "metadata": {},
   "outputs": [
    {
     "name": "stdout",
     "output_type": "stream",
     "text": [
      "os.EX_OK=0\n",
      "os.EX_USAGE=64\n",
      "os.EX_DATAERR=65\n",
      "os.EX_NOINPUT=66\n",
      "os.EX_NOUSER=67\n",
      "os.EX_NOHOST=68\n",
      "os.EX_UNAVAILABLE=69\n",
      "os.EX_SOFTWARE=70\n",
      "os.EX_OSERR=71\n",
      "os.EX_OSFILE=72\n",
      "os.EX_CANTCREAT=73\n",
      "os.EX_IOERR=74\n",
      "os.EX_TEMPFAIL=75\n",
      "os.EX_PROTOCOL=76\n",
      "os.EX_NOPERM=77\n",
      "os.EX_CONFIG=78\n"
     ]
    }
   ],
   "source": [
    "import os\n",
    "import sys\n",
    "# sys.exit(os.EX_OSERR)\n",
    "\n",
    "print(f\"{os.EX_OK=}\")\n",
    "print(f\"{os.EX_USAGE=}\")\n",
    "print(f\"{os.EX_DATAERR=}\")\n",
    "print(f\"{os.EX_NOINPUT=}\")\n",
    "print(f\"{os.EX_NOUSER=}\")\n",
    "print(f\"{os.EX_NOHOST=}\")\n",
    "print(f\"{os.EX_UNAVAILABLE=}\")\n",
    "print(f\"{os.EX_SOFTWARE=}\")\n",
    "print(f\"{os.EX_OSERR=}\")\n",
    "print(f\"{os.EX_OSFILE=}\")\n",
    "print(f\"{os.EX_CANTCREAT=}\")\n",
    "print(f\"{os.EX_IOERR=}\")\n",
    "print(f\"{os.EX_TEMPFAIL=}\")\n",
    "print(f\"{os.EX_PROTOCOL=}\")\n",
    "print(f\"{os.EX_NOPERM=}\")\n",
    "print(f\"{os.EX_CONFIG=}\")\n"
   ]
  },
  {
   "cell_type": "code",
   "execution_count": 2,
   "metadata": {},
   "outputs": [
    {
     "data": {
      "text/plain": [
       "'/home/thenin/mine/3843209/cs50p/file.txt'"
      ]
     },
     "execution_count": 2,
     "metadata": {},
     "output_type": "execute_result"
    }
   ],
   "source": [
    "import os\n",
    "type(os)\n",
    "\n",
    "os.path.abspath(\"file.txt\")"
   ]
  },
  {
   "cell_type": "code",
   "execution_count": 9,
   "metadata": {},
   "outputs": [
    {
     "name": "stdout",
     "output_type": "stream",
     "text": [
      "/home/thenin/mine/3843209/cs50p/scratch.ipynb\n"
     ]
    },
    {
     "ename": "TypeError",
     "evalue": "unsupported operand type(s) for /: 'NoneType' and 'str'",
     "output_type": "error",
     "traceback": [
      "\u001b[0;31m---------------------------------------------------------------------------\u001b[0m",
      "\u001b[0;31mTypeError\u001b[0m                                 Traceback (most recent call last)",
      "Cell \u001b[0;32mIn[9], line 4\u001b[0m\n\u001b[1;32m      2\u001b[0m \u001b[38;5;28;01mimport\u001b[39;00m \u001b[38;5;21;01mos\u001b[39;00m\n\u001b[1;32m      3\u001b[0m \u001b[38;5;28mprint\u001b[39m(os\u001b[38;5;241m.\u001b[39mpath\u001b[38;5;241m.\u001b[39mabspath(\u001b[38;5;124m\"\u001b[39m\u001b[38;5;124mscratch.ipynb\u001b[39m\u001b[38;5;124m\"\u001b[39m))\n\u001b[0;32m----> 4\u001b[0m \u001b[43mcheck50\u001b[49m\u001b[38;5;241;43m.\u001b[39;49m\u001b[43minclude\u001b[49m\u001b[43m(\u001b[49m\u001b[38;5;124;43mf\u001b[39;49m\u001b[38;5;124;43m\"\u001b[39;49m\u001b[38;5;124;43mscratch.ipynb\u001b[39;49m\u001b[38;5;124;43m\"\u001b[39;49m\u001b[43m)\u001b[49m\n",
      "File \u001b[0;32m~/.pyenv/versions/3.12.4/lib/python3.12/site-packages/check50/_api.py:67\u001b[0m, in \u001b[0;36minclude\u001b[0;34m(*paths)\u001b[0m\n\u001b[1;32m     65\u001b[0m cwd \u001b[38;5;241m=\u001b[39m os\u001b[38;5;241m.\u001b[39mgetcwd()\n\u001b[1;32m     66\u001b[0m \u001b[38;5;28;01mfor\u001b[39;00m path \u001b[38;5;129;01min\u001b[39;00m paths:\n\u001b[0;32m---> 67\u001b[0m     _copy((\u001b[43minternal\u001b[49m\u001b[38;5;241;43m.\u001b[39;49m\u001b[43mcheck_dir\u001b[49m\u001b[43m \u001b[49m\u001b[38;5;241;43m/\u001b[39;49m\u001b[43m \u001b[49m\u001b[43mpath\u001b[49m)\u001b[38;5;241m.\u001b[39mresolve(), cwd)\n",
      "\u001b[0;31mTypeError\u001b[0m: unsupported operand type(s) for /: 'NoneType' and 'str'"
     ]
    }
   ],
   "source": [
    "import check50\n",
    "import os\n",
    "print(os.path.abspath(\"scratch.ipynb\"))\n",
    "check50.include(f\"scratch.ipynb\")"
   ]
  },
  {
   "cell_type": "code",
   "execution_count": null,
   "metadata": {},
   "outputs": [],
   "source": []
  }
 ],
 "metadata": {
  "kernelspec": {
   "display_name": "Python 3",
   "language": "python",
   "name": "python3"
  },
  "language_info": {
   "codemirror_mode": {
    "name": "ipython",
    "version": 3
   },
   "file_extension": ".py",
   "mimetype": "text/x-python",
   "name": "python",
   "nbconvert_exporter": "python",
   "pygments_lexer": "ipython3",
   "version": "3.12.4"
  }
 },
 "nbformat": 4,
 "nbformat_minor": 2
}
