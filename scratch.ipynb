{
 "cells": [
  {
   "cell_type": "code",
   "execution_count": 11,
   "metadata": {},
   "outputs": [
    {
     "name": "stdout",
     "output_type": "stream",
     "text": [
      "E\n",
      "0%\n"
     ]
    }
   ],
   "source": [
    "percent = 0\n",
    "\n",
    "if(percent<=1):     # first `if`` checks if percent is less than 1\n",
    "    print(\"E\")\n",
    "\n",
    "if(percent>=99):    # second `if` checks if percent is larger than 99\n",
    "    print(\"F\")\n",
    "else:               # else print percentage value\n",
    "    print(str(percent)+\"%\")"
   ]
  },
  {
   "cell_type": "code",
   "execution_count": null,
   "metadata": {},
   "outputs": [],
   "source": []
  },
  {
   "cell_type": "code",
   "execution_count": 7,
   "metadata": {},
   "outputs": [
    {
     "name": "stdout",
     "output_type": "stream",
     "text": [
      "E\n"
     ]
    }
   ],
   "source": [
    "percent = 0\n",
    "\n",
    "if(percent<=1):     # if percent is less than 1\n",
    "    print(\"E\")\n",
    "elif(percent>=99):  # else, if percent is larger than 99\n",
    "    print(\"F\")\n",
    "else:               # else print percentage value\n",
    "    print(str(percent)+\"%\")"
   ]
  },
  {
   "cell_type": "code",
   "execution_count": 21,
   "metadata": {},
   "outputs": [
    {
     "ename": "TypeError",
     "evalue": "unsupported operand type(s) for /: 'str' and 'int'",
     "output_type": "error",
     "traceback": [
      "\u001b[0;31m---------------------------------------------------------------------------\u001b[0m",
      "\u001b[0;31mTypeError\u001b[0m                                 Traceback (most recent call last)",
      "Cell \u001b[0;32mIn[21], line 5\u001b[0m\n\u001b[1;32m      2\u001b[0m     hours, minutes \u001b[38;5;241m=\u001b[39m time\u001b[38;5;241m.\u001b[39msplit(\u001b[38;5;124m\"\u001b[39m\u001b[38;5;124m:\u001b[39m\u001b[38;5;124m\"\u001b[39m)\n\u001b[1;32m      3\u001b[0m     \u001b[38;5;28;01mreturn\u001b[39;00m \u001b[38;5;28mround\u001b[39m(\u001b[38;5;28mfloat\u001b[39m(hours \u001b[38;5;241m+\u001b[39m minutes \u001b[38;5;241m/\u001b[39m \u001b[38;5;241m60\u001b[39m), \u001b[38;5;241m2\u001b[39m)\n\u001b[0;32m----> 5\u001b[0m \u001b[38;5;28mprint\u001b[39m(\u001b[43mconvert\u001b[49m\u001b[43m(\u001b[49m\u001b[38;5;124;43m\"\u001b[39;49m\u001b[38;5;124;43m7:30\u001b[39;49m\u001b[38;5;124;43m\"\u001b[39;49m\u001b[43m)\u001b[49m)\n\u001b[1;32m      6\u001b[0m \u001b[38;5;66;03m# print(float(\"30\"/60))\u001b[39;00m\n",
      "Cell \u001b[0;32mIn[21], line 3\u001b[0m, in \u001b[0;36mconvert\u001b[0;34m(time)\u001b[0m\n\u001b[1;32m      1\u001b[0m \u001b[38;5;28;01mdef\u001b[39;00m \u001b[38;5;21mconvert\u001b[39m(time: \u001b[38;5;28mstr\u001b[39m):\n\u001b[1;32m      2\u001b[0m     hours, minutes \u001b[38;5;241m=\u001b[39m time\u001b[38;5;241m.\u001b[39msplit(\u001b[38;5;124m\"\u001b[39m\u001b[38;5;124m:\u001b[39m\u001b[38;5;124m\"\u001b[39m)\n\u001b[0;32m----> 3\u001b[0m     \u001b[38;5;28;01mreturn\u001b[39;00m \u001b[38;5;28mround\u001b[39m(\u001b[38;5;28mfloat\u001b[39m(hours \u001b[38;5;241m+\u001b[39m \u001b[43mminutes\u001b[49m\u001b[43m \u001b[49m\u001b[38;5;241;43m/\u001b[39;49m\u001b[43m \u001b[49m\u001b[38;5;241;43m60\u001b[39;49m), \u001b[38;5;241m2\u001b[39m)\n",
      "\u001b[0;31mTypeError\u001b[0m: unsupported operand type(s) for /: 'str' and 'int'"
     ]
    }
   ],
   "source": [
    "def convert(time: str):\n",
    "    hours, minutes = time.split(\":\")\n",
    "    return round(float(hours + minutes / 60), 2)\n",
    "\n",
    "print(convert(\"7:30\"))\n",
    "# print(float(\"30\"/60))"
   ]
  }
 ],
 "metadata": {
  "kernelspec": {
   "display_name": "3843209-3X7VnX2t",
   "language": "python",
   "name": "python3"
  },
  "language_info": {
   "codemirror_mode": {
    "name": "ipython",
    "version": 3
   },
   "file_extension": ".py",
   "mimetype": "text/x-python",
   "name": "python",
   "nbconvert_exporter": "python",
   "pygments_lexer": "ipython3",
   "version": "3.12.3"
  }
 },
 "nbformat": 4,
 "nbformat_minor": 2
}
